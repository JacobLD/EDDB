{
 "cells": [
  {
   "cell_type": "code",
   "execution_count": 11,
   "metadata": {},
   "outputs": [
    {
     "name": "stdout",
     "output_type": "stream",
     "text": [
      "{'_id': ObjectId('5fa7d145d4042274e84f5f3c'), 'id': 28342277, 'station_id': 1, 'commodity_id': 305, 'supply': 0, 'supply_bracket': 0, 'buy_price': 0, 'sell_price': 1838, 'demand': 1388, 'demand_bracket': 3, 'collected_at': 1604188771}\n"
     ]
    }
   ],
   "source": [
    "import pymongo\n",
    "import matplotlib.pyplot as plt\n",
    "import numpy as np\n",
    "\n",
    "client = pymongo.MongoClient(\"mongodb://localhost:27017/\")\n",
    "\n",
    "eddb = client['EDDB']\n",
    "\n",
    "print(eddb['listings'].find_one())"
   ]
  },
  {
   "cell_type": "code",
   "execution_count": 36,
   "metadata": {},
   "outputs": [],
   "source": [
    "# How many systems does each faction control and how many citizens do they have?\n",
    "\n",
    "query = [\n",
    "    {\n",
    "        '$project': {\n",
    "            'allegiance': '$allegiance', \n",
    "            'population': '$population'\n",
    "        }\n",
    "    }, {\n",
    "        '$group': {\n",
    "            '_id': '$allegiance', \n",
    "            'systems_controlled': {\n",
    "                '$sum': 1\n",
    "            }, \n",
    "            'citizens': {\n",
    "                '$sum': '$population'\n",
    "            }\n",
    "        }\n",
    "    }, {\n",
    "        '$match': {\n",
    "            '_id': {\n",
    "                '$ne': None\n",
    "            }\n",
    "        }\n",
    "    }, {\n",
    "        '$match': {\n",
    "            '_id': {\n",
    "                '$ne': 'None'\n",
    "            }\n",
    "        }\n",
    "    }\n",
    "]\n",
    "\n",
    "results = eddb['systems_populated'].aggregate(query)\n",
    "\n",
    "labels = []\n",
    "systems_controlled = []\n",
    "citizens = []\n",
    "\n",
    "for result in results:\n",
    "    labels.append(result['_id'])\n",
    "    systems_controlled.append(result['systems_controlled'])\n",
    "    citizens.append(result['citizens'])\n",
    "\n"
   ]
  },
  {
   "cell_type": "code",
   "execution_count": 39,
   "metadata": {},
   "outputs": [
    {
     "data": {
      "image/png": "[encoded data removed]",
      "text/plain": [
       "<Figure size 432x288 with 1 Axes>"
      ]
     },
     "metadata": {
      "needs_background": "light"
     },
     "output_type": "display_data"
    }
   ],
   "source": [
    "# Plot the data\n",
    "\n",
    "# set width of bar\n",
    "barWidth = 0.25\n",
    " \n",
    "# Set position of bar on X axis\n",
    "r1 = np.arange(len(citizens))\n",
    "r2 = [x + barWidth for x in r1]\n",
    " \n",
    "# Make the plot\n",
    "plt.bar(r1, systems_controlled, color='blue', width=barWidth, edgecolor='white', label='Systems Controlled')\n",
    "plt.bar(r2, [x / 500000000 for x in citizens], color='red', width=barWidth, edgecolor='white', label='Citizens (scaled down 5e8)')\n",
    " \n",
    "# Add xticks on the middle of the group bars\n",
    "plt.xlabel('Allegiance', fontweight='bold')\n",
    "plt.xticks([r + barWidth for r in range(len(citizens))], labels)\n",
    " \n",
    "# Create legend & Show graphic\n",
    "plt.legend()\n",
    "plt.show()\n"
   ]
  },
  {
   "cell_type": "code",
   "execution_count": 73,
   "metadata": {},
   "outputs": [
    {
     "name": "stdout",
     "output_type": "stream",
     "text": [
      "(0.3571428571428571, 0, 0)\n",
      "(0.3571428571428571, 0, 0)\n",
      "(0.3571428571428571, 0, 0)\n",
      "(0.2857142857142857, 0, 0)\n",
      "(0.2857142857142857, 0, 0)\n",
      "(0.3571428571428571, 0, 0)\n",
      "(0.42857142857142855, 0, 0)\n",
      "(0.21428571428571427, 0, 0)\n",
      "(0.3571428571428571, 0, 0)\n",
      "(0.07142857142857142, 0, 0)\n",
      "(0.07142857142857142, 0, 0)\n",
      "(0.42857142857142855, 0, 0)\n",
      "(0.7142857142857142, 0, 0)\n",
      "(0.42857142857142855, 0, 0)\n",
      "(0.42857142857142855, 0, 0)\n",
      "(0.2857142857142857, 0, 0)\n",
      "(0.21428571428571427, 0, 0)\n",
      "(0.2857142857142857, 0, 0)\n",
      "(0.8571428571428571, 0, 0)\n",
      "(0.2857142857142857, 0, 0)\n",
      "(0.7857142857142857, 0, 0)\n",
      "(0.3571428571428571, 0, 0)\n",
      "(0.42857142857142855, 0, 0)\n",
      "(0.14285714285714285, 0, 0)\n",
      "(0.5, 0, 0)\n",
      "(0.8571428571428571, 0, 0)\n",
      "(0.21428571428571427, 0, 0)\n",
      "(0.5, 0, 0)\n",
      "(0.7857142857142857, 0, 0)\n",
      "(0.21428571428571427, 0, 0)\n",
      "(0.2857142857142857, 0, 0)\n",
      "(0.2857142857142857, 0, 0)\n",
      "(0.8571428571428571, 0, 0)\n",
      "(0.42857142857142855, 0, 0)\n",
      "(0.7857142857142857, 0, 0)\n",
      "(0.21428571428571427, 0, 0)\n",
      "(0.07142857142857142, 0, 0)\n",
      "(0.7857142857142857, 0, 0)\n",
      "(0.5714285714285714, 0, 0)\n",
      "(0.5714285714285714, 0, 0)\n",
      "(0.7142857142857142, 0, 0)\n",
      "(1.0, 0, 0)\n",
      "(0.7857142857142857, 0, 0)\n",
      "(0.7857142857142857, 0, 0)\n",
      "(0.5, 0, 0)\n",
      "(0.5714285714285714, 0, 0)\n",
      "(0.5714285714285714, 0, 0)\n",
      "(0.14285714285714285, 0, 0)\n",
      "(0.07142857142857142, 0, 0)\n",
      "(0.5714285714285714, 0, 0)\n",
      "(0.07142857142857142, 0, 0)\n",
      "(0.7857142857142857, 0, 0)\n",
      "(0.42857142857142855, 0, 0)\n",
      "(1.0, 0, 0)\n",
      "(0.42857142857142855, 0, 0)\n",
      "(0.07142857142857142, 0, 0)\n",
      "(0.7857142857142857, 0, 0)\n",
      "(0.5, 0, 0)\n",
      "(0.7857142857142857, 0, 0)\n",
      "(0.7857142857142857, 0, 0)\n",
      "(0.5714285714285714, 0, 0)\n",
      "(0.07142857142857142, 0, 0)\n",
      "(0.5714285714285714, 0, 0)\n",
      "(0.7857142857142857, 0, 0)\n",
      "(0.42857142857142855, 0, 0)\n",
      "(0.2857142857142857, 0, 0)\n",
      "(0.42857142857142855, 0, 0)\n",
      "(0.07142857142857142, 0, 0)\n",
      "(0.2857142857142857, 0, 0)\n",
      "(0.07142857142857142, 0, 0)\n",
      "(0.5714285714285714, 0, 0)\n",
      "(0.42857142857142855, 0, 0)\n",
      "(0.5714285714285714, 0, 0)\n",
      "(0.5714285714285714, 0, 0)\n",
      "(0.42857142857142855, 0, 0)\n",
      "(0.9285714285714285, 0, 0)\n",
      "(1.0, 0, 0)\n",
      "(0.5714285714285714, 0, 0)\n",
      "(0.5, 0, 0)\n",
      "(0.7857142857142857, 0, 0)\n",
      "(1.0, 0, 0)\n",
      "(0.6428571428571428, 0, 0)\n",
      "(0.07142857142857142, 0, 0)\n",
      "(0.6428571428571428, 0, 0)\n",
      "(0.42857142857142855, 0, 0)\n",
      "(0.5714285714285714, 0, 0)\n",
      "(0.42857142857142855, 0, 0)\n",
      "(0.7857142857142857, 0, 0)\n",
      "(0.42857142857142855, 0, 0)\n",
      "(0.42857142857142855, 0, 0)\n",
      "(0.5714285714285714, 0, 0)\n",
      "(0.6428571428571428, 0, 0)\n",
      "(0.6428571428571428, 0, 0)\n",
      "(0.42857142857142855, 0, 0)\n",
      "(0.5714285714285714, 0, 0)\n",
      "(0.5714285714285714, 0, 0)\n",
      "(0.42857142857142855, 0, 0)\n",
      "(0.42857142857142855, 0, 0)\n",
      "(0.6428571428571428, 0, 0)\n",
      "(0.42857142857142855, 0, 0)\n",
      "(0.6428571428571428, 0, 0)\n",
      "(1.0, 0, 0)\n",
      "(0.42857142857142855, 0, 0)\n",
      "(0.5714285714285714, 0, 0)\n",
      "(0.8571428571428571, 0, 0)\n",
      "(0.6428571428571428, 0, 0)\n",
      "(0.6428571428571428, 0, 0)\n",
      "(0.5, 0, 0)\n",
      "(0.8571428571428571, 0, 0)\n",
      "(0.3571428571428571, 0, 0)\n",
      "(0.7857142857142857, 0, 0)\n",
      "(0.9285714285714285, 0, 0)\n",
      "(0.42857142857142855, 0, 0)\n",
      "(0.6428571428571428, 0, 0)\n",
      "(0.6428571428571428, 0, 0)\n",
      "(0.5714285714285714, 0, 0)\n",
      "(0.6428571428571428, 0, 0)\n",
      "(0.7857142857142857, 0, 0)\n",
      "(0.14285714285714285, 0, 0)\n",
      "(0.14285714285714285, 0, 0)\n",
      "(0.14285714285714285, 0, 0)\n",
      "(0.07142857142857142, 0, 0)\n"
     ]
    }
   ],
   "source": [
    "# Find commodity with hiest profit margin and compare it to other commodities\n",
    "\n",
    "query = [\n",
    "    {\n",
    "        '$project': {\n",
    "            'name': 1, \n",
    "            'id': 1, \n",
    "            'max_profit': {\n",
    "                '$subtract': [\n",
    "                    '$max_sell_price', '$max_buy_price'\n",
    "                ]\n",
    "            }, \n",
    "            'category': '$category.id'\n",
    "        }\n",
    "    }, {\n",
    "        '$sort': {\n",
    "            'max_profit': -1\n",
    "        }\n",
    "    }, {\n",
    "        '$match': {\n",
    "            'max_profit': {\n",
    "                '$gt': 0\n",
    "            }\n",
    "        }\n",
    "    }\n",
    "]\n",
    "\n",
    "results = eddb['commodities'].aggregate(query)\n",
    "\n",
    "commodity_names = []\n",
    "categories = []\n",
    "profit = []\n",
    "\n",
    "for result in results:\n",
    "    commodity_names.append(result['name'])\n",
    "    categories.append(result['category'])\n",
    "    profit.append(result['max_profit'])\n",
    "\n",
    "categories = [(1.0 / 14.0 * x, 0, 0) for x in categories]"
   ]
  },
  {
   "cell_type": "code",
   "execution_count": 75,
   "metadata": {},
   "outputs": [
    {
     "name": "stderr",
     "output_type": "stream",
     "text": [
      "No handles with labels found to put in legend.\n"
     ]
    },
    {
     "data": {
      "image/png": "[encoded data removed]",
      "text/plain": [
       "<Figure size 432x288 with 1 Axes>"
      ]
     },
     "metadata": {
      "needs_background": "light"
     },
     "output_type": "display_data"
    }
   ],
   "source": [
    "# Plot the data\n",
    "\n",
    "# set width of bar\n",
    "barWidth = 0.25\n",
    " \n",
    "# Set position of bar on X axis\n",
    "r1 = np.arange(len(commodity_names))\n",
    " \n",
    "# Make the plot\n",
    "plt.bar(r1, profit, color=categories)\n",
    " \n",
    "# Add xticks on the middle of the group bars\n",
    "plt.xlabel('Commodity', fontweight='bold')\n",
    "plt.ylabel('Profit', fontweight='bold')\n",
    "plt.xticks([0], [commodity_names[0]])\n",
    "plt.title(\"Profit Margin of Commodities. Hue denotes category.\")\n",
    " \n",
    "# Create legend & Show graphic\n",
    "plt.legend()\n",
    "plt.show()"
   ]
  },
  {
   "cell_type": "code",
   "execution_count": null,
   "metadata": {},
   "outputs": [],
   "source": []
  },
  {
   "cell_type": "code",
   "execution_count": null,
   "metadata": {},
   "outputs": [],
   "source": []
  },
  {
   "cell_type": "code",
   "execution_count": null,
   "metadata": {},
   "outputs": [],
   "source": []
  },
  {
   "cell_type": "code",
   "execution_count": null,
   "metadata": {},
   "outputs": [],
   "source": []
  },
  {
   "cell_type": "code",
   "execution_count": null,
   "metadata": {},
   "outputs": [],
   "source": []
  },
  {
   "cell_type": "code",
   "execution_count": null,
   "metadata": {},
   "outputs": [],
   "source": []
  },
  {
   "cell_type": "code",
   "execution_count": null,
   "metadata": {},
   "outputs": [],
   "source": []
  },
  {
   "cell_type": "code",
   "execution_count": null,
   "metadata": {},
   "outputs": [],
   "source": []
  }
 ],
 "metadata": {
  "kernelspec": {
   "display_name": "Python 3",
   "language": "python",
   "name": "python3"
  },
  "language_info": {
   "codemirror_mode": {
    "name": "ipython",
    "version": 3
   },
   "file_extension": ".py",
   "mimetype": "text/x-python",
   "name": "python",
   "nbconvert_exporter": "python",
   "pygments_lexer": "ipython3",
   "version": "3.8.3"
  }
 },
 "nbformat": 4,
 "nbformat_minor": 4
}
