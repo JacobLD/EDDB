{
 "cells": [
  {
   "source": [
    "# MongoDB Data Import\n",
    "This notebook will populate the MongoDB database with the EDDB data.\n",
    "## Instructions\n",
    "**Before attempting to run this notebook ensure the data folder contains the *_stripped.json i.e. (commodities_stripped.json) data files. These files are preprocessed to remove unneeded fields and add the denormalized fields.** \n",
    "\n",
    "1. Start a local MongoDB database and ensure the connection details below point to the correct port.\n",
    "2. Run all of the cells in the notebook."
   ],
   "cell_type": "markdown",
   "metadata": {}
  },
  {
   "cell_type": "code",
   "execution_count": null,
   "metadata": {},
   "outputs": [],
   "source": [
    "import pymongo\n",
    "import json\n",
    "import csv\n",
    "\n",
    "import sys\n",
    "!{sys.executable} -m pip install tqdm\n",
    "from tqdm import tqdm\n",
    "\n",
    "from pymongo import MongoClient"
   ]
  },
  {
   "cell_type": "code",
   "execution_count": null,
   "metadata": {},
   "outputs": [],
   "source": [
    "# To establish connection:\n",
    "db = MongoClient('localhost', 27017)['EDDB']\n"
   ]
  },
  {
   "cell_type": "code",
   "execution_count": null,
   "metadata": {},
   "outputs": [],
   "source": [
    "# Populates the database with the commodities, factions, modules, stations, and systems_populated collections\n",
    "\n",
    "files = ['commodities', 'factions', 'modules', 'stations', 'systems_populated']\n",
    "\n",
    "for x in files:\n",
    "    print(x)\n",
    "    with open(f\"{'../data/' + x}_stripped.json\") as f:\n",
    "        db[x].insert_many(json.load(f))"
   ]
  },
  {
   "cell_type": "code",
   "execution_count": null,
   "metadata": {},
   "outputs": [],
   "source": [
    "# Function to convert a CSV to JSON\n",
    "def make_json(data, csvFilePath): \n",
    "      \n",
    "    # Open a csv reader called DictReader \n",
    "    with open(csvFilePath, encoding='utf-8') as csvf: \n",
    "        csvReader = csv.DictReader(csvf) \n",
    "          \n",
    "        # Convert each row into a dictionary  \n",
    "        # and add it to data \n",
    "        for rows in tqdm(csvReader, desc=\"Reading file\"): \n",
    "              \n",
    "            # Assuming a column named 'No' to \n",
    "            # be the primary key \n",
    "            key = rows['id'] \n",
    "            data[key] = rows"
   ]
  },
  {
   "cell_type": "code",
   "execution_count": null,
   "metadata": {},
   "outputs": [],
   "source": [
    "# import listing data that is in csv file, data needs to be imported in chunks\n",
    "    \n",
    "chunk_size = 1000\n",
    "\n",
    "data_dict = {}\n",
    "make_json(data_dict, '../data/listings_stripped.csv')\n",
    "\n",
    "\n",
    "data_to_insert = []\n",
    "for key in tqdm(data_dict, desc=\"Converting data to correct list of JSON...\"):\n",
    "    data_to_insert.append(data_dict[key])\n",
    "\n",
    "for dic in tqdm(data_to_insert, desc=\"Converting strings to ints...\"):\n",
    "    for key in dic:\n",
    "        if(key == 'commodity_name'):\n",
    "            continue\n",
    "        if(dic[key] == ''):\n",
    "            dic[key] = 0\n",
    "        else:\n",
    "            dic[key] = int(dic[key])\n",
    "            \n",
    "def chunks(lst, n):\n",
    "    \"\"\"Yield successive n-sized chunks from lst.\"\"\"\n",
    "    for i in tqdm(range(0, len(lst), n), desc=\"Chunking...\"):\n",
    "        yield lst[i:i + n]\n",
    "\n",
    "chunks = list(chunks(data_to_insert, chunk_size))\n",
    "        \n",
    "for chunk in tqdm(chunks, desc=\"Uploading Chunks\"):\n",
    "    db['listings'].insert_many(chunk)"
   ]
  }
 ],
 "metadata": {
  "kernelspec": {
   "display_name": "Python 3",
   "language": "python",
   "name": "python3"
  },
  "language_info": {
   "codemirror_mode": {
    "name": "ipython",
    "version": 3
   },
   "file_extension": ".py",
   "mimetype": "text/x-python",
   "name": "python",
   "nbconvert_exporter": "python",
   "pygments_lexer": "ipython3",
   "version": "3.8.3-final"
  }
 },
 "nbformat": 4,
 "nbformat_minor": 4
}