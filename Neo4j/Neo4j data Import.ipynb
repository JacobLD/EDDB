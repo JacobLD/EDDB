{
 "cells": [
  {
   "cell_type": "code",
   "execution_count": 1,
   "metadata": {},
   "outputs": [
    {
     "name": "stdout",
     "output_type": "stream",
     "text": [
      "Requirement already satisfied: neo4j-driver in d:\\anaconda\\lib\\site-packages (4.1.1)\n",
      "Requirement already satisfied: pytz in d:\\anaconda\\lib\\site-packages (from neo4j-driver) (2020.1)\n",
      "Requirement already satisfied: tqdm in d:\\anaconda\\lib\\site-packages (4.47.0)\n"
     ]
    }
   ],
   "source": [
    "# Install package in the current Jupyter kernel\n",
    "import sys\n",
    "!{sys.executable} -m pip install neo4j-driver\n",
    "!{sys.executable} -m pip install tqdm\n",
    "\n",
    "# imports\n",
    "from neo4j import GraphDatabase, basic_auth\n",
    "from tqdm import tqdm\n",
    "import json"
   ]
  },
  {
   "cell_type": "code",
   "execution_count": 2,
   "metadata": {},
   "outputs": [
    {
     "name": "stdout",
     "output_type": "stream",
     "text": [
      "Verified\n"
     ]
    }
   ],
   "source": [
    "# Connect to DB\n",
    "\n",
    "driver = GraphDatabase.driver(\n",
    "    \"bolt://localhost:7687\", \n",
    "    auth=basic_auth(\"neo4j\", \"915997582\"))\n",
    "session = driver.session()\n",
    "\n",
    "cypher_query = '''\n",
    "MATCH (n)\n",
    "RETURN id(n) AS id\n",
    "LIMIT 1\n",
    "'''\n",
    "\n",
    "results = session.run(cypher_query,\n",
    "  parameters={})\n",
    "\n",
    "for x in results:\n",
    "    print('Verified')"
   ]
  },
  {
   "cell_type": "code",
   "execution_count": 3,
   "metadata": {},
   "outputs": [],
   "source": [
    "# load system data\n",
    "\n",
    "data = []\n",
    "\n",
    "with open('systems_populated.json') as f:\n",
    "    data = json.load(f)"
   ]
  },
  {
   "cell_type": "code",
   "execution_count": 4,
   "metadata": {},
   "outputs": [
    {
     "name": "stderr",
     "output_type": "stream",
     "text": [
      "Importing all system nodes: 100%|██████████| 20569/20569 [04:29<00:00, 76.41it/s]\n"
     ]
    }
   ],
   "source": [
    "#Import all system nodes with positional information\n",
    "for x in tqdm(data, desc=\"Importing all system nodes\"):\n",
    "    x['name'] = x['name'].replace(\"'\", \"\")\n",
    "    query = f\"MERGE (s:System{{id: {x['id']}, name: '{x['name']}', x: {x['x']}, y: {x['y']}, z: {x['z']}, allegiance: '{x['allegiance']}', population: {x['population']}, needs_permit: {x['needs_permit']}, power_state: '{x['power_state']}'}})\"\n",
    "    session.run(query,\n",
    "      parameters={})"
   ]
  },
  {
   "cell_type": "code",
   "execution_count": 7,
   "metadata": {},
   "outputs": [
    {
     "name": "stderr",
     "output_type": "stream",
     "text": [
      "Connecting systems: 100%|██████████| 20569/20569 [1:42:45<00:00,  3.34it/s]  \n"
     ]
    }
   ],
   "source": [
    "#Connect the graph where the distance is < 8 lightyears. 8 is the max range on a sidewinder(starting vessel) \n",
    "#42 is the max jump range for an upgraded Diamondback Explorer(best Explorer).\n",
    "\n",
    "for x in tqdm(data, desc=\"Connecting systems\"):\n",
    "    name = x['name'].replace(\"'\", \"\")\n",
    "    query = \"\"\"\n",
    "    MATCH (s1:System), (s2:System)\n",
    "    WHERE NOT (s1)-[:DISTANCE]-(s2) AND s1.id <> s2.id AND s1.name = '{name}'\n",
    "    WITH s1, s2, sqrt((s1.x - s2.x)^2 + (s1.y - s2.y)^2 + (s1.z - s2.z)^2) as dis\n",
    "    WHERE dis < 42\n",
    "    MERGE (s1)<-[:DISTANCE{{lightYears: dis, x1: s1.x, x2: s2.x, y1: s1.y, y2: s2.y, z1: s1.z, z2: s2.z}}]->(s2)\n",
    "    \"\"\".format(name=name)\n",
    "    session.run(query,\n",
    "      parameters={})"
   ]
  },
  {
   "cell_type": "code",
   "execution_count": 6,
   "metadata": {},
   "outputs": [],
   "source": [
    "# # Hard reset\n",
    "\n",
    "# for x in tqdm(data, desc=\"Deleting systems\"):\n",
    "#     name = x['name'].replace(\"'\", \"\")\n",
    "#     query = \"\"\"\n",
    "#     MATCH (s:System)-[d:DISTANCE]-()\n",
    "#     WHERE s.name = '{name}'\n",
    "#     DETACH DELETE s\n",
    "#     \"\"\".format(name=name)\n",
    "#     session.run(query,\n",
    "#       parameters={})"
   ]
  },
  {
   "cell_type": "code",
   "execution_count": null,
   "metadata": {},
   "outputs": [],
   "source": []
  }
 ],
 "metadata": {
  "kernelspec": {
   "display_name": "Python 3",
   "language": "python",
   "name": "python3"
  },
  "language_info": {
   "codemirror_mode": {
    "name": "ipython",
    "version": 3
   },
   "file_extension": ".py",
   "mimetype": "text/x-python",
   "name": "python",
   "nbconvert_exporter": "python",
   "pygments_lexer": "ipython3",
   "version": "3.8.3"
  }
 },
 "nbformat": 4,
 "nbformat_minor": 4
}
