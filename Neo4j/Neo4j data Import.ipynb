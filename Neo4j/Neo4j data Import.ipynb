{
 "cells": [
  {
   "cell_type": "markdown",
   "metadata": {},
   "source": [
    "# Neo4j Data Import\n",
    "This file will load all of the data files into memory and query the Neo4j Database to populate the database with information. **Note: You must adjust the settings of the Neo4j database to have 3G of heap space.** \n",
    "This file will take a few hours to populate the database entirely."
   ]
  },
  {
   "cell_type": "code",
   "execution_count": null,
   "metadata": {},
   "outputs": [],
   "source": [
    "# Install package in the current Jupyter kernel\n",
    "import sys\n",
    "!{sys.executable} -m pip install neo4j-driver\n",
    "!{sys.executable} -m pip install tqdm\n",
    "\n",
    "# imports\n",
    "from neo4j import GraphDatabase, basic_auth\n",
    "from tqdm import tqdm\n",
    "import json\n",
    "import csv"
   ]
  },
  {
   "cell_type": "code",
   "execution_count": null,
   "metadata": {},
   "outputs": [],
   "source": [
    "# Connect to DB\n",
    "\n",
    "driver = GraphDatabase.driver(\n",
    "    \"bolt://localhost:7687\", \n",
    "    auth=basic_auth(\"neo4j\", \"915997582\"))\n",
    "session = driver.session()\n",
    "\n",
    "cypher_query = '''\n",
    "MATCH (n)\n",
    "RETURN id(n) AS id\n",
    "LIMIT 1\n",
    "'''\n",
    "\n",
    "results = session.run(cypher_query,\n",
    "  parameters={})\n",
    "\n",
    "for x in results:\n",
    "    print('Verified')"
   ]
  },
  {
   "cell_type": "code",
   "execution_count": null,
   "metadata": {},
   "outputs": [],
   "source": [
    "# clean the DB\n",
    "query = f\"\"\"\n",
    "MATCH (n)\n",
    "DETACH DELETE n\n",
    "\"\"\"\n",
    "session.run(query)\n",
    "\n",
    "# clean out indexes\n",
    "query = f\"\"\"\n",
    "CALL apoc.schema.assert({},{},true) YIELD label, key\n",
    "RETURN *\n",
    "\"\"\"\n",
    "session.run(query)"
   ]
  },
  {
   "cell_type": "code",
   "execution_count": null,
   "metadata": {},
   "outputs": [],
   "source": [
    "# load system data\n",
    "\n",
    "data = []\n",
    "\n",
    "with open('../data/systems_populated.json') as f:\n",
    "    data = json.load(f)\n",
    "\n",
    "#load the commodities data\n",
    "with open('../data/commodities.json') as commodities_file:\n",
    "    commodities_data = json.load(commodities_file)\n",
    "        \n",
    "station_listings = {}\n",
    "#Load the listings data\n",
    "with open('../data/listings.csv') as listings_file:\n",
    "    csv_reader = csv.DictReader(listings_file)\n",
    "    for listing in csv_reader:\n",
    "        if not listing['station_id'] in station_listings:\n",
    "            station_listings[listing['station_id']] = []\n",
    "        station_listings[listing['station_id']].append(listing)\n",
    "    \n",
    "#load the stations data\n",
    "with open('../data/stations.json') as stations_file:\n",
    "    stations_data = json.load(stations_file)\n",
    "    \n",
    "#load the factions data\n",
    "with open('../data/factions.json') as factions_file:\n",
    "    factions_data = json.load(factions_file)\n",
    "    \n",
    "#load the modules data\n",
    "with open('../data/modules.json') as modules_file:\n",
    "    modules_data = json.load(modules_file)"
   ]
  },
  {
   "cell_type": "markdown",
   "metadata": {},
   "source": [
    "## Module Nodes\n",
    "Create the module nodes"
   ]
  },
  {
   "cell_type": "code",
   "execution_count": null,
   "metadata": {},
   "outputs": [],
   "source": [
    "#Create module nodes\n",
    "for module in tqdm(modules_data, desc=\"Importing module nodes\"):\n",
    "    query = f\"\"\"\n",
    "            MERGE (:Module{{id: {module['id']}, ed_symbol: '{module['ed_symbol']}'}})\n",
    "            \"\"\"\n",
    "    session.run(query)\n",
    "#Create an index on module ids so they are easy to link with the systems\n",
    "index = \"\"\"CREATE INDEX module_id FOR (m:Module) ON (m.id)\"\"\"\n",
    "session.run(index)"
   ]
  },
  {
   "cell_type": "markdown",
   "metadata": {},
   "source": [
    "## Faction Nodes\n",
    "Creates the faction nodes"
   ]
  },
  {
   "cell_type": "code",
   "execution_count": null,
   "metadata": {},
   "outputs": [],
   "source": [
    "#Create factions nodes\n",
    "for faction in tqdm(factions_data, desc=\"Importing faction nodes\"):\n",
    "    faction['name'] = faction['name'].replace(\"'\", \"\")\n",
    "    query = f\"\"\"\n",
    "            MERGE (:Faction{{id: {faction['id']}, name: '{faction['name']}'}})\n",
    "            \"\"\"\n",
    "    session.run(query)\n",
    "#Create index for the faction id so linking factions below is faster\n",
    "index = \"\"\"CREATE INDEX faction_id FOR (f:Faction) ON (f.id)\"\"\"\n",
    "session.run(index)"
   ]
  },
  {
   "cell_type": "markdown",
   "metadata": {},
   "source": [
    "## System and Station Nodes\n",
    "The following block loads all of the system and stations nodes. Additionally, it creates a relationship between faction and system for the controlling faction. It also creates a relationship between System and Station nodes for a which System contains a station."
   ]
  },
  {
   "cell_type": "code",
   "execution_count": null,
   "metadata": {},
   "outputs": [],
   "source": [
    "def create_service_list(station):\n",
    "    services = []\n",
    "    if station['has_blackmarket']:\n",
    "        services.append('blackmarket')\n",
    "    if station['has_market']:\n",
    "        services.append('market')\n",
    "    if station['has_refuel']:\n",
    "        services.append('refuel')\n",
    "    if station['has_repair']:\n",
    "        services.append('repair')\n",
    "    if station['has_rearm']:\n",
    "        services.append('rearm')\n",
    "    if station['has_outfitting']:\n",
    "        services.append('outfitting')\n",
    "    if station['has_shipyard']:\n",
    "        services.append('shipyard')\n",
    "    if station['has_docking']:\n",
    "        services.append('docking')\n",
    "    if station['has_commodities']:\n",
    "        services.append('commodities')\n",
    "    return services"
   ]
  },
  {
   "cell_type": "code",
   "execution_count": null,
   "metadata": {},
   "outputs": [],
   "source": [
    "# #Import all system nodes with positional information, creates relationship for a faction controlling a system\n",
    "for x in tqdm(data, desc=\"Importing all system nodes\"):\n",
    "    x['name'] = x['name'].replace(\"'\", \"\")\n",
    "    faction_id = x['controlling_minor_faction_id']\n",
    "    query = f\"\"\"\n",
    "            MERGE (s:System{{id: {x['id']}, name: '{x['name']}', x: {x['x']}, y: {x['y']}, z: {x['z']}, \n",
    "            allegiance: '{x['allegiance']}', population: {x['population']}, needs_permit: {x['needs_permit']}, \n",
    "            power_state: '{x['power_state']}' }})\"\"\"\n",
    "    if faction_id:\n",
    "        query = query + f\"\"\"WITH s\n",
    "            MATCH (f:Faction {{id: {faction_id}}})\n",
    "            MERGE (f)-[:CONTROLS]->(s)\"\"\"\n",
    "    session.run(query,\n",
    "      parameters={})\n",
    "#Create index for the system id so linking systems is faster\n",
    "index = \"\"\"CREATE INDEX system_id FOR (s:System) ON(s.id)\"\"\"\n",
    "session.run(index)\n",
    "    \n",
    "#Import all station nodes and connect them to their system\n",
    "for station in tqdm(stations_data, desc=\"Importing all station nodes\"):\n",
    "    station['name'] = station['name'].replace(\"'\", \"\")\n",
    "    system_id = station['system_id']\n",
    "    services = create_service_list(station)\n",
    "    query = f\"\"\"\n",
    "             MERGE (s:Station{{id: {station['id']}, name: '{station['name']}', services: {services}}})\"\"\"\n",
    "    if system_id:\n",
    "        query = query + f\"\"\"\n",
    "             WITH s\n",
    "             MATCH (sys:System{{id: {system_id}}})\n",
    "             MERGE (sys)-[:CONTAINS]->(s)\"\"\"\n",
    "    session.run(query)\n",
    "# Create index for the system id so linking stations is faster\n",
    "index = \"\"\"CREATE INDEX station_id FOR (s:Station) ON(s.id)\"\"\"\n",
    "session.run(index)"
   ]
  },
  {
   "cell_type": "markdown",
   "metadata": {},
   "source": [
    "## Modules sold at Stations Relationship\n",
    "The below query imports all the module-SOLD_AT->station relationships. The 113 module listings chunk files must be in the import folder of the database. The files were needed to reduce the import time from days to just a few minutes. **Note: The Database must not have an SOLD_AT relationships already created otherwise this query will create duplicates** "
   ]
  },
  {
   "cell_type": "code",
   "execution_count": null,
   "metadata": {},
   "outputs": [],
   "source": [
    "#The module listings are chunked in 113 different files for import\n",
    "num_chunks = 113\n",
    "for i in tqdm(range(num_chunks), desc=\"Importing module relationships\"):\n",
    "    query = f\"\"\"LOAD CSV WITH HEADERS FROM 'file:///module_listings/modules_listing{i}.csv' as row\n",
    "                MATCH (s:Station {{id: toInteger(row.station_id)}})\n",
    "                UNWIND split(replace(replace(row.modules, \"[\", \"\"), \"]\", \"\"), \",\") as module_id\n",
    "                WITH s, module_id\n",
    "                MATCH (m: Module {{id: toInteger(lTrim(module_id))}})\n",
    "                CREATE (m)-[:SOLD_AT]->(s)\"\"\"\n",
    "    session.run(query)"
   ]
  },
  {
   "cell_type": "markdown",
   "metadata": {},
   "source": [
    "## Commodity Nodes\n",
    "Create the commodity nodes"
   ]
  },
  {
   "cell_type": "code",
   "execution_count": null,
   "metadata": {},
   "outputs": [],
   "source": [
    "#Import all commodity nodes\n",
    "for commodity in tqdm(commodities_data, desc=\"Importing all commodity nodes\"):\n",
    "    commodity['name'] = commodity['name'].replace(\"'\", \"\")\n",
    "    query = f\"\"\"\n",
    "             MERGE (c:Commodity{{id: {commodity['id']}, name: '{commodity['name']}', average_price: {commodity['average_price'] or \"null\"},\n",
    "             max_buy_price: {commodity['max_buy_price'] or \"null\"}, max_sell_price: {commodity['max_sell_price'] or \"null\"}, min_buy_price: {commodity['min_buy_price'] or \"null\"},\n",
    "             min_sell_price: {commodity['min_sell_price'] or \"null\"}, buy_price_lower_average: {commodity['buy_price_lower_average'] or \"null\"},\n",
    "             sell_price_upper_average: {commodity['sell_price_upper_average'] or \"null\"}}})\n",
    "             \"\"\"\n",
    "    session.run(query)\n",
    "index = \"\"\"CREATE INDEX commodity_id FOR (c:Commodity) ON (c.id)\"\"\"\n",
    "session.run(query)"
   ]
  },
  {
   "cell_type": "markdown",
   "metadata": {},
   "source": [
    "## Buy/Sell Listings Data\n",
    "In order for the buy and sell listings to be populated, ensure the listings_stripped(0-15).csv are placed in the Neo4j import folder for the database. The files needed to be stripped otherwise Neo4j would run out of memory when trying to do the import. Also, doing one query per listing was also very slow and is why Loading from CSV was the preferred choice."
   ]
  },
  {
   "cell_type": "code",
   "execution_count": null,
   "metadata": {},
   "outputs": [],
   "source": [
    "#Create all the buy/sell relations\n",
    "num_file_chunks = 15\n",
    "for i in tqdm(range(num_file_chunks+1), desc=\"Creating listings with sell relationships for each commodity\"):\n",
    "    query = f\"\"\"LOAD CSV WITH HEADERS FROM 'file:///listing_chunks/listings_stripped{i}.csv' AS row\n",
    "            MATCH (s:Station {{id: toInteger(row.station_id)}}), (c:Commodity {{id: toInteger(row.commodity_id)}})\n",
    "            WHERE toInteger(row.demand) > 0\n",
    "            MERGE (c)-[:SELL_AT {{sell_price: toInteger(row.sell_price), demand: toInteger(row.demand)}}]->(s)\n",
    "    session.run(query)\"\"\"\n",
    "    \n",
    "for i in tqdm(range(num_file_chunks+1), desc=\"Creating listings with buy relationships for each commodity\"):\n",
    "    query = f\"\"\"LOAD CSV WITH HEADERS FROM 'file:///listing_chunks/listings_stripped{i}.csv' AS row\n",
    "            MATCH (s:Station {{id: toInteger(row.station_id)}}), (c:Commodity {{id: toInteger(row.commodity_id)}})\n",
    "            WHERE toInteger(row.supply) > 0\n",
    "            MERGE (c)-[:BUY_AT {{buy_price: toInteger(row.buy_price), supply: toInteger(row.supply)}}]->(s)\"\"\"\n",
    "    session.run(query)"
   ]
  },
  {
   "cell_type": "markdown",
   "metadata": {},
   "source": [
    "## System Connecting Relationship\n",
    "The code below connects all the system with their distance away from each other. Systems are only connected to each other if their distance between them is less than 42 light years. This is because the best explorer can only jump a max range of 42 lightyears."
   ]
  },
  {
   "cell_type": "code",
   "execution_count": null,
   "metadata": {},
   "outputs": [],
   "source": [
    "#Connect the graph where the distance is < 8 lightyears. 8 is the max range on a sidewinder(starting vessel) \n",
    "#42 is the max jump range for an upgraded Diamondback Explorer(best Explorer).\n",
    "\n",
    "#Queries need to be chunked otherwise the heap will run out of memory and the query will fail / freeze the database\n",
    "\n",
    "for system in tqdm(data, desc=\"Connecting Systems...\"):\n",
    "    query = f\"\"\"\n",
    "            MATCH (s1:System {{id: {system['id']}}}), (s2:System)\n",
    "            WHERE s1.id <> s2.id\n",
    "            WITH s1, s2, (s1.x - s2.x)^2 + (s1.y - s2.y)^2 + (s1.z - s2.z)^2 as disSquared\n",
    "            WHERE disSquared < 42^2\n",
    "            MERGE (s1)<-[:DISTANCE{{lightYears: sqrt(disSquared), x1: s1.x, x2: s2.x, y1: s1.y, y2: s2.y, z1: s1.z, z2: s2.z}}]->(s2)\n",
    "            \"\"\"\n",
    "    session.run(query)"
   ]
  },
  {
   "cell_type": "code",
   "execution_count": null,
   "metadata": {},
   "outputs": [],
   "source": [
    "# # Hard reset\n",
    "\n",
    "# for x in tqdm(data, desc=\"Deleting systems\"):\n",
    "#     name = x['name'].replace(\"'\", \"\")\n",
    "#     query = \"\"\"\n",
    "#     MATCH (s:System)-[d:DISTANCE]-()\n",
    "#     WHERE s.name = '{name}'\n",
    "#     DETACH DELETE s\n",
    "#     \"\"\".format(name=name)\n",
    "#     session.run(query,\n",
    "#       parameters={})"
   ]
  },
  {
   "cell_type": "code",
   "execution_count": null,
   "metadata": {},
   "outputs": [],
   "source": []
  }
 ],
 "metadata": {
  "kernelspec": {
   "display_name": "Python 3",
   "language": "python",
   "name": "python3"
  },
  "language_info": {
   "codemirror_mode": {
    "name": "ipython",
    "version": 3
   },
   "file_extension": ".py",
   "mimetype": "text/x-python",
   "name": "python",
   "nbconvert_exporter": "python",
   "pygments_lexer": "ipython3",
   "version": "3.8.3-final"
  }
 },
 "nbformat": 4,
 "nbformat_minor": 4
}