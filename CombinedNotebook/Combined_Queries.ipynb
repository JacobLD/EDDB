{
 "cells": [
  {
   "source": [
    "# Schema Explinations"
   ],
   "cell_type": "markdown",
   "metadata": {}
  },
  {
   "source": [
    "## MongoDB\n",
    "![MongoDB Schema](images/mongodb_schema.png)\n",
    "\n",
    "The above schema is the schema we used for the MongoDB database. It is mostly based off of the raw data files we got from the EDDB source with some fields stripped out and a few fields denormalized in certain places to optimize our queries. First, lines with arrows indicate that a field in one collection is related to another collection in a certain way. A solid arrow at the end means that the values can be effecient in join queries because they have indices on those fields. The hollow arrow indicates that the fields are denomalized and placed in the other table for convienent access in queries. Fields in brackets '[]' indicate that they hold an array type. Since the game is mainly focuesed around trading, the listings table is used a lot in our queries. For this reason, we denomalized the commodity_name field into the listings table so that we do not have to perform seperate queries or do a join to get the commodity name. Many queries are also interested in where certain items are located at a station or where a specific service is provided by a station within a given distance. Station names are not unique, so in order to properly identify a station, we also need to get its system. That is why we denormalized the system_name into the stations table. We also decided to keep government and allegiance types denormalized from the factions table as well in the systems_populated and stations tables because we use can use these as groupings to get aggregated data about systems and stations without the need to go to the factions table. Lastly, you can notice that we have a seperate table for all the listings of commodities, but store the selling_modules data at a specific station. This was done due to space constraints. Each listing has much more additional data such as the buy_price, sell_price, supply, demand, etc. Storing this data in the stations table as well would take up too much space and cause other queries to perform poorly as well because so much data would need to be fetched for one station row. The \\[selling_modules\\] field is kept in the stations because only the id of the modules is stored and takes less space."
   ],
   "cell_type": "markdown",
   "metadata": {}
  },
  {
   "source": [
    "## Neo4j\n",
    "![Neo4j Schema](images/neo4j_schema.png)\n",
    "\n",
    "The above schema is the shcema used to populate the Neo4j database. We wanted to leverage the ability of Neo4j's relationships, especailly for queries concerned with a limited distance between systems. In this way we added the DISTANCE relationship between each system which creates a connected graph of all the systems in the games galaxy. We limited a relationship to be between two systems when their distance away from each other in light years is under 42 light years. This is the max jump range of the best ship in the game. We also captured the listings data for all commodities by only creating a relationship between the commodity and the station if the demand or supply is greator than 0, indicating the item can be sold/bought there. The splitting of the buy and sell data is also beneficial because usually queries are only looking at one side of the relationship. As can be seen, System nodes contain stations and are controlled by factions. Module nodes are also related to the Station node they are sold at, similar to the Commodity nodes. Modeling the data this way in Neo4j for the game feels very natural because of the graph nature. Everything in the game is based on something located somewhere, needing to get somewhere, or a state at a location. A graph is very suited to dealing with the games data. \n",
    "\n",
    "Note: Not as much data or relationships was included in the Neo4j schema and data due to space issues and difficulty populating the database. It takes a long time to put the data currently in the schema with relationships in the database. The database also takes up a lot of space, particularly in main memory when it is loaded in order to perform queries. "
   ],
   "cell_type": "markdown",
   "metadata": {}
  },
  {
   "source": [
    "## mySQL"
   ],
   "cell_type": "markdown",
   "metadata": {}
  },
  {
   "cell_type": "code",
   "execution_count": null,
   "metadata": {},
   "outputs": [],
   "source": []
  },
  {
   "source": [
    "# Difficulties\n",
    "We experienced a few difficulties when working with the data along the way. \n",
    "\n",
    "One of the greatest challanges we faced was populating the Neo4j database. All the raw data that we used for this project was already in JSON and CSV format which was pretty compatible with MongoDB and mySQL, but that was not the case for Neo4j. We had to do a bit of processing to make the data work fit into our schema. Additionally, the data files for certain things are very large, like the listings data. This created millions of relationships in our database. We quickly realized that when you try to put this data in row by row through python, the processes would take days to complete. We also found at that sending too much data at once would if you were lucky throw an error that there was not enough heap memory. If you were unlucky, it would cause your whole computer to freeze while it attempted to process the data and never complete. This made deleting data difficult as well because if a delete query loaded too much into main memory before completing, it would freeze the system as well. We found that we needed to chunk the data and load chunks from a CSV file for it to be efficient, bringing down some creation time from days to a few minutes. Additionally, for queries to run on this large data set, we also had to increase the amount of heap space allocated to Neo4j to at least 2G.\n",
    "\n",
    "In dealing with the mySQL database, we also ran into a similar issue. There was a variable for the max packet size that could be sent to mySQL when populating a table that was too low on one of our machines. Therefore, when attempting to populate mySQL data, a vague error, \"mySQL has gone away!\" was given. With some research, we found that we were sending a lot of data to mySQL and needed to adjust the max packet size.\n",
    "\n",
    "Another issue we ran into was trying to run a path finding algorithm for MongoDB and mySQL using the data gotten from the databases. The data set we have is rather large, so when trying to do the processing in Python, we quickly ran out of memory trying to map every System to eachother. The solution here came from some neat math tricks. When doing a path from one system to another, we create a 3D elipse around the systems and exclude all of the systems that fall outside. This way the memory was not overrun by graph edges.\n",
    "\n",
    "Enough on our difficulties, all the queries and timings are below!\n"
   ],
   "cell_type": "markdown",
   "metadata": {}
  },
  {
   "cell_type": "code",
   "execution_count": null,
   "metadata": {},
   "outputs": [],
   "source": [
    "from timeit import default_timer as timer\n",
    "import matplotlib.pyplot as plt\n",
    "import matplotlib.patches as mpatches\n",
    "import numpy as np\n",
    "import random\n",
    "\n",
    "import sys\n",
    "!{sys.executable} -m pip install neo4j-driver\n",
    "from neo4j import GraphDatabase, basic_auth\n",
    "\n",
    "!{sys.executable} -m pip install Dijkstar\n",
    "from dijkstar import Graph, find_path\n",
    "\n",
    "!{sys.executable} -m pip install mysql-connector-python\n",
    "import mysql.connector\n",
    "\n",
    "import pymongo"
   ]
  },
  {
   "source": [
    "# Connect to Databases"
   ],
   "cell_type": "markdown",
   "metadata": {}
  },
  {
   "cell_type": "code",
   "execution_count": null,
   "metadata": {},
   "outputs": [],
   "source": [
    "#Connect to MongoDB database\n",
    "client = pymongo.MongoClient(\"mongodb://localhost:27017/\")\n",
    "eddb = client['EDDB']\n",
    "\n",
    "#Connect to mySQL database\n",
    "db = mysql.connector.connect(\n",
    "    host=\"localhost\",\n",
    "    user=\"root\",\n",
    "    password=\"917177850\",\n",
    "    database=\"EDDB\"\n",
    ")\n",
    "cursor = db.cursor()\n",
    "\n",
    "#Connect to Neo4j database\n",
    "driver = GraphDatabase.driver(\n",
    "    \"bolt://localhost:7687\", \n",
    "    auth=basic_auth(\"neo4j\", \"915997582\")\n",
    ")\n",
    "session = driver.session()"
   ]
  },
  {
   "cell_type": "code",
   "execution_count": null,
   "metadata": {},
   "outputs": [],
   "source": [
    "database_labels = ['MongoDB', 'Neo4j', 'mySQL']\n",
    "\n",
    "def plot_timings(title, timings_data):\n",
    "    plt.bar(database_labels, timings_data)\n",
    "    plt.xlabel(\"Database\")\n",
    "    plt.ylabel(\"Time (sec)\")\n",
    "    plt.title(title)\n",
    "    plt.show()"
   ]
  },
  {
   "source": [
    "# Queries\n",
    "1. How many systems are controlled by allegiences and what populations do they control?\n",
    "2. Find the commodity with the largest profit margin.\n",
    "3. Find the system where you can buy a given commodity for the lowest price.\n",
    "4. Find the system where you can sell a given commodity for the highest price.\n",
    "5. Given a system and range, find the best commodity to buy and sell locally.\n",
    "6. Find the nearest system that provides certain services.\n",
    "7. How many systems does each faction control?\n",
    "8. Find the rarest module and where to buy it.\n",
    "9. Find the best path between two systems given the jump range of a ship.\n",
    "10. Build aggregation of listings data to display the average cost of a given item, total supply, total demand.\n",
    "11. (Neo4j only) Louvain graph algorithm to get the communities of systems for a given jump range of a ship."
   ],
   "cell_type": "markdown",
   "metadata": {}
  },
  {
   "source": [
    "## How many systems are controlled by allegiences and what populations do they control?"
   ],
   "cell_type": "markdown",
   "metadata": {}
  },
  {
   "cell_type": "code",
   "execution_count": null,
   "metadata": {},
   "outputs": [],
   "source": [
    "def graph_system_controlled_vs_poulation(labels, citizens, systems_controlled):\n",
    "    normalized_citizens = [x / max(citizens) for x in citizens]\n",
    "    normalized_systems = [x / max(systems_controlled) for x in systems_controlled]\n",
    "\n",
    "    # set width of bar\n",
    "    barWidth = 0.25\n",
    "    \n",
    "    # Set position of bar on X axis\n",
    "    r1 = np.arange(len(citizens))\n",
    "    r2 = [x + barWidth for x in r1]\n",
    "    \n",
    "    # Make the plot\n",
    "    plt.bar(r1, normalized_systems, color='blue', width=barWidth, edgecolor='white', label='Systems Controlled')\n",
    "    plt.bar(r2, normalized_citizens, color='red', width=barWidth, edgecolor='white', label='Citizens')\n",
    "    \n",
    "    # Add xticks on the middle of the group bars\n",
    "    plt.xlabel('Allegiance', fontweight='bold')\n",
    "    plt.xticks([r + barWidth for r in range(len(citizens))], labels)\n",
    "\n",
    "    plt.title(\"Systems controlled vs Population\")\n",
    "\n",
    "    \n",
    "    # Create legend & Show graphic\n",
    "    plt.legend()\n",
    "    plt.show()\n",
    "\n",
    "def graph_populations(labels, citizens):\n",
    "    # Set position of bar on X axis\n",
    "    r1 = np.arange(len(citizens))\n",
    "    \n",
    "    # Make the plot\n",
    "    plt.bar(r1, citizens, color='red', edgecolor='white')\n",
    "    \n",
    "    # Add xticks on the middle of the group bars\n",
    "    plt.xlabel('Allegiance', fontweight='bold')\n",
    "    plt.xticks([r for r in range(len(citizens))], labels)\n",
    "\n",
    "    plt.title(\"Populations\")\n",
    "    \n",
    "    # Create show graphic\n",
    "    plt.show()"
   ]
  },
  {
   "source": [
    "### MongoDB"
   ],
   "cell_type": "markdown",
   "metadata": {}
  },
  {
   "cell_type": "code",
   "execution_count": null,
   "metadata": {},
   "outputs": [],
   "source": [
    "def query_1_mongodb(timings=[]):\n",
    "    query = [\n",
    "        {\n",
    "            '$match': {'$and': [{'allegiance': {'$ne': None}}, {'allegiance': {'$ne': 'None'}}]\n",
    "            }\n",
    "        }, {\n",
    "            '$project': {\n",
    "                'allegiance': 1, \n",
    "                'population': 1\n",
    "            }\n",
    "        }, {\n",
    "            '$group': {\n",
    "                '_id': '$allegiance', \n",
    "                'systems_controlled': {\n",
    "                    '$sum': 1\n",
    "                }, \n",
    "                'citizens': {\n",
    "                    '$sum': '$population'\n",
    "                }\n",
    "            }\n",
    "        }, \n",
    "    ]\n",
    "    start = timer()\n",
    "    results = eddb['systems_populated'].aggregate(query)\n",
    "    end = timer()\n",
    "\n",
    "    elapsed_time = end - start\n",
    "    timings.append(elapsed_time)\n",
    "\n",
    "    labels = []\n",
    "    systems_controlled = []\n",
    "    citizens = []\n",
    "\n",
    "\n",
    "    for result in results:\n",
    "        labels.append(result['_id'])\n",
    "        systems_controlled.append(result['systems_controlled'])\n",
    "        citizens.append(result['citizens'])\n",
    "\n",
    "    return [labels, citizens, systems_controlled]"
   ]
  },
  {
   "cell_type": "code",
   "execution_count": null,
   "metadata": {},
   "outputs": [],
   "source": [
    "result = query_1_mongodb()\n",
    "graph_system_controlled_vs_poulation(result[0], result[1], result[2])\n",
    "graph_populations(result[0], result[1])"
   ]
  },
  {
   "source": [
    "### Neo4j"
   ],
   "cell_type": "markdown",
   "metadata": {}
  },
  {
   "cell_type": "code",
   "execution_count": null,
   "metadata": {},
   "outputs": [],
   "source": [
    "def query_1_neo4j(timings=[]):\n",
    "    query = \"\"\"\n",
    "        MATCH (s:System)\n",
    "        WHERE NOT s.allegiance = 'None'\n",
    "        RETURN s.allegiance as allegiance, sum(s.population) as population, count(*) as systems_controlled\n",
    "        ORDER BY systems_controlled DESC\n",
    "        \"\"\"\n",
    "    start = timer()\n",
    "    result = session.run(query)\n",
    "    end = timer()\n",
    "\n",
    "    elapsed_time = end - start\n",
    "    timings.append(elapsed_time)\n",
    "\n",
    "    labels = []\n",
    "    systems_controlled = []\n",
    "    citizens = []\n",
    "\n",
    "    for row in result:\n",
    "        labels.append(row['allegiance'])\n",
    "        systems_controlled.append(row['systems_controlled'])\n",
    "        citizens.append(row['population'])\n",
    "    return [labels, citizens, systems_controlled]"
   ]
  },
  {
   "cell_type": "code",
   "execution_count": null,
   "metadata": {},
   "outputs": [],
   "source": [
    "result = query_1_neo4j()\n",
    "graph_system_controlled_vs_poulation(result[0], result[1], result[2])\n",
    "graph_populations(result[0], result[1])"
   ]
  },
  {
   "source": [
    "### mySQL"
   ],
   "cell_type": "markdown",
   "metadata": {}
  },
  {
   "cell_type": "code",
   "execution_count": null,
   "metadata": {},
   "outputs": [],
   "source": [
    "def query_1_mysql(timings=[]):\n",
    "    query = \"\"\"\n",
    "    SELECT COUNT(id), allegiance, sum(population) as populations\n",
    "    FROM system_populated\n",
    "    WHERE NOT allegiance = -1\n",
    "    GROUP BY allegiance\n",
    "    ORDER BY COUNT(id) DESC\n",
    "    \"\"\"\n",
    "    start = timer()\n",
    "    cursor.execute(query)\n",
    "    end = timer()\n",
    "\n",
    "    elapsed_time = end - start\n",
    "    timings.append(elapsed_time)\n",
    "\n",
    "    labels = []\n",
    "    systems_controlled = []\n",
    "    citizens = []\n",
    "\n",
    "    results = cursor.fetchall()\n",
    "    for row in results:\n",
    "        labels.append(row[1])\n",
    "        systems_controlled.append(row[0])\n",
    "        citizens.append(row[2])\n",
    "\n",
    "    return [labels, citizens, systems_controlled]"
   ]
  },
  {
   "cell_type": "code",
   "execution_count": null,
   "metadata": {},
   "outputs": [],
   "source": [
    "result = query_1_mysql()\n",
    "graph_system_controlled_vs_poulation(result[0], result[1], result[2])\n",
    "graph_populations(result[0], result[1])"
   ]
  },
  {
   "cell_type": "code",
   "execution_count": null,
   "metadata": {},
   "outputs": [],
   "source": [
    "query_1_timings = []\n",
    "#Run the queries to get their timings\n",
    "query_1_mongodb(query_1_timings)\n",
    "query_1_neo4j(query_1_timings)\n",
    "query_1_mysql(query_1_timings)\n",
    "#Plot the timings chart\n",
    "plot_timings(\"Query #1 Timings\", query_1_timings)"
   ]
  },
  {
   "source": [
    "### Timings Explination\n"
   ],
   "cell_type": "markdown",
   "metadata": {}
  },
  {
   "source": [
    "## 2. Find the commodity with the largest profit margin.\n",
    "This query uses the aggregated data stored with the commodity to get a commodities profit margin"
   ],
   "cell_type": "markdown",
   "metadata": {}
  },
  {
   "source": [
    "### MongoDB"
   ],
   "cell_type": "markdown",
   "metadata": {}
  },
  {
   "cell_type": "code",
   "execution_count": null,
   "metadata": {},
   "outputs": [],
   "source": [
    "def query_2_mongodb(timings = []):\n",
    "    query = [\n",
    "        {\n",
    "            '$project': {\n",
    "                'name': 1, \n",
    "                'id': 1, \n",
    "                'max_profit': {\n",
    "                    '$subtract': [\n",
    "                        '$max_sell_price', '$min_buy_price'\n",
    "                    ]\n",
    "                }, \n",
    "                'category': '$category.id', \n",
    "                'category_name': '$category.name', \n",
    "                'average_price': '$average_price'\n",
    "            }\n",
    "        }, {\n",
    "            '$sort': {\n",
    "                'max_profit': -1\n",
    "            }\n",
    "        }\n",
    "    ]\n",
    "\n",
    "    start = timer()\n",
    "    results = eddb['commodities'].aggregate(query)\n",
    "    end = timer()\n",
    "    elapsed_time = end-start\n",
    "    timings.append(elapsed_time)\n",
    "    return results"
   ]
  },
  {
   "cell_type": "code",
   "execution_count": null,
   "metadata": {},
   "outputs": [],
   "source": [
    "results = query_2_mongodb()\n",
    "print(list(results)[0])"
   ]
  },
  {
   "source": [
    "### Neo4j"
   ],
   "cell_type": "markdown",
   "metadata": {}
  },
  {
   "cell_type": "code",
   "execution_count": null,
   "metadata": {},
   "outputs": [],
   "source": [
    "def query_2_neo4j(timings = []):\n",
    "    query = \"\"\"\n",
    "            MATCH (c:Commodity)\n",
    "            WHERE c.max_sell_price - c.min_buy_price IS NOT null\n",
    "            RETURN c.name, c.max_sell_price - c.min_buy_price as profit_margin\n",
    "            ORDER BY profit_margin DESC\n",
    "            LIMIT 1\n",
    "            \"\"\"\n",
    "    start = timer()\n",
    "    result = session.run(query)\n",
    "    end = timer()\n",
    "    elapsed_time = end - start\n",
    "    timings.append(elapsed_time)\n",
    "    return result"
   ]
  },
  {
   "cell_type": "code",
   "execution_count": null,
   "metadata": {},
   "outputs": [],
   "source": [
    "results = query_2_neo4j()\n",
    "print(list(results)[0])"
   ]
  },
  {
   "source": [
    "### mySQL"
   ],
   "cell_type": "markdown",
   "metadata": {}
  },
  {
   "cell_type": "code",
   "execution_count": null,
   "metadata": {},
   "outputs": [],
   "source": [
    "def query_2_mysql(timings = []):\n",
    "    query = \"\"\"\n",
    "    SELECT name, max_sell_price, min_buy_price\n",
    "    FROM commodity\n",
    "    ORDER BY (max_sell_price - min_buy_price) DESC\n",
    "    LIMIT 5\n",
    "    \"\"\"\n",
    "\n",
    "    start = timer()\n",
    "    cursor.execute(query)\n",
    "    results = cursor.fetchall()\n",
    "    end = timer()\n",
    "    elapsed_time = end - start\n",
    "    timings.append(elapsed_time)\n",
    "    return results"
   ]
  },
  {
   "cell_type": "code",
   "execution_count": null,
   "metadata": {},
   "outputs": [],
   "source": [
    "results = query_2_mysql()\n",
    "print(results[0])"
   ]
  },
  {
   "source": [
    "query_2_timings = []\n",
    "#Run the queries to get the timings\n",
    "query_2_mongodb(query_2_timings)\n",
    "query_2_neo4j(query_2_timings)\n",
    "query_2_mysql(query_2_timings)\n",
    "#Plot the timings\n",
    "plot_timings(\"Query #2 Timings\", query_2_timings)"
   ],
   "cell_type": "code",
   "metadata": {},
   "execution_count": null,
   "outputs": []
  },
  {
   "source": [
    "### Timings Explination\n",
    "This query is a simple query that is only looking at one table for mySQL, one collection for MongoDB, and one node type for Neo4j. mySQL has the best performance of the three databases because it only needs to look at one table. No complex joins are necessary. MongoDB also performs well on queries that involve just one database too. That is why its performance is also significanly better than Neo4j. Neo4j performs the worst on these types of simple queries because of the way data is stored. Nodes of the same type are not stored together and accessing properties of nodes is also more expensive in Neo4j."
   ],
   "cell_type": "markdown",
   "metadata": {}
  },
  {
   "source": [
    "## 3. Find the system where you can buy a given commodity for the lowest price."
   ],
   "cell_type": "markdown",
   "metadata": {}
  },
  {
   "source": [
    "### MongoDB"
   ],
   "cell_type": "markdown",
   "metadata": {}
  },
  {
   "cell_type": "code",
   "execution_count": null,
   "metadata": {},
   "outputs": [],
   "source": [
    "#Helper function to query for the commodity id based on the commodity name\n",
    "def get_commodity_id(commodity_name):\n",
    "    #query for the commodity id and filter to only include the id field\n",
    "    filter={'name': commodity_name}\n",
    "    project={'id': 1}\n",
    "    result = eddb['commodities'].find(filter=filter, projection=project)\n",
    "    #return the id from the result\n",
    "    return result[0]['id']\n",
    "\n",
    "def get_commodity_name(commodity_id):\n",
    "    #query for the commodity id and filter to only include the id field\n",
    "    filter={'id': commodity_id}\n",
    "    project={'name': 1}\n",
    "    result = eddb['commodities'].find(filter=filter, projection=project)\n",
    "    #return the id from the result\n",
    "    return result[0]['name']\n",
    "\n",
    "#Helper function to query for the station name based on the commodity id\n",
    "def get_station_names(station_ids):\n",
    "    #query for the station name and project only the station name and system id\n",
    "    filter={'id': {'$in': station_ids}}\n",
    "    project={'name': 1, 'system_id': 1}\n",
    "    result = eddb['stations'].find(filter=filter, projection=project)\n",
    "    return result\n",
    "\n",
    "def get_system_name(system_id):\n",
    "    filter={'id': system_id}\n",
    "    project={'name': 1}\n",
    "    result = eddb['systems_populated'].find(filter=filter, projection=project)\n",
    "    return result"
   ]
  },
  {
   "cell_type": "code",
   "execution_count": null,
   "metadata": {},
   "outputs": [],
   "source": [
    "def query_3_mongodb(commodity_name, timings=[]):\n",
    "    start = timer()\n",
    "    commodity_id = get_commodity_id(commodity_name)\n",
    "    #ensure the supply is greater than zero otherwise there is nothing to buy at the station and the buy_price will be zero\n",
    "    query = [\n",
    "        {\n",
    "            '$match': {\n",
    "                '$and': [\n",
    "                    {\n",
    "                        'commodity_id': commodity_id\n",
    "                    }, {\n",
    "                        'supply': {\n",
    "                            '$gt': 0\n",
    "                        }\n",
    "                    }\n",
    "                ]\n",
    "            }\n",
    "        }, {\n",
    "            '$group': {\n",
    "                '_id': '$buy_price', \n",
    "                'stations': {\n",
    "                    '$push': '$station_id'\n",
    "                }\n",
    "            }\n",
    "        }, {\n",
    "            '$sort': {\n",
    "                '_id': 1\n",
    "            }\n",
    "        }, {\n",
    "            '$limit': 1\n",
    "        }, {\n",
    "            '$unwind': {\n",
    "                'path': '$stations', \n",
    "                'preserveNullAndEmptyArrays': False\n",
    "            }\n",
    "        }\n",
    "    ]\n",
    "    result = eddb['listings'].aggregate(query)\n",
    "    #get the station id from the result\n",
    "    station_ids = []\n",
    "    for row in result:\n",
    "        station_ids.append(row['stations'])\n",
    "    station_names = get_station_names(station_ids)\n",
    "\n",
    "    result_list = []\n",
    "    for row in station_names:\n",
    "        system_name = list(get_system_name(row['system_id']))[0]['name']\n",
    "        result_list.append({\"station_name\": row['name'], \"system_name\": system_name})\n",
    "    end = timer()\n",
    "\n",
    "    elapsed_time = end - start\n",
    "    timings.append(elapsed_time)\n",
    "\n",
    "    return result_list"
   ]
  },
  {
   "cell_type": "code",
   "execution_count": null,
   "metadata": {},
   "outputs": [],
   "source": [
    "commodity_name = 'Liquid oxygen'\n",
    "result = query_3_mongodb(commodity_name)\n",
    "for row in result:\n",
    "    print(f'The station, {row[\"station_name\"]} in {row[\"system_name\"]}, has the lowest price to buy {commodity_name}')"
   ]
  },
  {
   "source": [
    "### Neo4j"
   ],
   "cell_type": "markdown",
   "metadata": {}
  },
  {
   "cell_type": "code",
   "execution_count": null,
   "metadata": {},
   "outputs": [],
   "source": [
    "def query_3_neo4j(commodity_name, timings=[]):\n",
    "    query = f\"\"\"\n",
    "        MATCH (c:Commodity {{name: '{commodity_name}'}})\n",
    "        WITH c as commodity\n",
    "        MATCH (commodity)-[r:BUY_AT]->(s:Station)\n",
    "        WITH r.buy_price as buy_price, collect(s) as stations\n",
    "        ORDER BY buy_price\n",
    "        LIMIT 1\n",
    "        UNWIND stations as station\n",
    "        MATCH (station)<-[:CONTAINS]-(sys:System)\n",
    "        RETURN station.name as station_name, sys.name as system_name, buy_price\n",
    "        \"\"\"\n",
    "    start = timer()\n",
    "    result = session.run(query)\n",
    "    end = timer()\n",
    "\n",
    "    elapsed_time = end - start\n",
    "    timings.append(elapsed_time)\n",
    "\n",
    "    return result"
   ]
  },
  {
   "source": [
    "commodity_name = 'Liquid oxygen'\n",
    "result = query_3_neo4j(commodity_name)\n",
    "for row in result:\n",
    "    print(f\"{commodity_name} can be bought for the lowest price at {row['station_name']} in {row['system_name']} for {row['buy_price']}.\")"
   ],
   "cell_type": "code",
   "metadata": {
    "tags": []
   },
   "execution_count": null,
   "outputs": []
  },
  {
   "source": [
    "mySQL"
   ],
   "cell_type": "markdown",
   "metadata": {}
  },
  {
   "cell_type": "code",
   "execution_count": null,
   "metadata": {},
   "outputs": [],
   "source": [
    "def query_3_mySQL(commodity_name, timings=[]):\n",
    "    # get price\n",
    "    query = \"\"\"\n",
    "    SELECT min_buy_price\n",
    "    FROM commodity\n",
    "    WHERE name = \"{name}\"\n",
    "    \"\"\".format(name=commodity_name)\n",
    "\n",
    "    start = timer()\n",
    "    cursor.execute(query)\n",
    "\n",
    "    results = cursor.fetchall()\n",
    "\n",
    "    price = 0\n",
    "\n",
    "    for x in results:\n",
    "        price = x[0]\n",
    "\n",
    "    # where is it\n",
    "    query = \"\"\"\n",
    "    SELECT system_populated.name, station.name\n",
    "    FROM listing\n",
    "    JOIN station ON station.id=listing.station_id\n",
    "    JOIN system_populated ON station.system_id=system_populated.id\n",
    "    JOIN commodity ON listing.commodity_id=commodity.id\n",
    "    WHERE commodity.name = \"{name}\" AND listing.buy_price = {price}\n",
    "    \"\"\".format(name=commodity_name, price=price)\n",
    "\n",
    "    cursor.execute(query)\n",
    "\n",
    "    results = cursor.fetchall()\n",
    "    end = timer()\n",
    "\n",
    "    elapsed_time = end - start\n",
    "    timings.append(elapsed_time)\n",
    "\n",
    "    return results\n"
   ]
  },
  {
   "cell_type": "code",
   "execution_count": null,
   "metadata": {},
   "outputs": [],
   "source": [
    "commodity_name = 'Liquid oxygen'\n",
    "result = query_3_mySQL(commodity_name)\n",
    "for row in result:\n",
    "    print(f\"The station, {row[1]} in {row[0]}, has the best price for {commodity_name}\")"
   ]
  },
  {
   "cell_type": "code",
   "execution_count": null,
   "metadata": {},
   "outputs": [],
   "source": [
    "commodity_name = 'Liquid oxygen'\n",
    "query_3_timings = []\n",
    "#Run the queries to get thier timings\n",
    "query_3_mongodb(commodity_name, query_3_timings)\n",
    "query_3_neo4j(commodity_name, query_3_timings)\n",
    "query_3_mySQL(commodity_name, query_3_timings)\n",
    "#Plot the timings\n",
    "plot_timings(\"Query #3 Timings\", query_3_timings)"
   ]
  },
  {
   "source": [
    "### Timings Explination\n",
    "Neo4j performs best in this type of query because it is following the relationships for sell and buy prices. MongoDB and Neo4j need to look at every listing, including listings where an object may be sold/bought. Hoever, Neo4j has removed all these links where an item can not be bought or sold when the relationships were created. MongoDB also performs better because it is split into multiple queries. First, the results are gotten on the listings before resolving a small number of commodity names, station names, and system names. mySQL runs the slowest because it uses joins for all the tables, systems, stations, commodities, and listings, in order to obtain its results. These join queries are very costly."
   ],
   "cell_type": "markdown",
   "metadata": {}
  },
  {
   "source": [
    "## 4. Find the station where you can sell a given commodity for the highest price."
   ],
   "cell_type": "markdown",
   "metadata": {}
  },
  {
   "source": [
    "### MongoDB"
   ],
   "cell_type": "markdown",
   "metadata": {}
  },
  {
   "cell_type": "code",
   "execution_count": null,
   "metadata": {},
   "outputs": [],
   "source": [
    "def query_4_mongodb(commodity_name, timings=[]):\n",
    "    start = timer()\n",
    "    commodity_id = get_commodity_id(commodity_name)\n",
    "    #query for the station id where the commodity can bought for the lowest price\n",
    "    #ensure the demand is greater than zero otherwise there is nothing to sell at the station and the sell_price will be zero\n",
    "    query = [\n",
    "        {\n",
    "            '$match': {\n",
    "                '$and': [\n",
    "                    {\n",
    "                        'commodity_id': commodity_name\n",
    "                    }, {\n",
    "                        'demand': {\n",
    "                            '$gt': 0\n",
    "                        }\n",
    "                    }\n",
    "                ]\n",
    "            }\n",
    "        }, {\n",
    "            '$group': {\n",
    "                '_id': '$sell_price', \n",
    "                'stations': {\n",
    "                    '$push': '$station_id'\n",
    "                }\n",
    "            }\n",
    "        }, {\n",
    "            '$sort': {\n",
    "                '_id': -1\n",
    "            }\n",
    "        }, {\n",
    "            '$limit': 1\n",
    "        }, {\n",
    "            '$unwind': {\n",
    "                'path': '$stations', \n",
    "                'preserveNullAndEmptyArrays': False\n",
    "            }\n",
    "        }\n",
    "    ]\n",
    "    result = eddb['listings'].aggregate(query)\n",
    "    #get the station id from the result\n",
    "    station_ids = []\n",
    "    for row in result:\n",
    "        station_ids.append(row['stations'])\n",
    "    station_names = get_station_names(station_ids)\n",
    "\n",
    "    result_list = []\n",
    "    for row in station_names:\n",
    "        system_name = list(get_system_name(row['system_id']))[0]['name']\n",
    "        result_list.append({\"station_name\": row['name'], \"system_name\": system_name})\n",
    "\n",
    "    end = timer()\n",
    "\n",
    "    elapsed_time = end - start\n",
    "    timings.append(elapsed_time)\n",
    "\n",
    "    return result_list"
   ]
  },
  {
   "cell_type": "code",
   "execution_count": null,
   "metadata": {},
   "outputs": [],
   "source": [
    "commodity_name = 'Beer'\n",
    "result = query_4_mongodb(commodity_name)\n",
    "for row in result:\n",
    "    print(f'The station, {row[\"station_name\"]} in {row[\"system_name\"]}, has the lowest price to buy {commodity_name}')"
   ]
  },
  {
   "source": [
    "### Neo4j"
   ],
   "cell_type": "markdown",
   "metadata": {}
  },
  {
   "cell_type": "code",
   "execution_count": null,
   "metadata": {},
   "outputs": [],
   "source": [
    "def query_4_neo4j(commodity_name, timings=[]):\n",
    "    query = f\"\"\"\n",
    "        MATCH (c:Commodity {{name: '{commodity_name}'}})\n",
    "        WITH c as commodity\n",
    "        MATCH (commodity)-[r:SELL_AT]->(s:Station)\n",
    "        WITH r.sell_price as sell_price, collect(s) as stations\n",
    "        ORDER BY sell_price DESC\n",
    "        LIMIT 1\n",
    "        UNWIND stations as station\n",
    "        MATCH (station)<-[:CONTAINS]-(sys:System)\n",
    "        RETURN station.name as station_name, sys.name as system_name, sell_price\n",
    "        \"\"\"\n",
    "    start = timer()\n",
    "    result = session.run(query)\n",
    "    end = timer()\n",
    "\n",
    "    elapsed_time = end - start\n",
    "    timings.append(elapsed_time)\n",
    "    \n",
    "    return result"
   ]
  },
  {
   "cell_type": "code",
   "execution_count": null,
   "metadata": {},
   "outputs": [],
   "source": [
    "commodity_name = 'Beer'\n",
    "result = query_4_neo4j(commodity_name)\n",
    "for row in result:\n",
    "    print(f\"{commodity_name} can be sold for the highest price at {row['station_name']} in {row['system_name']} for {row['sell_price']}.\")"
   ]
  },
  {
   "source": [
    "### mySQL"
   ],
   "cell_type": "markdown",
   "metadata": {}
  },
  {
   "cell_type": "code",
   "execution_count": null,
   "metadata": {},
   "outputs": [],
   "source": [
    "def query_4_mysql(commodity_name, timings=[]):\n",
    "    # get price\n",
    "    query = \"\"\"\n",
    "    SELECT max_sell_price\n",
    "    FROM commodity\n",
    "    WHERE name = \"{name}\"\n",
    "    \"\"\".format(name=commodity_name)\n",
    "\n",
    "    start = timer()\n",
    "    cursor.execute(query)\n",
    "\n",
    "    results = cursor.fetchall()\n",
    "\n",
    "    price = 0\n",
    "\n",
    "    for x in results:\n",
    "        price = x[0]\n",
    "\n",
    "    # where is it\n",
    "    query = \"\"\"\n",
    "    SELECT system_populated.name, station.name\n",
    "    FROM listing\n",
    "    JOIN station ON station.id=listing.station_id\n",
    "    JOIN system_populated ON station.system_id=system_populated.id\n",
    "    JOIN commodity ON listing.commodity_id=commodity.id\n",
    "    WHERE commodity.name = \"{name}\" AND listing.sell_price = {price}\n",
    "    \"\"\".format(name=commodity_name, price=price)\n",
    "\n",
    "    cursor.execute(query)\n",
    "\n",
    "    results = cursor.fetchall()\n",
    "    end = timer()\n",
    "\n",
    "    elapsed_timer = end - start\n",
    "    timings.append(elapsed_timer)\n",
    "\n",
    "    return results"
   ]
  },
  {
   "cell_type": "code",
   "execution_count": null,
   "metadata": {},
   "outputs": [],
   "source": [
    "commodity_name = 'Beer'\n",
    "result = query_4_mysql(commodity_name)\n",
    "for row in result:\n",
    "        print(f'{row[1]} in {row[0]} is where {commodity_name} can be sold for the highest price.')"
   ]
  },
  {
   "cell_type": "code",
   "execution_count": null,
   "metadata": {},
   "outputs": [],
   "source": [
    "commodity_name = 'Beer'\n",
    "query_4_timings = []\n",
    "#Run the queries to get their timings\n",
    "query_4_mongodb(commodity_name, query_4_timings)\n",
    "query_4_neo4j(commodity_name, query_4_timings)\n",
    "query_4_mysql(commodity_name, query_4_timings)\n",
    "#Plot the timings\n",
    "plot_timings(\"Query #4 Timings\", query_4_timings)"
   ]
  },
  {
   "source": [
    "### Timings Explination\n",
    "**The explination for this query is the same as for query #3 since they are doing similar operations.**\n",
    "\n",
    "Neo4j performs best in this type of query because it is following the relationships for sell and buy prices. MongoDB and Neo4j need to look at every listing, including listings where an object may not be sold/bought based on the demand or supply of the item being zero. Hoever, Neo4j has removed all these links where an item can not be bought or sold when the relationships were created. MongoDB also performs better because it is split into multiple queries. First, the results are gotten on the listings before resolving a small number of commodity names, station names, and system names. mySQL runs the slowest because it uses joins for all the tables: systems, stations, commodities, and listings, in order to obtain its results. These join queries are very costly."
   ],
   "cell_type": "markdown",
   "metadata": {}
  },
  {
   "source": [
    "## 5. Given a system and range, find the best commodity to buy and sell locally."
   ],
   "cell_type": "markdown",
   "metadata": {}
  },
  {
   "source": [
    "### MongoDB"
   ],
   "cell_type": "markdown",
   "metadata": {}
  },
  {
   "cell_type": "code",
   "execution_count": null,
   "metadata": {},
   "outputs": [],
   "source": [
    "def query_5_mongodb(current_system_name, distance, timings=[]):\n",
    "    #Get the coordinates for the original system\n",
    "    start = timer()\n",
    "    filter={'name': current_system_name}\n",
    "    project={'x': 1, 'y': 1, 'z': 1}\n",
    "    result = list(eddb['systems_populated'].find(filter=filter, projection=project))\n",
    "    x = result[0]['x']\n",
    "    y = result[0]['y']\n",
    "    z = result[0]['z']\n",
    "\n",
    "    #Get all the systems in the range\n",
    "    query = [\n",
    "        {'$addFields': {'squared_distance': {'$sum': [{'$pow': [{'$subtract': ['$x', x]}, 2]}, {'$pow': [{'$subtract': ['$y', y]}, 2]}, {'$pow': [{'$subtract': ['$z', z]}, 2]}]}}}, \n",
    "        {'$match': {'squared_distance': {'$lt': distance*distance}}}, {'$project': {'name': 1, 'id': 1}}\n",
    "    ]\n",
    "    systems = list(eddb['systems_populated'].aggregate(query))\n",
    "    system_list = []\n",
    "    for system in systems:\n",
    "        system_list.append(system['id'])\n",
    "\n",
    "    #Get all the station ids\n",
    "    filter={'system_id': {'$in': system_list}}\n",
    "    project={'id': 1, 'name': 1, 'system_id': 1}\n",
    "    stations_result = list(eddb['stations'].find(filter=filter, projection=project)) \n",
    "    stations_list = []\n",
    "    for station in stations_result:\n",
    "        stations_list.append(station['id'])\n",
    "    \n",
    "    max_sell_price_query = [\n",
    "        {'$match': {'$and': [{'station_id': {'$in': stations_list}}, {'demand': {'$gt': 0}}] }}, \n",
    "        {'$sort': {'sell_price': -1}}, \n",
    "        {'$group': {\n",
    "                '_id': '$commodity_id', \n",
    "                'max_sell_price': {'$first': '$sell_price'},\n",
    "                'station_id': {\"$first\": \"$station_id\"}\n",
    "            }\n",
    "        }\n",
    "    ]\n",
    "    min_buy_price_query = [\n",
    "        {'$match': {'$and': [ {'station_id': {'$in': stations_list}}, {'supply': {'$gt': 0}}]}}, \n",
    "        {'$sort': {'buy_price': 1}}, \n",
    "        {'$group': {\n",
    "                '_id': '$commodity_id', \n",
    "                'min_buy_price': {'$first': '$buy_price'},\n",
    "                'station_id': {\"$first\": \"$station_id\"}\n",
    "            }\n",
    "        }\n",
    "    ]\n",
    "    sell_prices = list(eddb['listings'].aggregate(max_sell_price_query))\n",
    "    buy_prices = list(eddb['listings'].aggregate(min_buy_price_query))\n",
    "    #Find the commodity with the best profit\n",
    "    best_commodity = {}\n",
    "    for s_row in sell_prices:\n",
    "        for b_row in buy_prices:\n",
    "            if s_row['_id'] == b_row['_id']:\n",
    "                profit = s_row['max_sell_price'] - b_row['min_buy_price']\n",
    "                #If a commodity entry is already there compare for the best profit, otherwise populate the best commodity dict\n",
    "                if 'profit' in best_commodity:\n",
    "                    if profit > best_commodity['profit']:\n",
    "                        best_commodity = {'commodity_id': b_row['_id'], 'profit': profit, \"src_station\": b_row['station_id'], \"dst_station\": s_row['station_id']}\n",
    "                else:\n",
    "                    best_commodity = {'commodity_id': b_row['_id'], 'profit': profit, \"src_station\": b_row['station_id'], \"dst_station\": s_row['station_id']}\n",
    "    #Get the string names for the commodity, stations, and systems\n",
    "    commodity_name = get_commodity_name(best_commodity['commodity_id'])\n",
    "    for station in stations_result:\n",
    "        if station['id'] == best_commodity['src_station']:\n",
    "            src_station = station['name']\n",
    "            for system in systems:\n",
    "                if system['id'] == station['system_id']:\n",
    "                    src_system = system['name']\n",
    "        if station['id'] == best_commodity['dst_station']:\n",
    "            dst_station = station['name']\n",
    "            for system in systems:\n",
    "                if system['id'] == station['system_id']:\n",
    "                    dst_system = system['name']\n",
    "    end = timer()\n",
    "\n",
    "    elapsed_time = end - start\n",
    "    timings.append(elapsed_time)\n",
    "\n",
    "    return {'commodity_name': commodity_name, 'profit': best_commodity['profit'], 'src_system': src_system, 'src_station': src_station, 'dst_system': dst_system, 'dst_station': dst_station}"
   ]
  },
  {
   "cell_type": "code",
   "execution_count": null,
   "metadata": {},
   "outputs": [],
   "source": [
    "current_system_name = 'Nerthus'\n",
    "distance = 24\n",
    "result = query_5_mongodb(current_system_name, distance)\n",
    "print(f\"The most profitable commodity is {result['commodity_name']} at a profit of {result['profit']} buying from {result['src_station']} in {result['src_system']} and selling to {result['dst_station']} in {result['dst_system']}\")"
   ]
  },
  {
   "source": [
    "### Neo4j"
   ],
   "cell_type": "markdown",
   "metadata": {}
  },
  {
   "cell_type": "code",
   "execution_count": null,
   "metadata": {},
   "outputs": [],
   "source": [
    "def query_5_neo4j(current_system_name, distance, timings=[]):\n",
    "    #Query to get a list of buyings and sellings at each station\n",
    "    query = f\"\"\"\n",
    "            MATCH result=(sys:System{{name:'{current_system_name}'}})-[r:DISTANCE]-(otherSys:System)\n",
    "            WHERE r.lightYears < {distance}\n",
    "            WITH collect(otherSys)+sys as systems\n",
    "            UNWIND systems as system\n",
    "            MATCH (system)-[:CONTAINS]->(station:Station)\n",
    "            WITH system, station\n",
    "            MATCH (c:Commodity)-[r:BUY_AT]->(station)\n",
    "            WITH system, station, collect({{commodity_name:c.name, buy_price: r.buy_price}}) as buy_listings\n",
    "            MATCH (c:Commodity)-[r:SELL_AT]->(station)\n",
    "            RETURN system.name as system_name, station.name as station_name, buy_listings, collect({{commodity_name:c.name, sell_price: r.sell_price}}) as sell_listings\n",
    "            \"\"\"\n",
    "    start = timer()\n",
    "    result = session.run(query)\n",
    "    buy_listings = {}\n",
    "    sell_listings = {}\n",
    "    #Go thorugh each result to find which commodity prices are the best and from which station they are best\n",
    "    for row in result:\n",
    "        system_name = row['system_name']\n",
    "        station_name = row['station_name']\n",
    "        for listing in row['buy_listings']:\n",
    "            commodity_name = listing['commodity_name']\n",
    "            if not commodity_name in buy_listings or buy_listings[commodity_name]['buy_price'] > listing['buy_price']:\n",
    "                buy_listings[commodity_name] = {'buy_price': listing['buy_price'], 'station': station_name, 'system': system_name}\n",
    "        for listing in row['sell_listings']:\n",
    "            commodity_name = listing['commodity_name']\n",
    "            if not commodity_name in sell_listings or sell_listings[commodity_name]['sell_price'] < listing['sell_price']:\n",
    "                sell_listings[commodity_name] = {'sell_price': listing['sell_price'], 'station': station_name, 'system': system_name}\n",
    "\n",
    "    #Go through all the best lisitings and choose the commodity with the highest profit margin\n",
    "    best_listing = {}\n",
    "    commodity_names = buy_listings.keys()\n",
    "    for name in commodity_names:\n",
    "        if name in sell_listings:\n",
    "            profit = sell_listings[name]['sell_price']-buy_listings[name]['buy_price']\n",
    "            if not best_listing or best_listing['profit'] < profit:\n",
    "                best_listing = {'name': name, 'profit': profit}\n",
    "    end = timer()\n",
    "\n",
    "    elapsed_time = end - start\n",
    "    timings.append(elapsed_time)\n",
    "\n",
    "    src_station = buy_listings[best_listing['name']]['station']\n",
    "    src_system = buy_listings[best_listing['name']]['system']\n",
    "    dst_station = sell_listings[best_listing['name']]['station']\n",
    "    dst_system = sell_listings[best_listing['name']]['system']\n",
    "    return {\"src_station\": src_station, \"src_system\": src_system, \"dst_station\": dst_station, \"dst_system\": dst_system, \n",
    "            \"commodity_name\": best_listing[\"name\"], \"profit\": best_listing[\"profit\"]}"
   ]
  },
  {
   "cell_type": "code",
   "execution_count": null,
   "metadata": {
    "tags": []
   },
   "outputs": [],
   "source": [
    "current_system_name = 'Nerthus'\n",
    "distance = 24\n",
    "result = query_5_neo4j(current_system_name, distance)\n",
    "print(f\"The most profitable commodity is {result['commodity_name']} at a profit of {result['profit']} buying from {result['src_station']} in {result['src_system']} and selling to {result['dst_station']} in {result['dst_system']}\")"
   ]
  },
  {
   "source": [
    "mySQL"
   ],
   "cell_type": "markdown",
   "metadata": {}
  },
  {
   "cell_type": "code",
   "execution_count": null,
   "metadata": {},
   "outputs": [],
   "source": [
    "def query_5_mysql(current_system_name, distance, timings=[]):\n",
    "    query = \"\"\"\n",
    "    SELECT x, y, z\n",
    "    FROM system_populated\n",
    "    WHERE name = '{name}'\n",
    "    \"\"\".format(name=current_system_name)\n",
    "\n",
    "    start = timer()\n",
    "    cursor.execute(query)\n",
    "\n",
    "    results = cursor.fetchall()\n",
    "\n",
    "    coords = results[0]\n",
    "\n",
    "    # Get all stations within range with listings\n",
    "    query = \"\"\"\n",
    "    SELECT station.name, station.id, sys.name, sys.id, commodity.name, commodity.id, listing.sell_price, listing.buy_price, listing.supply, listing.demand\n",
    "    FROM system_populated as sys\n",
    "    JOIN station ON station.system_id = sys.id\n",
    "    JOIN listing ON station.id = listing.station_id\n",
    "    JOIN commodity ON commodity.id=listing.commodity_id\n",
    "    WHERE POWER({trade_range}, 2) > (POWER(sys.x - {x}, 2) + POWER(sys.y - {y}, 2) + POWER(sys.z - {z}, 2))\n",
    "    \"\"\".format(trade_range=distance, x=coords[0], y=coords[1], z=coords[2])\n",
    "\n",
    "    cursor.execute(query)\n",
    "\n",
    "    results = cursor.fetchall()\n",
    "\n",
    "    min_buy = dict()\n",
    "    max_sell = dict()\n",
    "    profit = dict()\n",
    "\n",
    "    for x in results:\n",
    "        if x[8] > 0:\n",
    "            if x[4] in min_buy:\n",
    "                if min_buy[x[4]] > x[7]:\n",
    "                    min_buy[x[4]] = x[7]\n",
    "            else:\n",
    "                min_buy[x[4]] = x[7]\n",
    "\n",
    "    for x in results:\n",
    "        if x[4] in min_buy and x[9] > 0:\n",
    "            if x[4] in max_sell:\n",
    "                if max_sell[x[4]] < x[6]:\n",
    "                    max_sell[x[4]] = x[6]\n",
    "            else:\n",
    "                max_sell[x[4]] = x[6]\n",
    "                \n",
    "    for x in min_buy:\n",
    "        if x in max_sell:\n",
    "            profit[x] = max_sell[x] - min_buy[x]\n",
    "\n",
    "    max_profit_commodity = max(profit, key = lambda k: profit[k])\n",
    "    max_profit = profit[max_profit_commodity]\n",
    "    buy_location = None\n",
    "    sell_location = None\n",
    "\n",
    "    for x in results:\n",
    "        if x[6] == max_sell[max_profit_commodity]:\n",
    "            sell_location = x\n",
    "        if x[7] == min_buy[max_profit_commodity]:\n",
    "            buy_location = x\n",
    "    end = timer()\n",
    "\n",
    "    elapsed_time = end - start\n",
    "    timings.append(elapsed_time)\n",
    "\n",
    "    return {\"src_station\": buy_location[0], \"src_system\": buy_location[2], \"dst_station\": sell_location[0], \"dst_system\": sell_location[2], \"commodity_name\": buy_location[4], \"profit\": max_profit}\n"
   ]
  },
  {
   "cell_type": "code",
   "execution_count": null,
   "metadata": {},
   "outputs": [],
   "source": [
    "current_system_name = 'Nerthus'\n",
    "distance = 24\n",
    "result = query_5_mysql(current_system_name, distance)\n",
    "print(f\"The most profitable commodity is {result['commodity_name']} at a profit of {result['profit']} buying from {result['src_station']} in {result['src_system']} and selling to {result['dst_station']} in {result['dst_system']}\")"
   ]
  },
  {
   "cell_type": "code",
   "execution_count": null,
   "metadata": {},
   "outputs": [],
   "source": [
    "current_system_name = 'Nerthus'\n",
    "distance = 24\n",
    "query_5_timings = []\n",
    "#Run the queries to get thier timings\n",
    "query_5_mongodb(current_system_name, distance, query_5_timings)\n",
    "query_5_neo4j(current_system_name, distance, query_5_timings)\n",
    "query_5_mysql(current_system_name, distance, query_5_timings)\n",
    "#Plot the timings\n",
    "plot_timings(\"Query #5 Timings\", query_5_timings)"
   ]
  },
  {
   "source": [
    "### Timings Explination\n",
    "Neo4j performs the best in this type of query because it leverages the fact that it already stores its view of all the systems in a connected graph. Because of this it does not need to calculate distances between the nodes at run time, only compare distances for already stored relationships. Additionally, it is able to easily follow relatioships to get all the buy and sell relationships for commodities which exclude data where a commodity is not sold at a certain station. MongoDB and mySQL both have to examine listings where a commodity is not bought or sold somewhere and exclude that data item from calculations. Both mySQL and Neo4j also need to calculate distances between systems at run time as well. The MongoDB query runs much faster because it splits data up into seperate queries. It first cuts down on the amount of data by finding the relevant systems in the range and all the stations, then calculating the best commodities. Lastly, mySQL performs very poorly in this type of query because it joins all the tables together which is very costly. It then has to do calculations on a huge data set in order to shrink things down to the correct results due to joining all the tables together. Note: mySQL and neo4j also return a very large data set which needs to be sorted to get the correct result while mongodb's query has methods to only return the best profit listing for each commodity requiring less data manipulation. "
   ],
   "cell_type": "markdown",
   "metadata": {}
  },
  {
   "source": [
    "## 6. Find the nearest system that provides certain services"
   ],
   "cell_type": "markdown",
   "metadata": {}
  },
  {
   "source": [
    "### MongoDB"
   ],
   "cell_type": "markdown",
   "metadata": {}
  },
  {
   "cell_type": "code",
   "execution_count": null,
   "metadata": {},
   "outputs": [],
   "source": [
    "def query_6_mongodb(current_system_name, service_name, timings=[]):\n",
    "    service_name = 'has_'+service_name\n",
    "    \n",
    "    start = timer()\n",
    "    filter={'name': current_system_name}\n",
    "    project={'x': 1, 'y': 1, 'z': 1}\n",
    "    result = list(eddb['systems_populated'].find(filter=filter, projection=project))\n",
    "    #Current system coordinates\n",
    "    x = result[0]['x']\n",
    "    y = result[0]['y']\n",
    "    z = result[0]['z']\n",
    "\n",
    "    #Get the list of all the system ids with the specific service\n",
    "    filter={service_name: True}\n",
    "    project={'system_id': 1, 'name': 1}\n",
    "    station_result = list(eddb['stations'].find(filter=filter, projection=project))\n",
    "    system_list = []\n",
    "    for station in station_result:\n",
    "        if not station['system_id'] in system_list:\n",
    "            system_list.append(station['system_id'])\n",
    "    \n",
    "    query = [\n",
    "        {'$match': {'id': {'$in': system_list}}}, \n",
    "        {'$addFields': {'squared_distance': {'$sum': [{'$pow': [{'$subtract': ['$x', x]}, 2]}, {'$pow': [{'$subtract': ['$y', y]}, 2]}, {'$pow': [{'$subtract': ['$z', z]}, 2]}]}}}, \n",
    "        {'$sort': {'squared_distance': 1}},\n",
    "        {'$limit': 1},\n",
    "        {'$project': {'name': 1, 'id': 1}}\n",
    "    ]\n",
    "    system_result = list(eddb['systems_populated'].aggregate(query))\n",
    "    system_name = system_result[0]['name']\n",
    "    system_id = system_result[0]['id']\n",
    "\n",
    "    resulting_stations = []\n",
    "    for station in station_result:\n",
    "        if station['system_id'] == system_id:\n",
    "            resulting_stations.append(station['name'])\n",
    "\n",
    "    end = timer()\n",
    "\n",
    "    elapsed_time = end - start\n",
    "    timings.append(elapsed_time)\n",
    "\n",
    "    return {'system_name': system_name, 'stations': resulting_stations}"
   ]
  },
  {
   "cell_type": "code",
   "execution_count": null,
   "metadata": {},
   "outputs": [],
   "source": [
    "current_system_name = 'Nerthus'\n",
    "service = 'blackmarket'\n",
    "result = query_6_mongodb(current_system_name, service)\n",
    "for station in result['stations']:\n",
    "    print(f\"The closest station with {service} is {station} in {result['system_name']}\")"
   ]
  },
  {
   "source": [
    "### Neo4j"
   ],
   "cell_type": "markdown",
   "metadata": {}
  },
  {
   "cell_type": "code",
   "execution_count": null,
   "metadata": {},
   "outputs": [],
   "source": [
    "def query_6_neo4j(current_system_name, service, timings=[]):\n",
    "    query = f\"\"\"\n",
    "        MATCH (sys: System {{name: '{current_system_name}'}})\n",
    "        WITH sys.x as x, sys.y as y , sys.z as z\n",
    "        MATCH (s: Station)\n",
    "        WHERE '{service}' IN s.services\n",
    "        WITH s, x, y, z\n",
    "        MATCH (s)<-[:CONTAINS]-(sys:System)\n",
    "        RETURN sys.name as system, collect(s.name) as stations, (x-sys.x)^2 + (y-sys.y)^2 + (z-sys.z)^2 as distanceSquared\n",
    "        ORDER BY distanceSquared\n",
    "        LIMIT 1\n",
    "        \"\"\"\n",
    "    start = timer()\n",
    "    result = session.run(query)\n",
    "    end = timer()\n",
    "\n",
    "    elapsed_time = end - start\n",
    "    timings.append(elapsed_time)\n",
    "\n",
    "    return list(result)"
   ]
  },
  {
   "cell_type": "code",
   "execution_count": null,
   "metadata": {},
   "outputs": [],
   "source": [
    "current_system_name = 'Nerthus'\n",
    "service = 'blackmarket'\n",
    "result = query_6_neo4j(current_system_name, service)\n",
    "for station in result[0]['stations']:\n",
    "    print(f\"The closest station with {service} is {station} in {result[0]['system']}\")"
   ]
  },
  {
   "source": [
    "### mySQL"
   ],
   "cell_type": "markdown",
   "metadata": {}
  },
  {
   "cell_type": "code",
   "execution_count": null,
   "metadata": {},
   "outputs": [],
   "source": [
    "def query_6_mysql(current_system_name, service, timings=[]):\n",
    "    service = 'has_'+service\n",
    "\n",
    "    # Get Current System Coords\n",
    "    query = \"\"\"\n",
    "    SELECT x, y, z\n",
    "    FROM system_populated\n",
    "    WHERE name = '{name}'\n",
    "    \"\"\".format(name=current_system_name)\n",
    "\n",
    "    start = timer()\n",
    "    cursor.execute(query)\n",
    "\n",
    "    results = cursor.fetchall()\n",
    "\n",
    "    coords = results[0]\n",
    "\n",
    "    query = \"\"\"\n",
    "    SELECT sys.name, station.name, (POWER(sys.x - {x}, 2) + POWER(sys.y - {y}, 2) + POWER(sys.z - {z}, 2)) AS Distance\n",
    "    FROM station\n",
    "    JOIN system_populated AS sys\n",
    "    ON sys.id = station.system_id\n",
    "    WHERE {service} = 1 AND sys.id IN (\n",
    "        SELECT sub.id FROM (\n",
    "            SELECT sys.id, (POWER(sys.x - {x}, 2) + POWER(sys.y - {y}, 2) + POWER(sys.z - {z}, 2)) AS Distance\n",
    "            FROM station\n",
    "            JOIN system_populated AS sys\n",
    "            ON sys.id = station.system_id\n",
    "            WHERE {service} = 1\n",
    "            ORDER BY Distance ASC\n",
    "            LIMIT 1\n",
    "        ) sub\n",
    "    )\n",
    "    \"\"\".format(service=service, x=coords[0], y=coords[1], z=coords[2])\n",
    "\n",
    "    cursor.execute(query)\n",
    "\n",
    "    results = cursor.fetchall()\n",
    "    end = timer()\n",
    "\n",
    "    elapsed_time = end - start\n",
    "    timings.append(elapsed_time)\n",
    "\n",
    "    return results"
   ]
  },
  {
   "cell_type": "code",
   "execution_count": null,
   "metadata": {},
   "outputs": [],
   "source": [
    "current_system_name = 'Nerthus'\n",
    "service = 'blackmarket'\n",
    "result = query_6_mysql(current_system_name, service)\n",
    "for row in result:\n",
    "    print(f\"The closest station with {service} is {row[1]} in {row[0]}\")"
   ]
  },
  {
   "cell_type": "code",
   "execution_count": null,
   "metadata": {},
   "outputs": [],
   "source": [
    "current_system_name = 'Nerthus'\n",
    "service = 'blackmarket'\n",
    "query_6_timings = []\n",
    "#Execute the queries to get their timings\n",
    "query_6_mongodb(current_system_name, service, query_6_timings)\n",
    "query_6_neo4j(current_system_name, service, query_6_timings)\n",
    "query_6_mysql(current_system_name, service, query_6_timings)\n",
    "#Plot the timings\n",
    "plot_timings(\"Query #6 Timings\", query_6_timings)"
   ]
  },
  {
   "source": [
    "## Timings Explination\n",
    "Neo4j performs the best in this kind of query because it can leverage its relationships again. Instead of needing to match a system id by looking through the whole systems table, it can quickly follow a relationship from the station to match it to the system. mySQL outperforms MongoDB in this query because mySQL is able to limit its search space with a sub-query first. It first finds all the systems within the desired range before looking at the individual stations which is a larger table. MongoDB first finds all stations with a given service. Because the stations is a larger dataset, it takes more time instead of reducing the number of stations by finding the systems first. Both MongoDB and mySQL have to get data from multiple tables which is why Neo4j works better in this type of query."
   ],
   "cell_type": "markdown",
   "metadata": {}
  },
  {
   "source": [
    "## 7. Find the number of systems each faction controls"
   ],
   "cell_type": "markdown",
   "metadata": {}
  },
  {
   "source": [
    "### MongoDB"
   ],
   "cell_type": "markdown",
   "metadata": {}
  },
  {
   "cell_type": "code",
   "execution_count": null,
   "metadata": {},
   "outputs": [],
   "source": [
    "def query_7_mongodb(timings=[]):\n",
    "    query = [\n",
    "        {'$project': {'controlling_minor_faction': 1}}, \n",
    "        {'$group': {\n",
    "                '_id': '$controlling_minor_faction', \n",
    "                'total': {'$sum': 1}\n",
    "            }\n",
    "        }, \n",
    "        {'$sort': {'total': -1}},\n",
    "        {'$limit': 25}\n",
    "    ]\n",
    "    start = timer()\n",
    "    result = eddb['systems_populated'].aggregate(query)\n",
    "    end = timer()\n",
    "\n",
    "    elapsed_time = end - start\n",
    "    timings.append(elapsed_time)\n",
    "\n",
    "    return result"
   ]
  },
  {
   "cell_type": "code",
   "execution_count": null,
   "metadata": {},
   "outputs": [],
   "source": [
    "result = query_7_mongodb()\n",
    "for row in result:\n",
    "    print(f\"{row['_id']} controls {row['total']}\")"
   ]
  },
  {
   "source": [
    "### Neo4j"
   ],
   "cell_type": "markdown",
   "metadata": {}
  },
  {
   "cell_type": "code",
   "execution_count": null,
   "metadata": {},
   "outputs": [],
   "source": [
    "def query_7_neo4j(timings=[]):\n",
    "    query = \"\"\"\n",
    "        MATCH (f:Faction)-[:CONTROLS]->(s:System)\n",
    "        RETURN f.name as faction, count(*) as number_of_systems_controlled\n",
    "        ORDER BY number_of_systems_controlled DESC\n",
    "        LIMIT 25\n",
    "        \"\"\"\n",
    "    start = timer()\n",
    "    result = session.run(query)\n",
    "    end = timer()\n",
    "\n",
    "    elapsed_time = end - start\n",
    "    timings.append(elapsed_time)\n",
    "\n",
    "    return result"
   ]
  },
  {
   "cell_type": "code",
   "execution_count": null,
   "metadata": {
    "tags": []
   },
   "outputs": [],
   "source": [
    "result = query_7_neo4j()\n",
    "for row in result:\n",
    "    print(f\"{row['faction']} conrols {row['number_of_systems_controlled']} systems\")"
   ]
  },
  {
   "source": [
    "### mySQL"
   ],
   "cell_type": "markdown",
   "metadata": {}
  },
  {
   "cell_type": "code",
   "execution_count": null,
   "metadata": {},
   "outputs": [],
   "source": [
    "def query_7_mysql(timings=[]):\n",
    "    query = \"\"\"\n",
    "    SELECT f.name as faction_name, COUNT(*) as systems_controlled\n",
    "    FROM faction as f\n",
    "    JOIN system_populated as sys\n",
    "    ON f.id = sys.controlling_minor_faction_id\n",
    "    GROUP BY f.name\n",
    "    ORDER BY systems_controlled DESC\n",
    "    LIMIT 25\n",
    "    \"\"\"\n",
    "    start = timer()\n",
    "    cursor.execute(query)\n",
    "    result = cursor.fetchall()\n",
    "    end = timer()\n",
    "\n",
    "    elapsed_time = end - start\n",
    "    timings.append(elapsed_time)\n",
    "\n",
    "    return result"
   ]
  },
  {
   "cell_type": "code",
   "execution_count": null,
   "metadata": {},
   "outputs": [],
   "source": [
    "result = query_7_mysql()\n",
    "for row in result:\n",
    "    print(f\"{row[0]} controls {row[1]} systems\")"
   ]
  },
  {
   "cell_type": "code",
   "execution_count": null,
   "metadata": {},
   "outputs": [],
   "source": [
    "query_7_timings = []\n",
    "#Run the queries to get thier timings\n",
    "query_7_mongodb(query_7_timings)\n",
    "query_7_neo4j(query_7_timings)\n",
    "query_7_mysql(query_7_timings)\n",
    "#Plot the timings\n",
    "plot_timings(\"Query #7 Timings\", query_7_timings)"
   ]
  },
  {
   "source": [
    "### Timings Explination\n",
    "MongoDB works the best for this type of query because it only needs to look in one table. Since the faction name is denormalized and included in the system's table, a seperate query or join does not need to take place in MongoDB. MongoDB works the best when it only needs to query on a single table. Neo4j also performs well for this type of query because it again can leverage its relationship from each faction to the system it controls. It is not as effecient at aggregating data which is why MongoDB performs just a little better. Lastly, mySQL still works in a reasonable amount of time, but performs the worst because it needs to do an expensive join operation to get the faction names."
   ],
   "cell_type": "markdown",
   "metadata": {}
  },
  {
   "source": [
    "## 8. Find the rarest module and where to buy it."
   ],
   "cell_type": "markdown",
   "metadata": {}
  },
  {
   "source": [
    "### MongoDB"
   ],
   "cell_type": "markdown",
   "metadata": {}
  },
  {
   "cell_type": "code",
   "execution_count": null,
   "metadata": {},
   "outputs": [],
   "source": [
    "def query_8_mongodb(timings=[]):\n",
    "    #Get the module ids sold in the least places and the stations they are sold at\n",
    "    query = [\n",
    "        {'$project': {'name': 1, 'system_id': 1, 'selling_modules': 1}}, \n",
    "        {'$unwind': {'path': '$selling_modules', 'preserveNullAndEmptyArrays': False}}, \n",
    "        {\n",
    "            '$group': {\n",
    "                '_id': '$selling_modules', \n",
    "                'count': {\n",
    "                    '$sum': 1\n",
    "                }, \n",
    "                'system_ids': {\n",
    "                    '$push': '$system_id'\n",
    "                },\n",
    "                'station_name': {\n",
    "                    '$push': '$name'\n",
    "                },\n",
    "            }\n",
    "        }, {\n",
    "            '$group': {\n",
    "                '_id': '$count', \n",
    "                'modules': {\n",
    "                    '$push': {\n",
    "                        'module_id': '$_id', \n",
    "                        'system_ids': '$system_ids',\n",
    "                        'station_names': '$station_name'\n",
    "                    }\n",
    "                }\n",
    "            }\n",
    "        }, \n",
    "        {'$sort': {'_id': 1}}, \n",
    "        {'$limit': 1}\n",
    "    ]\n",
    "    start = timer()\n",
    "    station_result = list(eddb['stations'].aggregate(pipeline=query, allowDiskUse=True))\n",
    "    listing_result = []\n",
    "    for row in station_result[0]['modules']:\n",
    "        filter={'id': row['module_id']}\n",
    "        project={'ed_symbol': 1}\n",
    "        result = list(eddb['modules'].find(filter=filter, projection=project))\n",
    "        module_name = result[0]['ed_symbol']\n",
    "        for station in row['station_names']:\n",
    "            station_name = station\n",
    "        for system_id in row['system_ids']:\n",
    "            filter={'id': system_id}\n",
    "            project={'name': 1}\n",
    "            result = list(eddb['systems_populated'].find(filter=filter, projection=project))\n",
    "            system_name = result[0]['name']\n",
    "        listing_result.append({'module_name': module_name, 'station_name': station_name, \"system_name\": system_name})\n",
    "    end = timer()\n",
    "\n",
    "    elapsed_time = end - start\n",
    "    timings.append(elapsed_time)\n",
    "\n",
    "    return listing_result"
   ]
  },
  {
   "cell_type": "code",
   "execution_count": null,
   "metadata": {},
   "outputs": [],
   "source": [
    "result = query_8_mongodb()\n",
    "for row in result:\n",
    "    print(f\"Rare module {row['module_name']} can be found at {row['station_name']} in {row['system_name']}\")"
   ]
  },
  {
   "source": [
    "### Neo4j"
   ],
   "cell_type": "markdown",
   "metadata": {}
  },
  {
   "cell_type": "code",
   "execution_count": null,
   "metadata": {},
   "outputs": [],
   "source": [
    "def query_8_neo4j(timings=[]):\n",
    "    query = \"\"\"\n",
    "        MATCH (m:Module)-[:SOLD_AT]->(s:Station)\n",
    "        WITH m, count(*) as total\n",
    "        WITH total, collect(m) as modules\n",
    "        ORDER BY total\n",
    "        LIMIT 1\n",
    "        UNWIND modules as m\n",
    "        MATCH (m)-[:SOLD_AT]->(s:Station)\n",
    "        WITH s, m\n",
    "        MATCH (s)<-[:CONTAINS]-(sys:System)\n",
    "        RETURN m.ed_symbol as ed_symbol, sys.name as system_name, s.name as station_name \n",
    "        \"\"\"\n",
    "    start = timer()\n",
    "    result = session.run(query)\n",
    "    end = timer()\n",
    "\n",
    "    elapsed_time = end - start\n",
    "    timings.append(elapsed_time)\n",
    "\n",
    "    return result"
   ]
  },
  {
   "cell_type": "code",
   "execution_count": null,
   "metadata": {},
   "outputs": [],
   "source": [
    "result = query_8_neo4j()\n",
    "for row in result:\n",
    "    print(f\"Rare module {row['ed_symbol']} can be found at {row['station_name']} in {row['system_name']}\")"
   ]
  },
  {
   "source": [
    "### mySQL"
   ],
   "cell_type": "markdown",
   "metadata": {}
  },
  {
   "cell_type": "code",
   "execution_count": null,
   "metadata": {},
   "outputs": [],
   "source": [
    "def query_8_mysql(timings=[]):\n",
    "    query=\"\"\"\n",
    "    SELECT sys.name, station.name, module.ship, module.ed_symbol\n",
    "    FROM selling_module\n",
    "    JOIN station\n",
    "    ON selling_module.station_id = station.id\n",
    "    JOIN system_populated AS sys\n",
    "    ON station.system_id = sys.id\n",
    "    JOIN module\n",
    "    ON module.id = selling_module.module_id\n",
    "    WHERE selling_module.module_id IN (\n",
    "        SELECT module_id\n",
    "        FROM (\n",
    "            SELECT module_id, COUNT(*) AS count\n",
    "            FROM selling_module\n",
    "            GROUP BY module_id\n",
    "            ORDER BY count ASC\n",
    "        ) sub\n",
    "        WHERE sub.count = (SELECT MIN(count) FROM (\n",
    "            SELECT module_id, COUNT(*) AS count\n",
    "            FROM selling_module\n",
    "            GROUP BY module_id\n",
    "            ORDER BY count ASC\n",
    "        ) sub2)\n",
    "    )\n",
    "    \"\"\"\n",
    "    start = timer()\n",
    "    cursor.execute(query)\n",
    "\n",
    "    results = cursor.fetchall()\n",
    "    end = timer()\n",
    "\n",
    "    elapsed_time = end - start\n",
    "    timings.append(elapsed_time)\n",
    "\n",
    "    return results"
   ]
  },
  {
   "cell_type": "code",
   "execution_count": null,
   "metadata": {},
   "outputs": [],
   "source": [
    "result = query_8_mysql()\n",
    "for row in result:\n",
    "    print(f\"Rare module {row[3]} can be found at {row[1]} in {row[0]}\")"
   ]
  },
  {
   "source": [
    "query_8_timings = []\n",
    "#Run the queries to get thier timings\n",
    "query_8_mongodb(query_8_timings)\n",
    "query_8_neo4j(query_8_timings)\n",
    "query_8_mysql(query_8_timings)\n",
    "#Plot the timings\n",
    "plot_timings(\"Query #8 Timings\", query_8_timings)"
   ],
   "cell_type": "code",
   "metadata": {},
   "execution_count": null,
   "outputs": []
  },
  {
   "source": [
    "## Timings Explination\n",
    "Neo4j performs the best for this type of query because it can leverage its relationships. There is a relationship from a Module to all the stations they are sold at. Modules can then be grouped into the amount of times they are sold easily by just looking at the number of relationships of that type at the Module node itself. In this way, it can find all the rarest modules easily reducing the amount of data needed to get the system and station names. MongoDB performs better than mySQL because it splits the queries up so that it does not create such a large data set. mySQL does a costly join of all the necessary tables as well as querying the large selling_modules table an extra two times in order to get sub-data needed to get all the results. Because of this, mySQL performs the worst for this query."
   ],
   "cell_type": "markdown",
   "metadata": {}
  },
  {
   "source": [
    "## 9. Find the best path between two systems given the jump range of a ship."
   ],
   "cell_type": "markdown",
   "metadata": {}
  },
  {
   "cell_type": "code",
   "execution_count": null,
   "metadata": {},
   "outputs": [],
   "source": [
    "# Python graph builder and path finding using Dikjstra's\n",
    "\n",
    "class System:\n",
    "    def __init__(self, x, y, z, id, name):\n",
    "        self.x = x\n",
    "        self.y = y\n",
    "        self.z = z\n",
    "        self.name = name\n",
    "        self.id = id\n",
    "\n",
    "    def to_string(self):\n",
    "        return f\"{self.name},{self.x},{self.y},{self.z},{self.id}\"\n",
    "\n",
    "def mysql_to_class(mysql):\n",
    "    return System(mysql[3], mysql[4], mysql[5], mysql[0], mysql[2])\n",
    "\n",
    "def mysql_get_system_by_name(name):\n",
    "    query = \"\"\"\n",
    "    SELECT *\n",
    "    FROM system_populated\n",
    "    WHERE name = '{name}'\n",
    "    \"\"\".format(name=name)\n",
    "    cursor.execute(query)\n",
    "    systems = cursor.fetchall()\n",
    "    return systems[0]\n",
    "\n",
    "def mysql_get_all_systems():\n",
    "    query = \"\"\"\n",
    "    SELECT *\n",
    "    FROM system_populated\n",
    "    \"\"\"\n",
    "    cursor.execute(query)\n",
    "    mysql_systems = cursor.fetchall()\n",
    "    systems = []\n",
    "    for system in mysql_systems:\n",
    "        systems.append(mysql_to_class(system))\n",
    "    return systems\n",
    "\n",
    "def economic_func(u, v, edge, prev_edge):\n",
    "    return edge\n",
    "\n",
    "def fastest_func(u, v, edge, prev_edge):\n",
    "    return 1\n",
    "\n",
    "def distance_between_systems(sys1, sys2):\n",
    "    return ((sys1.x - sys2.x)**2 + (sys1.y - sys2.y)**2 + (sys1.z - sys2.z)**2)**0.5\n",
    "\n",
    "# @param start : System to start path\n",
    "# @param end : System to end path\n",
    "# @param max_jump : \n",
    "# @param start System to start path\n",
    "# @param start System to start path\n",
    "# using System class\n",
    "def trimmed_path(start, end, max_jump, buffer, systems):\n",
    "    segment_length = distance_between_systems(start, end)\n",
    "    max_sum_of_hypotenuse = buffer + segment_length\n",
    "    graph = Graph()\n",
    "\n",
    "    tot = 0\n",
    "\n",
    "    for system_1 in systems:\n",
    "        if max_sum_of_hypotenuse < distance_between_systems(system_1, start) + distance_between_systems(system_1, end):\n",
    "            continue\n",
    "        for system_2 in systems:\n",
    "            if system_2.id == system_1.id:\n",
    "                continue\n",
    "            if max_sum_of_hypotenuse < distance_between_systems(system_2, start) + distance_between_systems(system_2, end):\n",
    "                continue\n",
    "\n",
    "            distance = distance_between_systems(system_1, system_2)\n",
    "            if distance < max_jump:\n",
    "                tot+=1\n",
    "                graph.add_edge(system_1.id, system_2.id, distance)\n",
    "\n",
    "    try:\n",
    "        return True, find_path(graph, start.id, end.id, cost_func=economic_func)            \n",
    "    except:\n",
    "        return False, None, tot"
   ]
  },
  {
   "source": [
    "### MongoDB"
   ],
   "cell_type": "markdown",
   "metadata": {}
  },
  {
   "source": [
    "### Neo4j"
   ],
   "cell_type": "markdown",
   "metadata": {}
  },
  {
   "cell_type": "code",
   "execution_count": null,
   "metadata": {},
   "outputs": [],
   "source": [
    "def query_9_neo4j(current_system_name, end_system_name, jump_range, timings=[]):\n",
    "    cypher_query = f'''\n",
    "    MATCH (start:System {{name:'{current_system_name}'}}),(end:System{{name:'{end_system_name}'}})\n",
    "    CALL gds.alpha.shortestPath.stream({{\n",
    "        nodeQuery:\"MATCH (s:System) RETURN id(s) AS id\",\n",
    "        relationshipQuery: \"MATCH (s1:System)-[r:DISTANCE]-(s2:System) WHERE r.lightYears < {jump_range} RETURN id(s1) AS source, id(s2) AS target, r.lightYears as lightYears\",\n",
    "        startNode: start, \n",
    "        endNode: end, \n",
    "        relationshipWeightProperty: 'lightYears'\n",
    "    }})\n",
    "    YIELD nodeId, cost\n",
    "    RETURN gds.util.asNode(nodeId).name as name, cost\n",
    "    '''\n",
    "\n",
    "    start = timer()\n",
    "    results = session.run(cypher_query)\n",
    "    end = timer()\n",
    "\n",
    "    elapsed_time = end - start\n",
    "    timings.append(elapsed_time)\n",
    "\n",
    "    return results"
   ]
  },
  {
   "cell_type": "code",
   "execution_count": null,
   "metadata": {},
   "outputs": [],
   "source": [
    "current_system_name = 'Sol'\n",
    "end_system_name = 'Nerthus'\n",
    "result = query_9_neo4j(current_system_name, end_system_name, 21)\n",
    "print(f\"Path from {current_system_name} to {end_system_name}\")\n",
    "for row in result:\n",
    "    print(row['name'])"
   ]
  },
  {
   "source": [
    "### mySQL"
   ],
   "cell_type": "markdown",
   "metadata": {}
  },
  {
   "cell_type": "code",
   "execution_count": null,
   "metadata": {},
   "outputs": [],
   "source": [
    "def query_9_mysql(current_system_name, end_system_name, max_jump, buffer, timings=[]):\n",
    "    t_start = timer()\n",
    "    systems = mysql_get_all_systems()\n",
    "    start = mysql_to_class(mysql_get_system_by_name(current_system_name))\n",
    "    end = mysql_to_class(mysql_get_system_by_name(end_system_name))\n",
    "    paths = trimmed_path(start, end, max_jump, buffer, systems)\n",
    "    t_end = timer()\n",
    "    timings.append(t_end - t_start)\n",
    "    return paths"
   ]
  },
  {
   "cell_type": "code",
   "execution_count": null,
   "metadata": {},
   "outputs": [],
   "source": [
    "current_system_name = 'Sol'\n",
    "end_system_name = 'Nerthus'\n",
    "result = query_9_mysql(current_system_name, end_system_name, 21, 7)\n",
    "print(f\"Path from {current_system_name} to {end_system_name}\")\n",
    "for row in result:\n",
    "    print(row)"
   ]
  },
  {
   "cell_type": "code",
   "execution_count": null,
   "metadata": {},
   "outputs": [],
   "source": [
    "current_system_name = 'Sol'\n",
    "end_system_name = 'Nerthus'\n",
    "query_9_timings = []\n",
    "#Run the queries to get thier timings\n",
    "# query_9_mongodb(query_9_timings)\n",
    "query_9_neo4j(current_system_name, end_system_name, 21, query_9_timings)\n",
    "query_9_neo4j(current_system_name, end_system_name, 21, query_9_timings)\n",
    "query_9_mysql(current_system_name, end_system_name, 21, 7, query_9_timings)\n",
    "#Plot the timings\n",
    "plot_timings(\"Query #9 Timings\", query_9_timings)"
   ]
  },
  {
   "source": [
    "## 10. Build an aggregation of listing data to display the average buy price, average sell price, total supply, and total demand of the commodities."
   ],
   "cell_type": "markdown",
   "metadata": {}
  },
  {
   "source": [
    "### MongoDB"
   ],
   "cell_type": "markdown",
   "metadata": {}
  },
  {
   "cell_type": "code",
   "execution_count": null,
   "metadata": {},
   "outputs": [],
   "source": [
    "def query_10_mongodb(timings=[]):\n",
    "    query = [\n",
    "        {\n",
    "            '$project': {'commodity_id': 1, 'sell_price': {'$cond': [{'$gt': ['$supply', 0]}, '$sell_price', None]}, \n",
    "                'supply': 1, 'buy_price': {'$cond': [{'$gt': ['$demand', 0]}, '$buy_price', None] }, \n",
    "                'demand': 1}}, {\n",
    "            '$group': {\n",
    "                '_id': '$commodity_id', \n",
    "                'avg_buy_price': {\n",
    "                    '$avg': '$sell_price'\n",
    "                }, \n",
    "                'avg_sell_price': {\n",
    "                    '$avg': '$buy_price'\n",
    "                }, \n",
    "                'total_demand': {\n",
    "                    '$sum': '$demand'\n",
    "                }, \n",
    "                'total_supply': {\n",
    "                    '$sum': '$supply'\n",
    "                }\n",
    "            }\n",
    "        }\n",
    "    ]\n",
    "    start = timer()\n",
    "    listing_result = eddb['listings'].aggregate(query)\n",
    "    commodity_aggregations = []\n",
    "    for row in listing_result:\n",
    "        commodity_name = get_commodity_name(row['_id'])\n",
    "        avg_sell_price = 0\n",
    "        if not row['avg_sell_price'] == None:\n",
    "            avg_sell_price = row['avg_sell_price']\n",
    "        avg_buy_price = 0\n",
    "        if not row['avg_buy_price'] == None:\n",
    "            avg_buy_price = row['avg_buy_price']\n",
    "        commodity_aggregations.append({'commodity_name': commodity_name, 'avg_sell_price': avg_sell_price, 'avg_buy_price': avg_buy_price, 'total_supply': row['total_supply'], 'total_demand': row['total_demand']})\n",
    "    end = timer()\n",
    "\n",
    "    elapsed_time = end - start\n",
    "    timings.append(elapsed_time)\n",
    "\n",
    "    return commodity_aggregations"
   ]
  },
  {
   "cell_type": "code",
   "execution_count": null,
   "metadata": {
    "tags": []
   },
   "outputs": [],
   "source": [
    "result = query_10_mongodb()\n",
    "for i in range(15):\n",
    "    row = result[i]\n",
    "    print(f\"{row['commodity_name']} has an average sell price of {row['avg_sell_price']:.2f}, an average buy price of {row['avg_buy_price']:.2f}, a demand of {row['total_demand']}, and a supply of {row['total_supply']}\")"
   ]
  },
  {
   "source": [
    "### Neo4j"
   ],
   "cell_type": "markdown",
   "metadata": {}
  },
  {
   "cell_type": "code",
   "execution_count": null,
   "metadata": {},
   "outputs": [],
   "source": [
    "def query_10_neo4j(timings=[]):\n",
    "    query = f\"\"\"\n",
    "        MATCH (c:Commodity)\n",
    "        WITH c\n",
    "        MATCH (c)-[r:BUY_AT]->(s:Station)\n",
    "        WITH c, avg(r.buy_price) as avg_buy_price, sum(r.supply) as total_supply\n",
    "        MATCH (c)-[r:SELL_AT]->(s:Station)\n",
    "        RETURN c.name as commodity_name, avg_buy_price, total_supply, avg(r.sell_price) as avg_sell_price, sum(r.demand) as total_demand\n",
    "        \"\"\"\n",
    "    start = timer()\n",
    "    result = session.run(query)\n",
    "    end = timer()\n",
    "\n",
    "    elapsed_time = end - start\n",
    "    timings.append(elapsed_time)\n",
    "\n",
    "    return list(result)"
   ]
  },
  {
   "cell_type": "code",
   "execution_count": null,
   "metadata": {},
   "outputs": [],
   "source": [
    "result = query_10_neo4j()\n",
    "for i in range(15):\n",
    "    row = result[i]\n",
    "    print(f\"{row['commodity_name']} has an average sell price of {row['avg_sell_price']:.2f}, an average buy price of {row['avg_buy_price']:.2f}, a demand of {row['total_demand']}, and a supply of {row['total_supply']}\")"
   ]
  },
  {
   "source": [
    "### mySQL"
   ],
   "cell_type": "markdown",
   "metadata": {}
  },
  {
   "cell_type": "code",
   "execution_count": null,
   "metadata": {},
   "outputs": [],
   "source": [
    "def query_10_mysql(timings=[]):\n",
    "    query = \"\"\"\n",
    "    SELECT commodity.name, SUM(buy_price), SUM(CASE WHEN supply > 0 THEN 1 ELSE 0 end) as total_buy_listings, SUM(sell_price), SUM(CASE WHEN demand > 0 THEN 1 ELSE 0 END) as total_sell_listings, SUM(supply), SUM(demand)\n",
    "    FROM listing\n",
    "    JOIN commodity\n",
    "    ON listing.commodity_id = commodity.id\n",
    "    GROUP BY commodity.name\n",
    "    \"\"\"\n",
    "\n",
    "    start = timer()\n",
    "    cursor.execute(query)\n",
    "    results = cursor.fetchall()\n",
    "\n",
    "    commodity_aggregations = []\n",
    "    for row in results:\n",
    "        avg_sell_price = 0\n",
    "        if not row[4] == 0:\n",
    "            avg_sell_price = row[3] / row[4]\n",
    "        avg_buy_price = 0\n",
    "        if not row[2] == 0:\n",
    "            avg_buy_price = row[1] / row[2]\n",
    "        commodity_aggregations.append({'commodity_name': row[0], 'average_sell_price': avg_sell_price, 'average_buy_price': avg_buy_price, 'demand': row[6], 'supply': row[5]})\n",
    "\n",
    "    end = timer()\n",
    "\n",
    "    elapsed_time = end - start\n",
    "    timings.append(elapsed_time)\n",
    "\n",
    "    return commodity_aggregations"
   ]
  },
  {
   "cell_type": "code",
   "execution_count": null,
   "metadata": {},
   "outputs": [],
   "source": [
    "result = query_10_mysql()\n",
    "for i in range(15):\n",
    "    row = result[i]\n",
    "    print(f\"{row['commodity_name']} has an average sell price of {row['average_sell_price']:.2f}, an average buy price of {row['average_buy_price']:.2f}, a demand of {row['demand']}, and a supply of {row['supply']}\")"
   ]
  },
  {
   "cell_type": "code",
   "execution_count": null,
   "metadata": {},
   "outputs": [],
   "source": [
    "query_10_timings = []\n",
    "#Run the queries to get thier timings\n",
    "query_10_mongodb(query_10_timings)\n",
    "query_10_neo4j(query_10_timings)\n",
    "query_10_mysql(query_10_timings)\n",
    "#Plot timings\n",
    "plot_timings(\"Query #10 Timings\", query_10_timings)"
   ]
  },
  {
   "source": [
    "### Timings Explination\n",
    "Neo4j performs the best in this type of query as well because it can leverage its relationships. Again, it does not have relationships for listings where a system does not buy or sell a certain item which reduces the amount of data it needs to aggregate. Because of this, the execution time is greatly reduced for this query. MongoDB performs second best in this query because it is split into two queries. Instead of doing a costly join, MongoDB first calculates all the aggregation data in the listings before doing individual small queries for the commodity name. mySQL performs worse because it does a costly join and needs additional manipulation of the data in order to find the average due to limitation in projecting buy/sell data which doesn't exist at a station, but still shows up with a price of zero in the listing."
   ],
   "cell_type": "markdown",
   "metadata": {}
  },
  {
   "source": [
    "## 11. (Neo4j Only) System Community Query"
   ],
   "cell_type": "markdown",
   "metadata": {}
  },
  {
   "cell_type": "code",
   "execution_count": null,
   "metadata": {},
   "outputs": [],
   "source": [
    "RUN THIS TO CREATE GRAPH\n",
    "CALL gds.graph.create.cypher('cypher-graph',\n",
    "'MATCH (s:System) RETURN id(s) as id',\n",
    "'MATCH (s:System)-[r:DISTANCE]-(s1:System) WHERE r.lightYears < 42 RETURN id(s) as source, id(s1) as target, type(r) as type')\n",
    "\n",
    "RUN THIS TO COLLECT COMMUNITIES\n",
    "CALL gds.louvain.stream('jump-graph')\n",
    "YIELD nodeId, communityId\n",
    "RETURN communityId, collect(gds.util.asNode(nodeId).name) as names"
   ]
  }
 ],
 "metadata": {
  "kernelspec": {
   "display_name": "Python 3",
   "language": "python",
   "name": "python3"
  },
  "language_info": {
   "codemirror_mode": {
    "name": "ipython",
    "version": 3
   },
   "file_extension": ".py",
   "mimetype": "text/x-python",
   "name": "python",
   "nbconvert_exporter": "python",
   "pygments_lexer": "ipython3",
   "version": "3.8.3-final"
  }
 },
 "nbformat": 4,
 "nbformat_minor": 4
}