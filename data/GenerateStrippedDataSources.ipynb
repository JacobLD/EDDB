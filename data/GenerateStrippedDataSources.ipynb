{
 "cells": [
  {
   "cell_type": "markdown",
   "metadata": {},
   "source": [
    "# Data Modifications\n",
    "This notebook will strip out the uneeeded fields from the source data files in order to cut down on the amount of data placed into the databases and import times for files."
   ]
  },
  {
   "cell_type": "code",
   "execution_count": 12,
   "metadata": {},
   "outputs": [
    {
     "name": "stdout",
     "output_type": "stream",
     "text": [
      "Requirement already satisfied: tqdm in c:\\users\\luke\\anaconda3\\lib\\site-packages (4.47.0)\n"
     ]
    }
   ],
   "source": [
    "import json\n",
    "import csv\n",
    "\n",
    "import sys\n",
    "!{sys.executable} -m pip install tqdm\n",
    "from tqdm import tqdm\n",
    "\n",
    "def generate_stripped_file(file_name, remove_fields):\n",
    "    #Open the data file\n",
    "    with open (file_name, 'r') as file:\n",
    "        data = json.load(file)\n",
    "    \n",
    "    #Remove the data for each field in the remove_fields list\n",
    "    for row in data:\n",
    "        for field in tqdm(remove_fields, desc=\"Removing Uneeded Fields...\"):\n",
    "            row.pop(field, None)\n",
    "    \n",
    "    #Append _stripped.json to the file name to create the new file\n",
    "    stripped_file_name = file_name[:-5] + '_stripped.json'\n",
    "    #Write the new contents to the new data file\n",
    "    with open (stripped_file_name, 'w') as stripped_file:\n",
    "        json.dump(data, stripped_file)"
   ]
  },
  {
   "cell_type": "markdown",
   "metadata": {},
   "source": [
    "## Commodities"
   ]
  },
  {
   "cell_type": "code",
   "execution_count": 6,
   "metadata": {},
   "outputs": [],
   "source": [
    "file_name = 'commodities.json'\n",
    "remove_fields = ['is_rare', 'is_non_marketable']\n",
    "generate_stripped_file(file_name, remove_fields)"
   ]
  },
  {
   "cell_type": "markdown",
   "metadata": {},
   "source": [
    "## Factions"
   ]
  },
  {
   "cell_type": "code",
   "execution_count": 7,
   "metadata": {},
   "outputs": [],
   "source": [
    "file_name = 'factions.json'\n",
    "remove_fields = ['updated_at', 'is_player_faction', 'government_id', 'alliance_id']\n",
    "generate_stripped_file(file_name, remove_fields)"
   ]
  },
  {
   "cell_type": "markdown",
   "metadata": {},
   "source": [
    "## Modules"
   ]
  },
  {
   "cell_type": "code",
   "execution_count": 8,
   "metadata": {},
   "outputs": [],
   "source": [
    "file_name = 'modules.json'\n",
    "remove_fields = ['belongs_to', 'ed_id', 'game_context_id']\n",
    "generate_stripped_file(file_name, remove_fields)"
   ]
  },
  {
   "cell_type": "markdown",
   "metadata": {},
   "source": [
    "## Stations"
   ]
  },
  {
   "cell_type": "code",
   "execution_count": 9,
   "metadata": {},
   "outputs": [],
   "source": [
    "file_name = 'stations.json'\n",
    "remove_fields = ['updated_at', 'government_id', 'alliance_id', 'shipyard_updated_at', 'outfitting_updated_at', \n",
    "                 'market_updated_at', 'ed_market_id', 'body_id']\n",
    "generate_stripped_file(file_name, remove_fields)"
   ]
  },
  {
   "cell_type": "markdown",
   "metadata": {},
   "source": [
    "## System Populated"
   ]
  },
  {
   "cell_type": "code",
   "execution_count": 10,
   "metadata": {},
   "outputs": [],
   "source": [
    "file_name = 'systems_populated.json'\n",
    "remove_fields = ['allegiance_id', 'security_id', 'primary_economy_id', 'power_state_id', 'reserve_type_id', \n",
    "                 'ed_system_address']\n",
    "generate_stripped_file(file_name, remove_fields)"
   ]
  },
  {
   "cell_type": "markdown",
   "metadata": {},
   "source": [
    "## Listings"
   ]
  },
  {
   "cell_type": "code",
   "execution_count": 23,
   "metadata": {},
   "outputs": [
    {
     "name": "stderr",
     "output_type": "stream",
     "text": [
      "Removing Uneeded Fields...: 100%|████████████████████████████████████████| 3931637/3931637 [00:20<00:00, 194741.80it/s]\n",
      "Writting to CSV File...: 100%|████████████████████████████████████████████| 3931637/3931637 [00:44<00:00, 89308.61it/s]\n"
     ]
    }
   ],
   "source": [
    "remove_fields = ['supply_bracket', 'demand_bracket', 'collected_at']\n",
    "\n",
    "with open ('listings.csv', 'r', encoding='utf-8') as file:\n",
    "    csv_reader = csv.DictReader(file)\n",
    "    data = list(csv_reader)\n",
    "    \n",
    "for row in tqdm(data, desc=\"Removing Uneeded Fields...\"):\n",
    "    for field in remove_fields:\n",
    "        row.pop(field, None)\n",
    "         \n",
    "csv_columns = data[0].keys()\n",
    "with open ('listings_stripped.csv', 'w') as stripped_file:\n",
    "    writer = csv.DictWriter(stripped_file, fieldnames=csv_columns)\n",
    "    for row in tqdm(data, desc=\"Writting to CSV File...\"):\n",
    "        writer.writerow(row)"
   ]
  },
  {
   "cell_type": "code",
   "execution_count": null,
   "metadata": {},
   "outputs": [],
   "source": []
  }
 ],
 "metadata": {
  "kernelspec": {
   "display_name": "Python 3",
   "language": "python",
   "name": "python3"
  },
  "language_info": {
   "codemirror_mode": {
    "name": "ipython",
    "version": 3
   },
   "file_extension": ".py",
   "mimetype": "text/x-python",
   "name": "python",
   "nbconvert_exporter": "python",
   "pygments_lexer": "ipython3",
   "version": "3.8.3"
  }
 },
 "nbformat": 4,
 "nbformat_minor": 4
}
