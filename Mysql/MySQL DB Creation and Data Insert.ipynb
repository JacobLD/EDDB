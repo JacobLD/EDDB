{
 "cells": [
  {
   "cell_type": "code",
   "execution_count": 1,
   "metadata": {},
   "outputs": [
    {
     "name": "stdout",
     "output_type": "stream",
     "text": [
      "Requirement already satisfied: mysql-connector-python in d:\\anaconda\\lib\\site-packages (8.0.22)\n",
      "Requirement already satisfied: protobuf>=3.0.0 in d:\\anaconda\\lib\\site-packages (from mysql-connector-python) (3.14.0)\n",
      "Requirement already satisfied: six>=1.9 in d:\\anaconda\\lib\\site-packages (from protobuf>=3.0.0->mysql-connector-python) (1.15.0)\n"
     ]
    }
   ],
   "source": [
    "# Install package in the current Jupyter kernel\n",
    "import sys\n",
    "!{sys.executable} -m pip install mysql-connector-python\n",
    "import mysql.connector\n",
    "import json\n",
    "import csv\n",
    "from tqdm import tqdm"
   ]
  },
  {
   "cell_type": "code",
   "execution_count": 2,
   "metadata": {},
   "outputs": [
    {
     "name": "stdout",
     "output_type": "stream",
     "text": [
      "<mysql.connector.connection.MySQLConnection object at 0x000001609F868850>\n"
     ]
    }
   ],
   "source": [
    "db = mysql.connector.connect(\n",
    "  host=\"localhost\",\n",
    "  user=\"root\",\n",
    "  password=\"915997582\"\n",
    ")\n",
    "\n",
    "print(db)\n",
    "\n",
    "cursor = db.cursor()"
   ]
  },
  {
   "cell_type": "code",
   "execution_count": 3,
   "metadata": {},
   "outputs": [],
   "source": [
    "cursor.execute(\"DROP DATABASE EDDB\")"
   ]
  },
  {
   "cell_type": "markdown",
   "metadata": {},
   "source": [
    "<h1>Create EDDB Database</h1>"
   ]
  },
  {
   "cell_type": "code",
   "execution_count": 4,
   "metadata": {},
   "outputs": [
    {
     "name": "stdout",
     "output_type": "stream",
     "text": [
      "('EDDB',)\n",
      "('information_schema',)\n",
      "('mysql',)\n",
      "('performance_schema',)\n",
      "('sys',)\n"
     ]
    }
   ],
   "source": [
    "cursor.execute(\"CREATE DATABASE EDDB\")\n",
    "\n",
    "cursor.execute(\"SHOW DATABASES\")\n",
    "\n",
    "for x in cursor:\n",
    "  print(x)"
   ]
  },
  {
   "cell_type": "code",
   "execution_count": 5,
   "metadata": {},
   "outputs": [
    {
     "name": "stdout",
     "output_type": "stream",
     "text": [
      "<mysql.connector.connection.MySQLConnection object at 0x000001609F868E80>\n"
     ]
    }
   ],
   "source": [
    "db = mysql.connector.connect(\n",
    "  host=\"localhost\",\n",
    "  user=\"jake\",\n",
    "  password=\"915997582\",\n",
    "  database=\"EDDB\"  \n",
    ")\n",
    "\n",
    "print(db)\n",
    "\n",
    "cursor = db.cursor()"
   ]
  },
  {
   "cell_type": "markdown",
   "metadata": {},
   "source": [
    "<h1>Table Creation statements</h1>"
   ]
  },
  {
   "cell_type": "code",
   "execution_count": 6,
   "metadata": {},
   "outputs": [],
   "source": [
    "# SYSTEMS TABLE\n",
    "create_statement = \"\"\"\n",
    "CREATE TABLE system_populated (\n",
    "id INT,\n",
    "edsm_id INT,\n",
    "name VARCHAR(255),\n",
    "x FLOAT,\n",
    "y FLOAT,\n",
    "z FLOAT,\n",
    "population BIGINT,\n",
    "is_populated TINYINT,\n",
    "government_id INT,\n",
    "government VARCHAR(255),\n",
    "allegiance_id INT,\n",
    "allegiance VARCHAR(255),\n",
    "security_id INT,\n",
    "security VARCHAR(255),\n",
    "primary_economy_id INT,\n",
    "primary_economy VARCHAR(255),\n",
    "power VARCHAR(255),\n",
    "power_state VARCHAR(255),\n",
    "power_state_id INT,\n",
    "needs_permit TINYINT,\n",
    "simbad_ref VARCHAR(255),\n",
    "controlling_minor_faction_id INT,\n",
    "controlling_minor_faction VARCHAR(255),\n",
    "reserve_type_id INT,\n",
    "reserve_type VARCHAR(255),\n",
    "ed_system_address BIGINT,\n",
    "PRIMARY KEY (id)\n",
    ")\n",
    "\"\"\"\n",
    "\n",
    "cursor.execute(create_statement)"
   ]
  },
  {
   "cell_type": "code",
   "execution_count": 7,
   "metadata": {},
   "outputs": [],
   "source": [
    "# LISTINGS CATEGORY TABLE\n",
    "create_statement = \"\"\"\n",
    "CREATE TABLE category (\n",
    "id INT,\n",
    "name VARCHAR(255),\n",
    "PRIMARY KEY (id)\n",
    ")\n",
    "\"\"\"\n",
    "\n",
    "cursor.execute(create_statement)"
   ]
  },
  {
   "cell_type": "code",
   "execution_count": 8,
   "metadata": {},
   "outputs": [],
   "source": [
    "# SYSTEMS/STATION STATES TABLE\n",
    "create_statement = \"\"\"\n",
    "CREATE TABLE state (\n",
    "id INT,\n",
    "name VARCHAR(255),\n",
    "PRIMARY KEY (id)\n",
    ")\n",
    "\"\"\"\n",
    "\n",
    "cursor.execute(create_statement)"
   ]
  },
  {
   "cell_type": "code",
   "execution_count": 9,
   "metadata": {},
   "outputs": [],
   "source": [
    "# COMMODITY TABLE\n",
    "create_statement = \"\"\"\n",
    "CREATE TABLE commodity (\n",
    "id INT,\n",
    "name VARCHAR(255),\n",
    "category_id INT,\n",
    "average_price INT,\n",
    "is_rare INT,\n",
    "max_buy_price INT,\n",
    "max_sell_price INT,\n",
    "min_buy_price INT,\n",
    "min_sell_price INT,\n",
    "buy_price_lower_average INT,\n",
    "sell_price_upper_average INT,\n",
    "is_non_marketable INT,\n",
    "ed_id INT,\n",
    "PRIMARY KEY (id),\n",
    "FOREIGN KEY (category_id) REFERENCES category(id)\n",
    ")\n",
    "\"\"\"\n",
    "\n",
    "cursor.execute(create_statement)"
   ]
  },
  {
   "cell_type": "code",
   "execution_count": 10,
   "metadata": {},
   "outputs": [],
   "source": [
    "# STATION TABLE\n",
    "create_statement = \"\"\"\n",
    "CREATE TABLE station (\n",
    "id INT,\n",
    "name VARCHAR(255),\n",
    "system_id INT,\n",
    "max_landing_pad_size VARCHAR(255),\n",
    "distance_to_star INT,\n",
    "government_id INT,\n",
    "government VARCHAR(255),\n",
    "allegiance_id INT,\n",
    "allegiance VARCHAR(255),\n",
    "type_id INT,\n",
    "type VARCHAR(255),\n",
    "has_blackmarket TINYINT,\n",
    "has_market TINYINT,\n",
    "has_refuel TINYINT,\n",
    "has_repair TINYINT,\n",
    "has_rearm TINYINT,\n",
    "has_outfitting TINYINT,\n",
    "has_shipyard TINYINT,\n",
    "has_docking TINYINT,\n",
    "has_commodities TINYINT,\n",
    "is_planetary TINYINT,\n",
    "settlement_size_id INT,\n",
    "settlement_size VARCHAR(255),\n",
    "settlement_security_id INT,\n",
    "settlement_security VARCHAR(255),\n",
    "body_id INT,\n",
    "controlling_minor_faction_id INT,\n",
    "ed_market_id BIGINT,\n",
    "PRIMARY KEY (id)\n",
    ")\n",
    "\"\"\"\n",
    "\n",
    "cursor.execute(create_statement)"
   ]
  },
  {
   "cell_type": "code",
   "execution_count": 11,
   "metadata": {},
   "outputs": [],
   "source": [
    "# LISTINGS TABLE\n",
    "create_statement = \"\"\"\n",
    "CREATE TABLE listing (\n",
    "id INT,\n",
    "station_id INT,\n",
    "supply INT,\n",
    "supply_bracket INT,\n",
    "buy_price INT,\n",
    "sell_price INT,\n",
    "demand INT,\n",
    "demand_bracket INT,\n",
    "PRIMARY KEY (id)\n",
    ")\n",
    "\"\"\"\n",
    "\n",
    "cursor.execute(create_statement)"
   ]
  },
  {
   "cell_type": "code",
   "execution_count": 12,
   "metadata": {},
   "outputs": [],
   "source": [
    "# FACTION TABLE\n",
    "create_statement = \"\"\"\n",
    "CREATE TABLE faction (\n",
    "id INT,\n",
    "name VARCHAR(255),\n",
    "government_id INT,\n",
    "government VARCHAR(255),\n",
    "allegiance_id INT,\n",
    "allegiance VARCHAR(255),\n",
    "home_system_id INT,\n",
    "is_player_faction INT,\n",
    "PRIMARY KEY (id)\n",
    ")\n",
    "\"\"\"\n",
    "\n",
    "cursor.execute(create_statement)"
   ]
  },
  {
   "cell_type": "code",
   "execution_count": 13,
   "metadata": {},
   "outputs": [],
   "source": [
    "# MODULE GROUP TABLE\n",
    "create_statement = \"\"\"\n",
    "CREATE TABLE _group (\n",
    "id INT,\n",
    "name VARCHAR(255),\n",
    "category VARCHAR(255),\n",
    "PRIMARY KEY (id)\n",
    ")\n",
    "\"\"\"\n",
    "\n",
    "cursor.execute(create_statement)"
   ]
  },
  {
   "cell_type": "code",
   "execution_count": 14,
   "metadata": {},
   "outputs": [],
   "source": [
    "# MODULE TABLE\n",
    "create_statement = \"\"\"\n",
    "CREATE TABLE module (\n",
    "id INT,\n",
    "group_id INT,\n",
    "class INT,\n",
    "rating VARCHAR(255),\n",
    "price INT,\n",
    "weapon_mode VARCHAR(255),\n",
    "missile_type VARCHAR(255),\n",
    "name VARCHAR(255),\n",
    "belongs_to INT,\n",
    "ed_id INT,\n",
    "ed_symbol VARCHAR(255),\n",
    "game_context_id INT,\n",
    "ship VARCHAR(255),\n",
    "PRIMARY KEY (id),\n",
    "FOREIGN KEY (group_id) REFERENCES _group(id)\n",
    ")\n",
    "\"\"\"\n",
    "\n",
    "cursor.execute(create_statement)"
   ]
  },
  {
   "cell_type": "code",
   "execution_count": 15,
   "metadata": {},
   "outputs": [],
   "source": [
    "# SYSTEMS MINOR FACTION PRESENCES ** NEED to narrow down primary key\n",
    "create_statement = \"\"\"\n",
    "CREATE TABLE minor_faction_presence (\n",
    "system_id INT,\n",
    "happiness_id INT,\n",
    "minor_faction_id INT,\n",
    "influence FLOAT,\n",
    "PRIMARY KEY (system_id, minor_faction_id),\n",
    "FOREIGN KEY (minor_faction_id) REFERENCES faction(id),\n",
    "FOREIGN KEY (system_id) REFERENCES system_populated(id)\n",
    ")\n",
    "\"\"\"\n",
    "\n",
    "cursor.execute(create_statement)"
   ]
  },
  {
   "cell_type": "code",
   "execution_count": 16,
   "metadata": {},
   "outputs": [],
   "source": [
    "# STATION IMPORTS TABLE\n",
    "create_statement = \"\"\"\n",
    "CREATE TABLE imports (\n",
    "station_id INT,\n",
    "commodity_id INT,\n",
    "PRIMARY KEY (station_id, commodity_id),\n",
    "FOREIGN KEY (station_id) REFERENCES station(id),\n",
    "FOREIGN KEY (commodity_id) REFERENCES commodity(id)\n",
    ")\n",
    "\"\"\"\n",
    "\n",
    "cursor.execute(create_statement)"
   ]
  },
  {
   "cell_type": "code",
   "execution_count": 17,
   "metadata": {},
   "outputs": [],
   "source": [
    "# STATION EXPORTS TABLE\n",
    "create_statement = \"\"\"\n",
    "CREATE TABLE exports (\n",
    "station_id INT,\n",
    "commodity_id INT,\n",
    "PRIMARY KEY (station_id, commodity_id),\n",
    "FOREIGN KEY (station_id) REFERENCES station(id),\n",
    "FOREIGN KEY (commodity_id) REFERENCES commodity(id)\n",
    ")\n",
    "\"\"\"\n",
    "\n",
    "cursor.execute(create_statement)"
   ]
  },
  {
   "cell_type": "code",
   "execution_count": 18,
   "metadata": {},
   "outputs": [],
   "source": [
    "# STATION PROHIBITED TABLE\n",
    "create_statement = \"\"\"\n",
    "CREATE TABLE prohibited (\n",
    "station_id INT,\n",
    "commodity_id INT,\n",
    "PRIMARY KEY (station_id, commodity_id),\n",
    "FOREIGN KEY (station_id) REFERENCES station(id),\n",
    "FOREIGN KEY (commodity_id) REFERENCES commodity(id)\n",
    ")\n",
    "\"\"\"\n",
    "\n",
    "cursor.execute(create_statement)"
   ]
  },
  {
   "cell_type": "code",
   "execution_count": 19,
   "metadata": {},
   "outputs": [],
   "source": [
    "# STATION SELLING MODULES TABLE\n",
    "create_statement = \"\"\"\n",
    "CREATE TABLE selling_module (\n",
    "station_id INT,\n",
    "module_id INT,\n",
    "PRIMARY KEY (station_id, module_id),\n",
    "FOREIGN KEY (module_id) REFERENCES module(id),\n",
    "FOREIGN KEY (station_id) REFERENCES station(id)\n",
    ")\n",
    "\"\"\"\n",
    "\n",
    "cursor.execute(create_statement)"
   ]
  },
  {
   "cell_type": "markdown",
   "metadata": {},
   "source": [
    "<h1>Add Foreign key contraints</h1>"
   ]
  },
  {
   "cell_type": "code",
   "execution_count": 20,
   "metadata": {},
   "outputs": [],
   "source": [
    "# # TWO WAY SYSTEM FACTION KEYS\n",
    "# key_statement = \"\"\"\n",
    "# ALTER TABLE system_populated\n",
    "# ADD FOREIGN KEY (controlling_minor_faction_id) REFERENCES faction(id)\n",
    "# \"\"\"\n",
    "\n",
    "# cursor.execute(key_statement)\n",
    "\n",
    "# key_statement = \"\"\"\n",
    "# ALTER TABLE faction\n",
    "# ADD FOREIGN KEY (home_system_id) REFERENCES system_populated(id)\n",
    "# \"\"\"\n",
    "\n",
    "# cursor.execute(key_statement)"
   ]
  },
  {
   "cell_type": "markdown",
   "metadata": {},
   "source": [
    "<h1>Data Insert</h1>\n",
    "<h1>Commodities.json</h1>"
   ]
  },
  {
   "cell_type": "code",
   "execution_count": 21,
   "metadata": {},
   "outputs": [
    {
     "name": "stderr",
     "output_type": "stream",
     "text": [
      "Importing Category data: 100%|██████████| 373/373 [00:00<00:00, 3656.90it/s]\n",
      "Importing commodity data: 100%|██████████| 373/373 [00:02<00:00, 160.98it/s]\n"
     ]
    }
   ],
   "source": [
    "file = \"../data/commodities.json\"\n",
    "data = []\n",
    "with open(file) as openfile:\n",
    "    data = json.load(openfile)\n",
    "    \n",
    "category_ids = set()\n",
    "\n",
    "for x in tqdm(data, desc=\"Importing Category data\"):\n",
    "    if not x['category']['id'] in category_ids:\n",
    "        category_ids.add(x['category']['id'])\n",
    "        insert_statement = \"\"\"\n",
    "        INSERT INTO `category` (`id`, `name`) \n",
    "        VALUES ({},'{}')\n",
    "        \"\"\".format(x['category']['id'], x['category']['name'])\n",
    "        cursor.execute(insert_statement)\n",
    "        db.commit()\n",
    "\n",
    "for x in tqdm(data, desc=\"Importing commodity data\"):\n",
    "    for y in x:\n",
    "        if f\"{x[y]}\" == \"None\":\n",
    "            x[y] = 'NULL'\n",
    "\n",
    "    insert_statement = \"\"\"\n",
    "    INSERT INTO `commodity` (`id`, `name`, `category_id`, `average_price`, `is_rare`, `max_buy_price`, `max_sell_price`, `min_buy_price`, `min_sell_price`, `buy_price_lower_average`, `sell_price_upper_average`, `is_non_marketable`, `ed_id`) \n",
    "    VALUES ({},\"{}\",{},{},{},{},{},{},{},{},{},{},{})\n",
    "    \"\"\".format(x['id'],x['name'],x['category_id'],x['average_price'],x['is_rare'],x['max_buy_price'],x['max_sell_price'],x['min_buy_price'],x['min_sell_price'],x['buy_price_lower_average'],x['sell_price_upper_average'],x['is_non_marketable'],x['ed_id'])\n",
    "    cursor.execute(insert_statement)\n",
    "    db.commit()\n",
    "    \n"
   ]
  },
  {
   "cell_type": "markdown",
   "metadata": {},
   "source": [
    "<h1>factions.json</h1>"
   ]
  },
  {
   "cell_type": "code",
   "execution_count": 22,
   "metadata": {},
   "outputs": [
    {
     "name": "stderr",
     "output_type": "stream",
     "text": [
      "Formatting Faction data: 100%|██████████| 77250/77250 [00:00<00:00, 202755.25it/s]\n"
     ]
    },
    {
     "name": "stdout",
     "output_type": "stream",
     "text": [
      "Commited\n"
     ]
    }
   ],
   "source": [
    "file = \"../data/factions.json\"\n",
    "data = []\n",
    "with open(file) as openfile:\n",
    "    data = json.load(openfile)\n",
    "    \n",
    "val = []\n",
    "    \n",
    "for x in tqdm(data, desc=\"Formatting Faction data\"):\n",
    "    for y in x:\n",
    "        if f\"{x[y]}\" == \"None\":\n",
    "            x[y] = -1\n",
    "        if f\"{x[y]}\" == \"False\":\n",
    "            x[y] = 0\n",
    "        if f\"{x[y]}\" == \"True\":\n",
    "            x[y] = 1\n",
    "    val.append((x['id'], x['name'], x['government_id'], x['government'], x['allegiance_id'], x['allegiance'], x['home_system_id'], x['is_player_faction']))\n",
    "\n",
    "sql = \"INSERT INTO `faction` (`id`, `name`, `government_id`, `government`, `allegiance_id`, `allegiance`, `home_system_id`, `is_player_faction`) VALUES (%s,%s,%s,%s,%s,%s,%s,%s)\"\n",
    "cursor.executemany(sql, val)    \n",
    "db.commit()\n",
    "print(\"Commited\")\n",
    "    \n"
   ]
  },
  {
   "cell_type": "code",
   "execution_count": 23,
   "metadata": {},
   "outputs": [
    {
     "name": "stderr",
     "output_type": "stream",
     "text": [
      "Formatting group data: 100%|██████████| 1043/1043 [00:00<00:00, 1039852.41it/s]\n",
      "Formatting module data: 100%|██████████| 1043/1043 [00:00<00:00, 80233.64it/s]"
     ]
    },
    {
     "name": "stdout",
     "output_type": "stream",
     "text": [
      "Commited\n"
     ]
    },
    {
     "name": "stderr",
     "output_type": "stream",
     "text": [
      "\n"
     ]
    }
   ],
   "source": [
    "file = \"../data/modules.json\"\n",
    "data = []\n",
    "with open(file) as openfile:\n",
    "    data = json.load(openfile)\n",
    "    \n",
    "val = []\n",
    "group_ids = set()\n",
    "\n",
    "for x in tqdm(data, desc=\"Formatting group data\"):\n",
    "    if x['group']['id'] not in group_ids:\n",
    "        group_ids.add(x['group']['id'])\n",
    "        val.append((x['group']['id'], x['group']['name'], x['group']['category']))\n",
    "\n",
    "sql = \"INSERT INTO `_group` (`id`, `name`, `category`) VALUES (%s,%s,%s)\"\n",
    "\n",
    "cursor.executemany(sql, val)    \n",
    "db.commit()\n",
    "\n",
    "val = []\n",
    "    \n",
    "for x in tqdm(data, desc=\"Formatting module data\"):\n",
    "    for y in x:\n",
    "        if f\"{x[y]}\" == \"None\":\n",
    "            x[y] = 0\n",
    "        if f\"{x[y]}\" == \"False\":\n",
    "            x[y] = 0\n",
    "        if f\"{x[y]}\" == \"True\":\n",
    "            x[y] = 1\n",
    "    val.append((x['id'], x['group_id'], x['class'], x['rating'], x['price'], x['weapon_mode'], x['missile_type'], x['name'], x['belongs_to'], x['ed_id'], x['ed_symbol'], x['game_context_id'], x['ship']))\n",
    "\n",
    "sql = \"INSERT INTO `module` (`id`, `group_id`, `class`, `rating`, `price`, `weapon_mode`, `missile_type`, `name`, `belongs_to`, `ed_id`, `ed_symbol`, `game_context_id`, `ship`) VALUES (%s,%s,%s,%s,%s,%s,%s,%s,%s,%s,%s,%s,%s)\"\n",
    "cursor.executemany(sql, val)    \n",
    "db.commit()\n",
    "print(\"Commited\")"
   ]
  },
  {
   "cell_type": "code",
   "execution_count": 24,
   "metadata": {},
   "outputs": [
    {
     "name": "stderr",
     "output_type": "stream",
     "text": [
      "Formatting system data: 100%|██████████| 20569/20569 [00:01<00:00, 15512.10it/s]\n"
     ]
    },
    {
     "name": "stdout",
     "output_type": "stream",
     "text": [
      "Commited\n"
     ]
    }
   ],
   "source": [
    "file = \"../data/systems_populated.json\"\n",
    "data = []\n",
    "with open(file) as openfile:\n",
    "    data = json.load(openfile)\n",
    "    \n",
    "val = []\n",
    "    \n",
    "for x in tqdm(data, desc=\"Formatting system data\"):\n",
    "    for y in x:\n",
    "        if f\"{x[y]}\" == \"None\":\n",
    "            x[y] = -1\n",
    "        if f\"{x[y]}\" == \"False\":\n",
    "            x[y] = 0\n",
    "        if f\"{x[y]}\" == \"True\":\n",
    "            x[y] = 1\n",
    "    val.append((x['id'], x['edsm_id'], x['name'], x['x'], x['y'], x['z'], x['population'], x['is_populated'], x['government_id'], x['government'], x['allegiance_id'], x['allegiance'], x['security_id'], x['security'], x['primary_economy_id'], x['primary_economy'], x['power'], x['power_state'], x['power_state_id'], x['needs_permit'], x['simbad_ref'], x['controlling_minor_faction_id'], x['controlling_minor_faction'], x['reserve_type_id'], x['reserve_type'], x['ed_system_address']))\n",
    "\n",
    "sql = \"INSERT INTO `system_populated` (`id`, `edsm_id`, `name`, `x`, `y`, `z`, `population`, `is_populated`, `government_id`, `government`, `allegiance_id`, `allegiance`, `security_id`, `security`, `primary_economy_id`, `primary_economy`, `power`, `power_state`, `power_state_id`, `needs_permit`, `simbad_ref`, `controlling_minor_faction_id`, `controlling_minor_faction`, `reserve_type_id`, `reserve_type`, `ed_system_address`) VALUES (%s,%s,%s,%s,%s,%s,%s,%s,%s,%s,%s,%s,%s,%s,%s,%s,%s,%s,%s,%s,%s,%s,%s,%s,%s,%s)\"\n",
    "cursor.executemany(sql, val)    \n",
    "db.commit()\n",
    "print(\"Commited\")"
   ]
  },
  {
   "cell_type": "code",
   "execution_count": 25,
   "metadata": {
    "scrolled": false
   },
   "outputs": [
    {
     "name": "stderr",
     "output_type": "stream",
     "text": [
      "Formatting station data: 100%|██████████| 66024/66024 [00:04<00:00, 13493.57it/s]\n",
      "Formatting imports: 100%|██████████| 66024/66024 [00:00<00:00, 767729.75it/s]\n",
      "Formatting exports: 100%|██████████| 66024/66024 [00:00<00:00, 776737.34it/s]\n",
      "Formatting prohibited: 100%|██████████| 66024/66024 [00:00<00:00, 437250.49it/s]\n",
      "Formatting selling modules: 100%|██████████| 66024/66024 [00:02<00:00, 28681.17it/s]\n",
      "Chunking...: 100%|██████████| 115/115 [00:00<00:00, 1385.59it/s]\n",
      "Uploading chunked modules data:  50%|████▉     | 57/115 [02:29<02:32,  2.62s/it]\n"
     ]
    },
    {
     "ename": "KeyboardInterrupt",
     "evalue": "",
     "output_type": "error",
     "traceback": [
      "\u001b[1;31m---------------------------------------------------------------------------\u001b[0m",
      "\u001b[1;31mKeyboardInterrupt\u001b[0m                         Traceback (most recent call last)",
      "\u001b[1;32m<ipython-input-25-8b3c7282ca11>\u001b[0m in \u001b[0;36m<module>\u001b[1;34m\u001b[0m\n\u001b[0;32m     89\u001b[0m \u001b[1;33m\u001b[0m\u001b[0m\n\u001b[0;32m     90\u001b[0m \u001b[1;32mfor\u001b[0m \u001b[0mx\u001b[0m \u001b[1;32min\u001b[0m \u001b[0mtqdm\u001b[0m\u001b[1;33m(\u001b[0m\u001b[0mchunks\u001b[0m\u001b[1;33m,\u001b[0m \u001b[0mdesc\u001b[0m\u001b[1;33m=\u001b[0m\u001b[1;34m\"Uploading chunked modules data\"\u001b[0m\u001b[1;33m)\u001b[0m\u001b[1;33m:\u001b[0m\u001b[1;33m\u001b[0m\u001b[1;33m\u001b[0m\u001b[0m\n\u001b[1;32m---> 91\u001b[1;33m     \u001b[0mcursor\u001b[0m\u001b[1;33m.\u001b[0m\u001b[0mexecutemany\u001b[0m\u001b[1;33m(\u001b[0m\u001b[0msql\u001b[0m\u001b[1;33m,\u001b[0m \u001b[0mx\u001b[0m\u001b[1;33m)\u001b[0m\u001b[1;33m\u001b[0m\u001b[1;33m\u001b[0m\u001b[0m\n\u001b[0m\u001b[0;32m     92\u001b[0m     \u001b[0mdb\u001b[0m\u001b[1;33m.\u001b[0m\u001b[0mcommit\u001b[0m\u001b[1;33m(\u001b[0m\u001b[1;33m)\u001b[0m\u001b[1;33m\u001b[0m\u001b[1;33m\u001b[0m\u001b[0m\n\u001b[0;32m     93\u001b[0m \u001b[1;33m\u001b[0m\u001b[0m\n",
      "\u001b[1;32mD:\\Anaconda\\lib\\site-packages\\mysql\\connector\\cursor.py\u001b[0m in \u001b[0;36mexecutemany\u001b[1;34m(self, operation, seq_params)\u001b[0m\n\u001b[0;32m    668\u001b[0m             \u001b[0mstmt\u001b[0m \u001b[1;33m=\u001b[0m \u001b[0mself\u001b[0m\u001b[1;33m.\u001b[0m\u001b[0m_batch_insert\u001b[0m\u001b[1;33m(\u001b[0m\u001b[0moperation\u001b[0m\u001b[1;33m,\u001b[0m \u001b[0mseq_params\u001b[0m\u001b[1;33m)\u001b[0m\u001b[1;33m\u001b[0m\u001b[1;33m\u001b[0m\u001b[0m\n\u001b[0;32m    669\u001b[0m             \u001b[1;32mif\u001b[0m \u001b[0mstmt\u001b[0m \u001b[1;32mis\u001b[0m \u001b[1;32mnot\u001b[0m \u001b[1;32mNone\u001b[0m\u001b[1;33m:\u001b[0m\u001b[1;33m\u001b[0m\u001b[1;33m\u001b[0m\u001b[0m\n\u001b[1;32m--> 670\u001b[1;33m                 \u001b[1;32mreturn\u001b[0m \u001b[0mself\u001b[0m\u001b[1;33m.\u001b[0m\u001b[0mexecute\u001b[0m\u001b[1;33m(\u001b[0m\u001b[0mstmt\u001b[0m\u001b[1;33m)\u001b[0m\u001b[1;33m\u001b[0m\u001b[1;33m\u001b[0m\u001b[0m\n\u001b[0m\u001b[0;32m    671\u001b[0m \u001b[1;33m\u001b[0m\u001b[0m\n\u001b[0;32m    672\u001b[0m         \u001b[0mrowcnt\u001b[0m \u001b[1;33m=\u001b[0m \u001b[1;36m0\u001b[0m\u001b[1;33m\u001b[0m\u001b[1;33m\u001b[0m\u001b[0m\n",
      "\u001b[1;32mD:\\Anaconda\\lib\\site-packages\\mysql\\connector\\cursor.py\u001b[0m in \u001b[0;36mexecute\u001b[1;34m(self, operation, params, multi)\u001b[0m\n\u001b[0;32m    567\u001b[0m \u001b[1;33m\u001b[0m\u001b[0m\n\u001b[0;32m    568\u001b[0m         \u001b[1;32mtry\u001b[0m\u001b[1;33m:\u001b[0m\u001b[1;33m\u001b[0m\u001b[1;33m\u001b[0m\u001b[0m\n\u001b[1;32m--> 569\u001b[1;33m             \u001b[0mself\u001b[0m\u001b[1;33m.\u001b[0m\u001b[0m_handle_result\u001b[0m\u001b[1;33m(\u001b[0m\u001b[0mself\u001b[0m\u001b[1;33m.\u001b[0m\u001b[0m_connection\u001b[0m\u001b[1;33m.\u001b[0m\u001b[0mcmd_query\u001b[0m\u001b[1;33m(\u001b[0m\u001b[0mstmt\u001b[0m\u001b[1;33m)\u001b[0m\u001b[1;33m)\u001b[0m\u001b[1;33m\u001b[0m\u001b[1;33m\u001b[0m\u001b[0m\n\u001b[0m\u001b[0;32m    570\u001b[0m         \u001b[1;32mexcept\u001b[0m \u001b[0merrors\u001b[0m\u001b[1;33m.\u001b[0m\u001b[0mInterfaceError\u001b[0m\u001b[1;33m:\u001b[0m\u001b[1;33m\u001b[0m\u001b[1;33m\u001b[0m\u001b[0m\n\u001b[0;32m    571\u001b[0m             \u001b[1;32mif\u001b[0m \u001b[0mself\u001b[0m\u001b[1;33m.\u001b[0m\u001b[0m_connection\u001b[0m\u001b[1;33m.\u001b[0m\u001b[0m_have_next_result\u001b[0m\u001b[1;33m:\u001b[0m  \u001b[1;31m# pylint: disable=W0212\u001b[0m\u001b[1;33m\u001b[0m\u001b[1;33m\u001b[0m\u001b[0m\n",
      "\u001b[1;32mD:\\Anaconda\\lib\\site-packages\\mysql\\connector\\connection.py\u001b[0m in \u001b[0;36mcmd_query\u001b[1;34m(self, query, raw, buffered, raw_as_string)\u001b[0m\n\u001b[0;32m    649\u001b[0m             \u001b[0mquery\u001b[0m \u001b[1;33m=\u001b[0m \u001b[0mquery\u001b[0m\u001b[1;33m.\u001b[0m\u001b[0mencode\u001b[0m\u001b[1;33m(\u001b[0m\u001b[1;34m'utf-8'\u001b[0m\u001b[1;33m)\u001b[0m\u001b[1;33m\u001b[0m\u001b[1;33m\u001b[0m\u001b[0m\n\u001b[0;32m    650\u001b[0m         \u001b[1;32mtry\u001b[0m\u001b[1;33m:\u001b[0m\u001b[1;33m\u001b[0m\u001b[1;33m\u001b[0m\u001b[0m\n\u001b[1;32m--> 651\u001b[1;33m             \u001b[0mresult\u001b[0m \u001b[1;33m=\u001b[0m \u001b[0mself\u001b[0m\u001b[1;33m.\u001b[0m\u001b[0m_handle_result\u001b[0m\u001b[1;33m(\u001b[0m\u001b[0mself\u001b[0m\u001b[1;33m.\u001b[0m\u001b[0m_send_cmd\u001b[0m\u001b[1;33m(\u001b[0m\u001b[0mServerCmd\u001b[0m\u001b[1;33m.\u001b[0m\u001b[0mQUERY\u001b[0m\u001b[1;33m,\u001b[0m \u001b[0mquery\u001b[0m\u001b[1;33m)\u001b[0m\u001b[1;33m)\u001b[0m\u001b[1;33m\u001b[0m\u001b[1;33m\u001b[0m\u001b[0m\n\u001b[0m\u001b[0;32m    652\u001b[0m         \u001b[1;32mexcept\u001b[0m \u001b[0merrors\u001b[0m\u001b[1;33m.\u001b[0m\u001b[0mProgrammingError\u001b[0m \u001b[1;32mas\u001b[0m \u001b[0merr\u001b[0m\u001b[1;33m:\u001b[0m\u001b[1;33m\u001b[0m\u001b[1;33m\u001b[0m\u001b[0m\n\u001b[0;32m    653\u001b[0m             \u001b[1;32mif\u001b[0m \u001b[0merr\u001b[0m\u001b[1;33m.\u001b[0m\u001b[0merrno\u001b[0m \u001b[1;33m==\u001b[0m \u001b[1;36m3948\u001b[0m \u001b[1;32mand\u001b[0m\u001b[0;31m \u001b[0m\u001b[0;31m\\\u001b[0m\u001b[1;33m\u001b[0m\u001b[1;33m\u001b[0m\u001b[0m\n",
      "\u001b[1;32mD:\\Anaconda\\lib\\site-packages\\mysql\\connector\\connection.py\u001b[0m in \u001b[0;36m_send_cmd\u001b[1;34m(self, command, argument, packet_number, packet, expect_response, compressed_packet_number)\u001b[0m\n\u001b[0;32m    373\u001b[0m         \u001b[1;32mif\u001b[0m \u001b[1;32mnot\u001b[0m \u001b[0mexpect_response\u001b[0m\u001b[1;33m:\u001b[0m\u001b[1;33m\u001b[0m\u001b[1;33m\u001b[0m\u001b[0m\n\u001b[0;32m    374\u001b[0m             \u001b[1;32mreturn\u001b[0m \u001b[1;32mNone\u001b[0m\u001b[1;33m\u001b[0m\u001b[1;33m\u001b[0m\u001b[0m\n\u001b[1;32m--> 375\u001b[1;33m         \u001b[1;32mreturn\u001b[0m \u001b[0mself\u001b[0m\u001b[1;33m.\u001b[0m\u001b[0m_socket\u001b[0m\u001b[1;33m.\u001b[0m\u001b[0mrecv\u001b[0m\u001b[1;33m(\u001b[0m\u001b[1;33m)\u001b[0m\u001b[1;33m\u001b[0m\u001b[1;33m\u001b[0m\u001b[0m\n\u001b[0m\u001b[0;32m    376\u001b[0m \u001b[1;33m\u001b[0m\u001b[0m\n\u001b[0;32m    377\u001b[0m     \u001b[1;32mdef\u001b[0m \u001b[0m_send_data\u001b[0m\u001b[1;33m(\u001b[0m\u001b[0mself\u001b[0m\u001b[1;33m,\u001b[0m \u001b[0mdata_file\u001b[0m\u001b[1;33m,\u001b[0m \u001b[0msend_empty_packet\u001b[0m\u001b[1;33m=\u001b[0m\u001b[1;32mFalse\u001b[0m\u001b[1;33m)\u001b[0m\u001b[1;33m:\u001b[0m\u001b[1;33m\u001b[0m\u001b[1;33m\u001b[0m\u001b[0m\n",
      "\u001b[1;32mD:\\Anaconda\\lib\\site-packages\\mysql\\connector\\network.py\u001b[0m in \u001b[0;36mrecv_plain\u001b[1;34m(self)\u001b[0m\n\u001b[0;32m    263\u001b[0m             \u001b[0mpacket_len\u001b[0m \u001b[1;33m=\u001b[0m \u001b[1;36m0\u001b[0m\u001b[1;33m\u001b[0m\u001b[1;33m\u001b[0m\u001b[0m\n\u001b[0;32m    264\u001b[0m             \u001b[1;32mwhile\u001b[0m \u001b[0mpacket_len\u001b[0m \u001b[1;33m<\u001b[0m \u001b[1;36m4\u001b[0m\u001b[1;33m:\u001b[0m\u001b[1;33m\u001b[0m\u001b[1;33m\u001b[0m\u001b[0m\n\u001b[1;32m--> 265\u001b[1;33m                 \u001b[0mchunk\u001b[0m \u001b[1;33m=\u001b[0m \u001b[0mself\u001b[0m\u001b[1;33m.\u001b[0m\u001b[0msock\u001b[0m\u001b[1;33m.\u001b[0m\u001b[0mrecv\u001b[0m\u001b[1;33m(\u001b[0m\u001b[1;36m4\u001b[0m \u001b[1;33m-\u001b[0m \u001b[0mpacket_len\u001b[0m\u001b[1;33m)\u001b[0m\u001b[1;33m\u001b[0m\u001b[1;33m\u001b[0m\u001b[0m\n\u001b[0m\u001b[0;32m    266\u001b[0m                 \u001b[1;32mif\u001b[0m \u001b[1;32mnot\u001b[0m \u001b[0mchunk\u001b[0m\u001b[1;33m:\u001b[0m\u001b[1;33m\u001b[0m\u001b[1;33m\u001b[0m\u001b[0m\n\u001b[0;32m    267\u001b[0m                     \u001b[1;32mraise\u001b[0m \u001b[0merrors\u001b[0m\u001b[1;33m.\u001b[0m\u001b[0mInterfaceError\u001b[0m\u001b[1;33m(\u001b[0m\u001b[0merrno\u001b[0m\u001b[1;33m=\u001b[0m\u001b[1;36m2013\u001b[0m\u001b[1;33m)\u001b[0m\u001b[1;33m\u001b[0m\u001b[1;33m\u001b[0m\u001b[0m\n",
      "\u001b[1;32mD:\\Anaconda\\lib\\ssl.py\u001b[0m in \u001b[0;36mrecv\u001b[1;34m(self, buflen, flags)\u001b[0m\n\u001b[0;32m   1224\u001b[0m                     \u001b[1;34m\"non-zero flags not allowed in calls to recv() on %s\"\u001b[0m \u001b[1;33m%\u001b[0m\u001b[1;33m\u001b[0m\u001b[1;33m\u001b[0m\u001b[0m\n\u001b[0;32m   1225\u001b[0m                     self.__class__)\n\u001b[1;32m-> 1226\u001b[1;33m             \u001b[1;32mreturn\u001b[0m \u001b[0mself\u001b[0m\u001b[1;33m.\u001b[0m\u001b[0mread\u001b[0m\u001b[1;33m(\u001b[0m\u001b[0mbuflen\u001b[0m\u001b[1;33m)\u001b[0m\u001b[1;33m\u001b[0m\u001b[1;33m\u001b[0m\u001b[0m\n\u001b[0m\u001b[0;32m   1227\u001b[0m         \u001b[1;32melse\u001b[0m\u001b[1;33m:\u001b[0m\u001b[1;33m\u001b[0m\u001b[1;33m\u001b[0m\u001b[0m\n\u001b[0;32m   1228\u001b[0m             \u001b[1;32mreturn\u001b[0m \u001b[0msuper\u001b[0m\u001b[1;33m(\u001b[0m\u001b[1;33m)\u001b[0m\u001b[1;33m.\u001b[0m\u001b[0mrecv\u001b[0m\u001b[1;33m(\u001b[0m\u001b[0mbuflen\u001b[0m\u001b[1;33m,\u001b[0m \u001b[0mflags\u001b[0m\u001b[1;33m)\u001b[0m\u001b[1;33m\u001b[0m\u001b[1;33m\u001b[0m\u001b[0m\n",
      "\u001b[1;32mD:\\Anaconda\\lib\\ssl.py\u001b[0m in \u001b[0;36mread\u001b[1;34m(self, len, buffer)\u001b[0m\n\u001b[0;32m   1099\u001b[0m                 \u001b[1;32mreturn\u001b[0m \u001b[0mself\u001b[0m\u001b[1;33m.\u001b[0m\u001b[0m_sslobj\u001b[0m\u001b[1;33m.\u001b[0m\u001b[0mread\u001b[0m\u001b[1;33m(\u001b[0m\u001b[0mlen\u001b[0m\u001b[1;33m,\u001b[0m \u001b[0mbuffer\u001b[0m\u001b[1;33m)\u001b[0m\u001b[1;33m\u001b[0m\u001b[1;33m\u001b[0m\u001b[0m\n\u001b[0;32m   1100\u001b[0m             \u001b[1;32melse\u001b[0m\u001b[1;33m:\u001b[0m\u001b[1;33m\u001b[0m\u001b[1;33m\u001b[0m\u001b[0m\n\u001b[1;32m-> 1101\u001b[1;33m                 \u001b[1;32mreturn\u001b[0m \u001b[0mself\u001b[0m\u001b[1;33m.\u001b[0m\u001b[0m_sslobj\u001b[0m\u001b[1;33m.\u001b[0m\u001b[0mread\u001b[0m\u001b[1;33m(\u001b[0m\u001b[0mlen\u001b[0m\u001b[1;33m)\u001b[0m\u001b[1;33m\u001b[0m\u001b[1;33m\u001b[0m\u001b[0m\n\u001b[0m\u001b[0;32m   1102\u001b[0m         \u001b[1;32mexcept\u001b[0m \u001b[0mSSLError\u001b[0m \u001b[1;32mas\u001b[0m \u001b[0mx\u001b[0m\u001b[1;33m:\u001b[0m\u001b[1;33m\u001b[0m\u001b[1;33m\u001b[0m\u001b[0m\n\u001b[0;32m   1103\u001b[0m             \u001b[1;32mif\u001b[0m \u001b[0mx\u001b[0m\u001b[1;33m.\u001b[0m\u001b[0margs\u001b[0m\u001b[1;33m[\u001b[0m\u001b[1;36m0\u001b[0m\u001b[1;33m]\u001b[0m \u001b[1;33m==\u001b[0m \u001b[0mSSL_ERROR_EOF\u001b[0m \u001b[1;32mand\u001b[0m \u001b[0mself\u001b[0m\u001b[1;33m.\u001b[0m\u001b[0msuppress_ragged_eofs\u001b[0m\u001b[1;33m:\u001b[0m\u001b[1;33m\u001b[0m\u001b[1;33m\u001b[0m\u001b[0m\n",
      "\u001b[1;31mKeyboardInterrupt\u001b[0m: "
     ]
    }
   ],
   "source": [
    "file = \"../data/stations.json\"\n",
    "data = []\n",
    "with open(file) as openfile:\n",
    "    data = json.load(openfile)\n",
    "    \n",
    "# Need a commodity name to id map because of how the data is structured\n",
    "commodity_map = {}\n",
    "\n",
    "map_query = \"SELECT id, name FROM commodity\"\n",
    "cursor.execute(map_query)\n",
    "results = cursor.fetchall()\n",
    "\n",
    "for commodity in results:\n",
    "    commodity_map[commodity[1]] = commodity[0]\n",
    "    \n",
    "# STATION\n",
    "val = []\n",
    "imports = []\n",
    "exports = []\n",
    "prohibited = []\n",
    "selling_modules = []\n",
    "    \n",
    "for x in tqdm(data, desc=\"Formatting station data\"):\n",
    "    for y in x:\n",
    "        if f\"{x[y]}\" == \"None\":\n",
    "            x[y] = -1\n",
    "        if f\"{x[y]}\" == \"False\":\n",
    "            x[y] = 0\n",
    "        if f\"{x[y]}\" == \"True\":\n",
    "            x[y] = 1\n",
    "    imports.append((x['id'], x['import_commodities']))\n",
    "    exports.append((x['id'], x['export_commodities']))\n",
    "    prohibited.append((x['id'], x['prohibited_commodities']))\n",
    "    selling_modules.append((x['id'], x['selling_modules']))\n",
    "    val.append((x['id'], x['name'], x['system_id'], x['max_landing_pad_size'], x['distance_to_star'], x['government_id'], x['government'], x['allegiance_id'], x['allegiance'], x['type_id'], x['type'], x['has_blackmarket'], x['has_market'], x['has_refuel'], x['has_repair'], x['has_rearm'], x['has_outfitting'], x['has_shipyard'], x['has_docking'], x['has_commodities'], x['is_planetary'], x['settlement_size_id'], x['settlement_size'], x['settlement_security_id'], x['settlement_security'], x['body_id'], x['controlling_minor_faction_id'], x['ed_market_id']))\n",
    "\n",
    "sql = \"INSERT INTO `station` (`id`, `name`, `system_id`, `max_landing_pad_size`, `distance_to_star`, `government_id`, `government`, `allegiance_id`, `allegiance`, `type_id`, `type`, `has_blackmarket`, `has_market`, `has_refuel`, `has_repair`, `has_rearm`, `has_outfitting`, `has_shipyard`, `has_docking`, `has_commodities`, `is_planetary`, `settlement_size_id`, `settlement_size`, `settlement_security_id`, `settlement_security`, `body_id`, `controlling_minor_faction_id`, `ed_market_id`) VALUES (%s,%s,%s,%s,%s,%s,%s,%s,%s,%s,%s,%s,%s,%s,%s,%s,%s,%s,%s,%s,%s,%s,%s,%s,%s,%s,%s,%s)\"\n",
    "cursor.executemany(sql, val)    \n",
    "db.commit()\n",
    "\n",
    "# IMPORTS\n",
    "val = []\n",
    "\n",
    "for x in tqdm(imports, desc=\"Formatting imports\"):\n",
    "    for commodity in x[1]:\n",
    "        val.append((x[0], commodity_map[commodity]))\n",
    "        \n",
    "sql = \"INSERT INTO `imports` (`station_id`, `commodity_id`) VALUES (%s, %s)\"\n",
    "cursor.executemany(sql, val)    \n",
    "db.commit()  \n",
    "\n",
    "#EXPORTS\n",
    "val = []\n",
    "\n",
    "for x in tqdm(exports, desc=\"Formatting exports\"):\n",
    "    for commodity in x[1]:\n",
    "        val.append((x[0], commodity_map[commodity]))\n",
    "        \n",
    "sql = \"INSERT INTO `exports` (`station_id`, `commodity_id`) VALUES (%s, %s)\"\n",
    "cursor.executemany(sql, val)    \n",
    "db.commit()\n",
    "\n",
    "#PROHIBITED\n",
    "val = []\n",
    "\n",
    "for x in tqdm(prohibited, desc=\"Formatting prohibited\"):\n",
    "    for commodity in x[1]:\n",
    "        val.append((x[0], commodity_map[commodity]))\n",
    "        \n",
    "sql = \"INSERT INTO `prohibited` (`station_id`, `commodity_id`) VALUES (%s, %s)\"\n",
    "cursor.executemany(sql, val)    \n",
    "db.commit()\n",
    "\n",
    "# SELLING MODULES\n",
    "val = []\n",
    "\n",
    "for x in tqdm(selling_modules, desc=\"Formatting selling modules\"):\n",
    "    for module_id in x[1]:\n",
    "        val.append((x[0], module_id))\n",
    "        \n",
    "sql = \"INSERT INTO `selling_module` (`station_id`, `module_id`) VALUES (%s, %s)\"\n",
    "\n",
    "def chunk(lst, n):\n",
    "    \"\"\"Yield successive n-sized chunks from lst.\"\"\"\n",
    "    for i in tqdm(range(0, len(lst), n), desc=\"Chunking...\"):\n",
    "        yield lst[i:i + n]\n",
    "\n",
    "chunks = list(chunk(val, 100000))\n",
    "        \n",
    "for x in tqdm(chunks, desc=\"Uploading chunked modules data\"):\n",
    "    cursor.executemany(sql, x) \n",
    "    db.commit()\n",
    "    \n",
    "print(\"Commited\")\n"
   ]
  },
  {
   "cell_type": "code",
   "execution_count": null,
   "metadata": {},
   "outputs": [],
   "source": [
    "# import listing data that is in csv file\n",
    "    \n",
    "chunk_size = 1000\n",
    "\n",
    "data_dict = {}\n",
    "make_json(data_dict, '../data/listings.csv')\n",
    "\n",
    "\n",
    "data = []\n",
    "for key in tqdm(data_dict, desc=\"Converting data to correct list of JSON...\"):\n",
    "    dat.append(data_dict[key])\n",
    "    \n",
    "val = []\n",
    "    \n",
    "for x in tqdm(data, desc=\"Formatting system data\"):\n",
    "    for y in x:\n",
    "        if f\"{x[y]}\" == \"None\":\n",
    "            x[y] = -1\n",
    "        if f\"{x[y]}\" == \"False\":\n",
    "            x[y] = 0\n",
    "        if f\"{x[y]}\" == \"True\":\n",
    "            x[y] = 1\n",
    "    val.append((x['id'], x['edsm_id'], x['name'], x['x'], x['y'], x['z'], x['population'], x['is_populated'], x['government_id'], x['government'], x['allegiance_id'], x['allegiance'], x['security_id'], x['security'], x['primary_economy_id'], x['primary_economy'], x['power'], x['power_state'], x['power_state_id'], x['needs_permit'], x['simbad_ref'], x['controlling_minor_faction_id'], x['controlling_minor_faction'], x['reserve_type_id'], x['reserve_type'], x['ed_system_address']))\n",
    "\n",
    "sql = \"INSERT INTO `listings` (`id`, `edsm_id`, `name`, `x`, `y`, `z`, `population`, `is_populated`, `government_id`, `government`, `allegiance_id`, `allegiance`, `security_id`, `security`, `primary_economy_id`, `primary_economy`, `power`, `power_state`, `power_state_id`, `needs_permit`, `simbad_ref`, `controlling_minor_faction_id`, `controlling_minor_faction`, `reserve_type_id`, `reserve_type`, `ed_system_address`) VALUES (%s,%s,%s,%s,%s,%s,%s,%s,%s,%s,%s,%s,%s,%s,%s,%s,%s,%s,%s,%s,%s,%s,%s,%s,%s,%s)\"\n",
    "            \n",
    "def chunk(lst, n):\n",
    "    \"\"\"Yield successive n-sized chunks from lst.\"\"\"\n",
    "    for i in tqdm(range(0, len(lst), n), desc=\"Chunking...\"):\n",
    "        yield lst[i:i + n]\n",
    "\n",
    "chunks = list(chunk(val, 1000000))\n",
    "        \n",
    "for chunk in tqdm(chunks, desc=\"Uploading Chunks\"):\n",
    "    cursor.executemany(sql, chunk)\n",
    "    \n",
    "db.commit()\n",
    "print(\"Commited\")"
   ]
  },
  {
   "cell_type": "code",
   "execution_count": null,
   "metadata": {},
   "outputs": [],
   "source": []
  },
  {
   "cell_type": "code",
   "execution_count": null,
   "metadata": {},
   "outputs": [],
   "source": []
  },
  {
   "cell_type": "code",
   "execution_count": null,
   "metadata": {},
   "outputs": [],
   "source": []
  }
 ],
 "metadata": {
  "kernelspec": {
   "display_name": "Python 3",
   "language": "python",
   "name": "python3"
  },
  "language_info": {
   "codemirror_mode": {
    "name": "ipython",
    "version": 3
   },
   "file_extension": ".py",
   "mimetype": "text/x-python",
   "name": "python",
   "nbconvert_exporter": "python",
   "pygments_lexer": "ipython3",
   "version": "3.8.3"
  }
 },
 "nbformat": 4,
 "nbformat_minor": 4
}
