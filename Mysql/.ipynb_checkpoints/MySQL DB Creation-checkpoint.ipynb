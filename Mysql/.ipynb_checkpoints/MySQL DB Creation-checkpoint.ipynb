{
 "cells": [
  {
   "cell_type": "code",
   "execution_count": 1,
   "metadata": {},
   "outputs": [
    {
     "name": "stdout",
     "output_type": "stream",
     "text": [
      "Requirement already satisfied: mysql-connector-python in d:\\anaconda\\lib\\site-packages (8.0.22)\n",
      "Requirement already satisfied: protobuf>=3.0.0 in d:\\anaconda\\lib\\site-packages (from mysql-connector-python) (3.14.0)\n",
      "Requirement already satisfied: six>=1.9 in d:\\anaconda\\lib\\site-packages (from protobuf>=3.0.0->mysql-connector-python) (1.15.0)\n",
      "Requirement already satisfied: tqdm in d:\\anaconda\\lib\\site-packages (4.47.0)\n"
     ]
    }
   ],
   "source": [
    "# Install package in the current Jupyter kernel\n",
    "import sys\n",
    "!{sys.executable} -m pip install mysql-connector-python\n",
    "!{sys.executable} -m pip install tqdm\n",
    "\n",
    "import mysql.connector\n",
    "import tqdm"
   ]
  },
  {
   "cell_type": "code",
   "execution_count": 2,
   "metadata": {},
   "outputs": [
    {
     "name": "stdout",
     "output_type": "stream",
     "text": [
      "<mysql.connector.connection.MySQLConnection object at 0x000001CF69987AF0>\n"
     ]
    }
   ],
   "source": [
    "db = mysql.connector.connect(\n",
    "  host=\"localhost\",\n",
    "  user=\"jake\",\n",
    "  password=\"915997582\"\n",
    ")\n",
    "\n",
    "print(db)\n",
    "\n",
    "cursor = db.cursor()"
   ]
  },
  {
   "cell_type": "markdown",
   "metadata": {},
   "source": [
    "<h1>Create EDDB Database</h1>"
   ]
  },
  {
   "cell_type": "code",
   "execution_count": 3,
   "metadata": {},
   "outputs": [
    {
     "name": "stdout",
     "output_type": "stream",
     "text": [
      "('EDDB',)\n",
      "('information_schema',)\n",
      "('mysql',)\n",
      "('performance_schema',)\n",
      "('sys',)\n"
     ]
    }
   ],
   "source": [
    "cursor.execute(\"CREATE DATABASE EDDB\")\n",
    "\n",
    "cursor.execute(\"SHOW DATABASES\")\n",
    "\n",
    "for x in cursor:\n",
    "  print(x)"
   ]
  },
  {
   "cell_type": "code",
   "execution_count": 4,
   "metadata": {},
   "outputs": [
    {
     "name": "stdout",
     "output_type": "stream",
     "text": [
      "<mysql.connector.connection.MySQLConnection object at 0x000001CF699A8370>\n"
     ]
    }
   ],
   "source": [
    "db = mysql.connector.connect(\n",
    "  host=\"localhost\",\n",
    "  user=\"jake\",\n",
    "  password=\"915997582\",\n",
    "  database=\"EDDB\"  \n",
    ")\n",
    "\n",
    "print(db)\n",
    "\n",
    "cursor = db.cursor()"
   ]
  },
  {
   "cell_type": "markdown",
   "metadata": {},
   "source": [
    "<h1>Table Creation statements</h1>"
   ]
  },
  {
   "cell_type": "code",
   "execution_count": 5,
   "metadata": {},
   "outputs": [],
   "source": [
    "# SYSTEMS TABLE\n",
    "create_statement = \"\"\"\n",
    "CREATE TABLE _system (\n",
    "id INT,\n",
    "edsm_id INT,\n",
    "name VARCHAR(255),\n",
    "x FLOAT,\n",
    "y FLOAT,\n",
    "z FLOAT,\n",
    "population INT,\n",
    "is_populated TINYINT,\n",
    "government_id INT,\n",
    "government VARCHAR(255),\n",
    "allegiance_id INT,\n",
    "allegiance VARCHAR(255),\n",
    "security_id INT,\n",
    "security VARCHAR(255),\n",
    "primary_economy_id INT,\n",
    "primary_economy VARCHAR(255),\n",
    "power VARCHAR(255),\n",
    "power_state VARCHAR(255),\n",
    "power_state_id INT,\n",
    "needs_permit TINYINT,\n",
    "simbad_ref VARCHAR(255),\n",
    "controlling_minor_faction_id INT,\n",
    "controlling_minor_faction VARCHAR(255),\n",
    "reserve_type_id INT,\n",
    "reserve_type VARCHAR(255),\n",
    "ed_system_address INT,\n",
    "PRIMARY KEY (id)\n",
    ")\n",
    "\"\"\"\n",
    "\n",
    "cursor.execute(create_statement)"
   ]
  },
  {
   "cell_type": "code",
   "execution_count": 6,
   "metadata": {},
   "outputs": [],
   "source": [
    "# LISTINGS CATEGORY TABLE\n",
    "create_statement = \"\"\"\n",
    "CREATE TABLE category (\n",
    "id INT,\n",
    "name VARCHAR(255),\n",
    "PRIMARY KEY (id)\n",
    ")\n",
    "\"\"\"\n",
    "\n",
    "cursor.execute(create_statement)"
   ]
  },
  {
   "cell_type": "code",
   "execution_count": 7,
   "metadata": {},
   "outputs": [],
   "source": [
    "# SYSTEMS/STATION STATES TABLE\n",
    "create_statement = \"\"\"\n",
    "CREATE TABLE state (\n",
    "id INT,\n",
    "name VARCHAR(255),\n",
    "PRIMARY KEY (id)\n",
    ")\n",
    "\"\"\"\n",
    "\n",
    "cursor.execute(create_statement)"
   ]
  },
  {
   "cell_type": "code",
   "execution_count": 8,
   "metadata": {},
   "outputs": [],
   "source": [
    "# COMMODITY TABLE\n",
    "create_statement = \"\"\"\n",
    "CREATE TABLE commodity (\n",
    "id INT,\n",
    "name VARCHAR(255),\n",
    "category_id INT,\n",
    "average_price INT,\n",
    "is_rare INT,\n",
    "max_buy_price INT,\n",
    "max_sell_price INT,\n",
    "min_buy_price INT,\n",
    "min_sell_price INT,\n",
    "buy_price_lower_average INT,\n",
    "sell_price_upper_average INT,\n",
    "is_non_marketable INT,\n",
    "ed_id INT,\n",
    "PRIMARY KEY (id),\n",
    "FOREIGN KEY (category_id) REFERENCES category(id)\n",
    ")\n",
    "\"\"\"\n",
    "\n",
    "cursor.execute(create_statement)"
   ]
  },
  {
   "cell_type": "code",
   "execution_count": 9,
   "metadata": {},
   "outputs": [
    {
     "ename": "ProgrammingError",
     "evalue": "1072 (42000): Key column 'commodity_id' doesn't exist in table",
     "output_type": "error",
     "traceback": [
      "\u001b[1;31m---------------------------------------------------------------------------\u001b[0m",
      "\u001b[1;31mProgrammingError\u001b[0m                          Traceback (most recent call last)",
      "\u001b[1;32m<ipython-input-9-fbef0905fe40>\u001b[0m in \u001b[0;36m<module>\u001b[1;34m\u001b[0m\n\u001b[0;32m     37\u001b[0m \"\"\"\n\u001b[0;32m     38\u001b[0m \u001b[1;33m\u001b[0m\u001b[0m\n\u001b[1;32m---> 39\u001b[1;33m \u001b[0mcursor\u001b[0m\u001b[1;33m.\u001b[0m\u001b[0mexecute\u001b[0m\u001b[1;33m(\u001b[0m\u001b[0mcreate_statement\u001b[0m\u001b[1;33m)\u001b[0m\u001b[1;33m\u001b[0m\u001b[1;33m\u001b[0m\u001b[0m\n\u001b[0m",
      "\u001b[1;32mD:\\Anaconda\\lib\\site-packages\\mysql\\connector\\cursor.py\u001b[0m in \u001b[0;36mexecute\u001b[1;34m(self, operation, params, multi)\u001b[0m\n\u001b[0;32m    567\u001b[0m \u001b[1;33m\u001b[0m\u001b[0m\n\u001b[0;32m    568\u001b[0m         \u001b[1;32mtry\u001b[0m\u001b[1;33m:\u001b[0m\u001b[1;33m\u001b[0m\u001b[1;33m\u001b[0m\u001b[0m\n\u001b[1;32m--> 569\u001b[1;33m             \u001b[0mself\u001b[0m\u001b[1;33m.\u001b[0m\u001b[0m_handle_result\u001b[0m\u001b[1;33m(\u001b[0m\u001b[0mself\u001b[0m\u001b[1;33m.\u001b[0m\u001b[0m_connection\u001b[0m\u001b[1;33m.\u001b[0m\u001b[0mcmd_query\u001b[0m\u001b[1;33m(\u001b[0m\u001b[0mstmt\u001b[0m\u001b[1;33m)\u001b[0m\u001b[1;33m)\u001b[0m\u001b[1;33m\u001b[0m\u001b[1;33m\u001b[0m\u001b[0m\n\u001b[0m\u001b[0;32m    570\u001b[0m         \u001b[1;32mexcept\u001b[0m \u001b[0merrors\u001b[0m\u001b[1;33m.\u001b[0m\u001b[0mInterfaceError\u001b[0m\u001b[1;33m:\u001b[0m\u001b[1;33m\u001b[0m\u001b[1;33m\u001b[0m\u001b[0m\n\u001b[0;32m    571\u001b[0m             \u001b[1;32mif\u001b[0m \u001b[0mself\u001b[0m\u001b[1;33m.\u001b[0m\u001b[0m_connection\u001b[0m\u001b[1;33m.\u001b[0m\u001b[0m_have_next_result\u001b[0m\u001b[1;33m:\u001b[0m  \u001b[1;31m# pylint: disable=W0212\u001b[0m\u001b[1;33m\u001b[0m\u001b[1;33m\u001b[0m\u001b[0m\n",
      "\u001b[1;32mD:\\Anaconda\\lib\\site-packages\\mysql\\connector\\connection.py\u001b[0m in \u001b[0;36mcmd_query\u001b[1;34m(self, query, raw, buffered, raw_as_string)\u001b[0m\n\u001b[0;32m    649\u001b[0m             \u001b[0mquery\u001b[0m \u001b[1;33m=\u001b[0m \u001b[0mquery\u001b[0m\u001b[1;33m.\u001b[0m\u001b[0mencode\u001b[0m\u001b[1;33m(\u001b[0m\u001b[1;34m'utf-8'\u001b[0m\u001b[1;33m)\u001b[0m\u001b[1;33m\u001b[0m\u001b[1;33m\u001b[0m\u001b[0m\n\u001b[0;32m    650\u001b[0m         \u001b[1;32mtry\u001b[0m\u001b[1;33m:\u001b[0m\u001b[1;33m\u001b[0m\u001b[1;33m\u001b[0m\u001b[0m\n\u001b[1;32m--> 651\u001b[1;33m             \u001b[0mresult\u001b[0m \u001b[1;33m=\u001b[0m \u001b[0mself\u001b[0m\u001b[1;33m.\u001b[0m\u001b[0m_handle_result\u001b[0m\u001b[1;33m(\u001b[0m\u001b[0mself\u001b[0m\u001b[1;33m.\u001b[0m\u001b[0m_send_cmd\u001b[0m\u001b[1;33m(\u001b[0m\u001b[0mServerCmd\u001b[0m\u001b[1;33m.\u001b[0m\u001b[0mQUERY\u001b[0m\u001b[1;33m,\u001b[0m \u001b[0mquery\u001b[0m\u001b[1;33m)\u001b[0m\u001b[1;33m)\u001b[0m\u001b[1;33m\u001b[0m\u001b[1;33m\u001b[0m\u001b[0m\n\u001b[0m\u001b[0;32m    652\u001b[0m         \u001b[1;32mexcept\u001b[0m \u001b[0merrors\u001b[0m\u001b[1;33m.\u001b[0m\u001b[0mProgrammingError\u001b[0m \u001b[1;32mas\u001b[0m \u001b[0merr\u001b[0m\u001b[1;33m:\u001b[0m\u001b[1;33m\u001b[0m\u001b[1;33m\u001b[0m\u001b[0m\n\u001b[0;32m    653\u001b[0m             \u001b[1;32mif\u001b[0m \u001b[0merr\u001b[0m\u001b[1;33m.\u001b[0m\u001b[0merrno\u001b[0m \u001b[1;33m==\u001b[0m \u001b[1;36m3948\u001b[0m \u001b[1;32mand\u001b[0m\u001b[0;31m \u001b[0m\u001b[0;31m\\\u001b[0m\u001b[1;33m\u001b[0m\u001b[1;33m\u001b[0m\u001b[0m\n",
      "\u001b[1;32mD:\\Anaconda\\lib\\site-packages\\mysql\\connector\\connection.py\u001b[0m in \u001b[0;36m_handle_result\u001b[1;34m(self, packet)\u001b[0m\n\u001b[0;32m    536\u001b[0m             \u001b[1;32mreturn\u001b[0m \u001b[0mself\u001b[0m\u001b[1;33m.\u001b[0m\u001b[0m_handle_eof\u001b[0m\u001b[1;33m(\u001b[0m\u001b[0mpacket\u001b[0m\u001b[1;33m)\u001b[0m\u001b[1;33m\u001b[0m\u001b[1;33m\u001b[0m\u001b[0m\n\u001b[0;32m    537\u001b[0m         \u001b[1;32melif\u001b[0m \u001b[0mpacket\u001b[0m\u001b[1;33m[\u001b[0m\u001b[1;36m4\u001b[0m\u001b[1;33m]\u001b[0m \u001b[1;33m==\u001b[0m \u001b[1;36m255\u001b[0m\u001b[1;33m:\u001b[0m\u001b[1;33m\u001b[0m\u001b[1;33m\u001b[0m\u001b[0m\n\u001b[1;32m--> 538\u001b[1;33m             \u001b[1;32mraise\u001b[0m \u001b[0merrors\u001b[0m\u001b[1;33m.\u001b[0m\u001b[0mget_exception\u001b[0m\u001b[1;33m(\u001b[0m\u001b[0mpacket\u001b[0m\u001b[1;33m)\u001b[0m\u001b[1;33m\u001b[0m\u001b[1;33m\u001b[0m\u001b[0m\n\u001b[0m\u001b[0;32m    539\u001b[0m \u001b[1;33m\u001b[0m\u001b[0m\n\u001b[0;32m    540\u001b[0m         \u001b[1;31m# We have a text result set\u001b[0m\u001b[1;33m\u001b[0m\u001b[1;33m\u001b[0m\u001b[1;33m\u001b[0m\u001b[0m\n",
      "\u001b[1;31mProgrammingError\u001b[0m: 1072 (42000): Key column 'commodity_id' doesn't exist in table"
     ]
    }
   ],
   "source": [
    "# STATION TABLE\n",
    "create_statement = \"\"\"\n",
    "CREATE TABLE station (\n",
    "id INT,\n",
    "name VARCHAR(255),\n",
    "system_id INT,\n",
    "max_landing_pad_size VARCHAR(255),\n",
    "distance_to_star INT,\n",
    "government_id INT,\n",
    "government VARCHAR(255),\n",
    "allegiance_id INT,\n",
    "allegiance VARCHAR(255),\n",
    "type_id INT,\n",
    "type VARCHAR(255),\n",
    "has_blackmarket TINYINT,\n",
    "has_market TINYINT,\n",
    "has_refuel TINYINT,\n",
    "has_repair TINYINT,\n",
    "has_rearm TINYINT,\n",
    "has_outfitting TINYINT,\n",
    "has_shipyard TINYINT,\n",
    "has_docking TINYINT,\n",
    "has_commodities TINYINT,\n",
    "is_planetary TINYINT,\n",
    "settlement_size_id INT,\n",
    "settlement_size VARCHAR(255),\n",
    "settlement_security_id INT,\n",
    "settlement_security VARCHAR(255),\n",
    "economy VARCHAR(255),\n",
    "body_id INT,\n",
    "controlling_minor_faction_id INT,\n",
    "ed_market_id INT,\n",
    "PRIMARY KEY (id),\n",
    "FOREIGN KEY (system_id) REFERENCES _system(id)\n",
    ")\n",
    "\"\"\"\n",
    "\n",
    "cursor.execute(create_statement)"
   ]
  },
  {
   "cell_type": "code",
   "execution_count": null,
   "metadata": {},
   "outputs": [],
   "source": [
    "# LISTINGS TABLE\n",
    "create_statement = \"\"\"\n",
    "CREATE TABLE listing (\n",
    "id INT,\n",
    "station_id INT,\n",
    "supply INT,\n",
    "supply_bracket INT,\n",
    "buy_price INT,\n",
    "sell_price INT,\n",
    "demand INT,\n",
    "demand_bracket INT,\n",
    "PRIMARY KEY (id),\n",
    "FOREIGN KEY (station_id) REFERENCES station(id)\n",
    ")\n",
    "\"\"\"\n",
    "\n",
    "cursor.execute(create_statement)"
   ]
  },
  {
   "cell_type": "code",
   "execution_count": null,
   "metadata": {},
   "outputs": [],
   "source": [
    "# FACTION TABLE\n",
    "create_statement = \"\"\"\n",
    "CREATE TABLE faction (\n",
    "id INT,\n",
    "name VARCHAR(255),\n",
    "government_id INT,\n",
    "government VARCHAR(255),\n",
    "allegiance_id INT,\n",
    "allegiance VARCHAR(255),\n",
    "home_system_id INT,\n",
    "is_player_faction INT,\n",
    "PRIMARY KEY (id)\n",
    ")\n",
    "\"\"\"\n",
    "\n",
    "cursor.execute(create_statement)"
   ]
  },
  {
   "cell_type": "code",
   "execution_count": null,
   "metadata": {},
   "outputs": [],
   "source": [
    "# MODULE GROUP TABLE\n",
    "create_statement = \"\"\"\n",
    "CREATE TABLE _group (\n",
    "id INT,\n",
    "category_id INT,\n",
    "name VARCHAR(255),\n",
    "category VARCHAR(255),\n",
    "PRIMARY KEY (id)\n",
    ")\n",
    "\"\"\"\n",
    "\n",
    "cursor.execute(create_statement)"
   ]
  },
  {
   "cell_type": "code",
   "execution_count": null,
   "metadata": {},
   "outputs": [],
   "source": [
    "# MODULE TABLE\n",
    "create_statement = \"\"\"\n",
    "CREATE TABLE module (\n",
    "id INT,\n",
    "group_id INT,\n",
    "class INT,\n",
    "rating VARCHAR(255),\n",
    "price INT,\n",
    "weapon_mode VARCHAR(255),\n",
    "missile_type VARCHAR(255),\n",
    "name VARCHAR(255),\n",
    "belongs_to INT,\n",
    "ed_id INT,\n",
    "ed_symbol VARCHAR(255),\n",
    "game_context_id INT,\n",
    "ship VARCHAR(255),\n",
    "PRIMARY KEY (id),\n",
    "FOREIGN KEY (group_id) REFERENCES _group(id)\n",
    ")\n",
    "\"\"\"\n",
    "\n",
    "cursor.execute(create_statement)"
   ]
  },
  {
   "cell_type": "code",
   "execution_count": null,
   "metadata": {},
   "outputs": [],
   "source": [
    "# SYSTEMS MINOR FACTION PRESENCES ** NEED to narrow down primary key\n",
    "create_statement = \"\"\"\n",
    "CREATE TABLE minor_faction_presence (\n",
    "system_id INT,\n",
    "happiness_id INT,\n",
    "minor_faction_id INT,\n",
    "influence FLOAT,\n",
    "PRIMARY KEY (system_id, minor_faction_id),\n",
    "FOREIGN KEY (minor_faction_id) REFERENCES faction(id),\n",
    "FOREIGN KEY (system_id) REFERENCES _system(id)\n",
    ")\n",
    "\"\"\"\n",
    "\n",
    "cursor.execute(create_statement)"
   ]
  },
  {
   "cell_type": "code",
   "execution_count": null,
   "metadata": {},
   "outputs": [],
   "source": [
    "# STATION IMPORTS TABLE\n",
    "create_statement = \"\"\"\n",
    "CREATE TABLE imports (\n",
    "station_id INT,\n",
    "commodity_id INT,\n",
    "PRIMARY KEY (station_id, commodity_id),\n",
    "FOREIGN KEY (station_id) REFERENCES station(id),\n",
    "FOREIGN KEY (commodity_id) REFERENCES commodity(id)\n",
    ")\n",
    "\"\"\"\n",
    "\n",
    "cursor.execute(create_statement)"
   ]
  },
  {
   "cell_type": "code",
   "execution_count": null,
   "metadata": {},
   "outputs": [],
   "source": [
    "# STATION EXPORTS TABLE\n",
    "create_statement = \"\"\"\n",
    "CREATE TABLE exports (\n",
    "station_id INT,\n",
    "commodity_id INT,\n",
    "PRIMARY KEY (station_id, commodity_id),\n",
    "FOREIGN KEY (station_id) REFERENCES station(id),\n",
    "FOREIGN KEY (commodity_id) REFERENCES commodity(id)\n",
    ")\n",
    "\"\"\"\n",
    "\n",
    "cursor.execute(create_statement)"
   ]
  },
  {
   "cell_type": "code",
   "execution_count": null,
   "metadata": {},
   "outputs": [],
   "source": [
    "# STATION PROHIBITED TABLE\n",
    "create_statement = \"\"\"\n",
    "CREATE TABLE prohibited (\n",
    "station_id INT,\n",
    "commodity_id INT,\n",
    "PRIMARY KEY (station_id, commodity_id),\n",
    "FOREIGN KEY (station_id) REFERENCES station(id),\n",
    "FOREIGN KEY (commodity_id) REFERENCES commodity(id)\n",
    ")\n",
    "\"\"\"\n",
    "\n",
    "cursor.execute(create_statement)"
   ]
  },
  {
   "cell_type": "code",
   "execution_count": null,
   "metadata": {},
   "outputs": [],
   "source": [
    "# SHIP TABLE\n",
    "create_statement = \"\"\"\n",
    "CREATE TABLE ship (\n",
    "id INT,\n",
    "name VARCHAR(255),\n",
    "PRIMARY KEY (id)\n",
    ")\n",
    "\"\"\"\n",
    "\n",
    "cursor.execute(create_statement)"
   ]
  },
  {
   "cell_type": "code",
   "execution_count": null,
   "metadata": {},
   "outputs": [],
   "source": [
    "# STATION SELLING SHIPS TABLE\n",
    "create_statement = \"\"\"\n",
    "CREATE TABLE selling_ship (\n",
    "station_id INT,\n",
    "ship_id INT,\n",
    "PRIMARY KEY (station_id, ship_id),\n",
    "FOREIGN KEY (station_id) REFERENCES station(id),\n",
    "FOREIGN KEY (ship_id) REFERENCES ship(id)\n",
    ")\n",
    "\"\"\"\n",
    "\n",
    "cursor.execute(create_statement)"
   ]
  },
  {
   "cell_type": "code",
   "execution_count": null,
   "metadata": {},
   "outputs": [],
   "source": [
    "# STATION SELLING MODULES TABLE\n",
    "create_statement = \"\"\"\n",
    "CREATE TABLE selling_module (\n",
    "station_id INT,\n",
    "module_id INT,\n",
    "PRIMARY KEY (station_id, module_id),\n",
    "FOREIGN KEY (module_id) REFERENCES module(id),\n",
    "FOREIGN KEY (station_id) REFERENCES station(id)\n",
    ")\n",
    "\"\"\"\n",
    "\n",
    "cursor.execute(create_statement)"
   ]
  },
  {
   "cell_type": "markdown",
   "metadata": {},
   "source": [
    "<h1>Add Foreign key contraints</h1>"
   ]
  },
  {
   "cell_type": "code",
   "execution_count": null,
   "metadata": {},
   "outputs": [],
   "source": [
    "# TWO WAY SYSTEM FACTION KEYS\n",
    "key_statement = \"\"\"\n",
    "ALTER TABLE _system\n",
    "ADD FOREIGN KEY (controlling_minor_faction_id) REFERENCES faction(id)\n",
    "\"\"\"\n",
    "\n",
    "cursor.execute(key_statement)\n",
    "\n",
    "key_statement = \"\"\"\n",
    "ALTER TABLE faction\n",
    "ADD FOREIGN KEY (home_system_id) REFERENCES _system(id)\n",
    "\"\"\"\n",
    "\n",
    "cursor.execute(key_statement)"
   ]
  },
  {
   "cell_type": "code",
   "execution_count": null,
   "metadata": {},
   "outputs": [],
   "source": []
  },
  {
   "cell_type": "code",
   "execution_count": null,
   "metadata": {},
   "outputs": [],
   "source": []
  },
  {
   "cell_type": "code",
   "execution_count": null,
   "metadata": {},
   "outputs": [],
   "source": []
  }
 ],
 "metadata": {
  "kernelspec": {
   "display_name": "Python 3",
   "language": "python",
   "name": "python3"
  },
  "language_info": {
   "codemirror_mode": {
    "name": "ipython",
    "version": 3
   },
   "file_extension": ".py",
   "mimetype": "text/x-python",
   "name": "python",
   "nbconvert_exporter": "python",
   "pygments_lexer": "ipython3",
   "version": "3.8.3"
  }
 },
 "nbformat": 4,
 "nbformat_minor": 4
}
