{
 "cells": [
  {
   "cell_type": "code",
   "execution_count": 1,
   "metadata": {},
   "outputs": [
    {
     "name": "stdout",
     "output_type": "stream",
     "text": [
      "Requirement already satisfied: mysql-connector-python in d:\\anaconda\\lib\\site-packages (8.0.22)\n",
      "Requirement already satisfied: protobuf>=3.0.0 in d:\\anaconda\\lib\\site-packages (from mysql-connector-python) (3.14.0)\n",
      "Requirement already satisfied: six>=1.9 in d:\\anaconda\\lib\\site-packages (from protobuf>=3.0.0->mysql-connector-python) (1.15.0)\n",
      "Requirement already satisfied: tqdm in d:\\anaconda\\lib\\site-packages (4.47.0)\n"
     ]
    }
   ],
   "source": [
    "# Install package in the current Jupyter kernel\n",
    "import sys\n",
    "!{sys.executable} -m pip install mysql-connector-python\n",
    "!{sys.executable} -m pip install tqdm\n",
    "\n",
    "import mysql.connector\n",
    "import tqdm"
   ]
  },
  {
   "cell_type": "code",
   "execution_count": 2,
   "metadata": {},
   "outputs": [
    {
     "name": "stdout",
     "output_type": "stream",
     "text": [
      "<mysql.connector.connection.MySQLConnection object at 0x0000022A13137B20>\n"
     ]
    }
   ],
   "source": [
    "db = mysql.connector.connect(\n",
    "  host=\"localhost\",\n",
    "  user=\"jake\",\n",
    "  password=\"915997582\",\n",
    "    \n",
    ")\n",
    "\n",
    "print(db)\n",
    "\n",
    "cursor = db.cursor()"
   ]
  },
  {
   "cell_type": "markdown",
   "metadata": {},
   "source": [
    "<h1>Create EDDB Database</h1>"
   ]
  },
  {
   "cell_type": "code",
   "execution_count": 3,
   "metadata": {},
   "outputs": [
    {
     "name": "stdout",
     "output_type": "stream",
     "text": [
      "('EDDB',)\n",
      "('information_schema',)\n",
      "('mysql',)\n",
      "('performance_schema',)\n",
      "('sys',)\n"
     ]
    }
   ],
   "source": [
    "cursor.execute(\"CREATE DATABASE EDDB\")\n",
    "\n",
    "cursor.execute(\"SHOW DATABASES\")\n",
    "\n",
    "for x in cursor:\n",
    "  print(x)"
   ]
  },
  {
   "cell_type": "code",
   "execution_count": 5,
   "metadata": {},
   "outputs": [
    {
     "name": "stdout",
     "output_type": "stream",
     "text": [
      "<mysql.connector.connection.MySQLConnection object at 0x0000022A141FA340>\n"
     ]
    }
   ],
   "source": [
    "db = mysql.connector.connect(\n",
    "  host=\"localhost\",\n",
    "  user=\"jake\",\n",
    "  password=\"915997582\",\n",
    "  database=\"EDDB\"  \n",
    ")\n",
    "\n",
    "print(db)\n",
    "\n",
    "cursor = db.cursor()"
   ]
  },
  {
   "cell_type": "markdown",
   "metadata": {},
   "source": [
    "<h1>Table Creation statements</h1>"
   ]
  },
  {
   "cell_type": "code",
   "execution_count": 7,
   "metadata": {},
   "outputs": [],
   "source": [
    "# LISTINGS TABLE\n",
    "create_statement = \"\"\"\n",
    "CREATE TABLE listing (\n",
    "id INT PRIMARY KEY,\n",
    "station_id INT,\n",
    "supply INT,\n",
    "supply_bracket INT,\n",
    "buy_price INT,\n",
    "sell_price INT,\n",
    "demand INT,\n",
    "demand_bracket INT\n",
    ")\n",
    "\"\"\"\n",
    "\n",
    "cursor.execute(create_statement)"
   ]
  },
  {
   "cell_type": "code",
   "execution_count": null,
   "metadata": {},
   "outputs": [],
   "source": [
    "# LISTINGS CATEGORY TABLE\n",
    "create_statement = \"\"\"\n",
    "CREATE TABLE listing_category (\n",
    "id INT PRIMARY KEY,\n",
    "name VARCHAR(255)\n",
    ")\n",
    "\"\"\"\n",
    "\n",
    "cursor.execute(create_statement)"
   ]
  },
  {
   "cell_type": "code",
   "execution_count": null,
   "metadata": {},
   "outputs": [],
   "source": [
    "# COMMODITY TABLE\n",
    "create_statement = \"\"\"\n",
    "CREATE TABLE commodity (\n",
    "id INT PRIMARY KEY,\n",
    "name VARCHAR(255),\n",
    "category_id INT,\n",
    "average_price INT,\n",
    "is_rare INT,\n",
    "max_buy_price INT,\n",
    "max_sell_price INT,\n",
    "min_buy_price INT,\n",
    "min_sell_price INT,\n",
    "buy_price_lower_average INT\n",
    "sell_price_upper_average INT,\n",
    "is_non_marketable INT,\n",
    "ed_id INT\n",
    ")\n",
    "\"\"\"\n",
    "\n",
    "cursor.execute(create_statement)"
   ]
  },
  {
   "cell_type": "code",
   "execution_count": null,
   "metadata": {},
   "outputs": [],
   "source": [
    "# FACTION TABLE\n",
    "create_statement = \"\"\"\n",
    "CREATE TABLE faction (\n",
    "id INT PRIMARY KEY,\n",
    "name VARCHAR(255),\n",
    "government_id INT,\n",
    "government VARCHAR(255),\n",
    "allegiance_id INT,\n",
    "allegiance VARCHAR(255),\n",
    "home_system_id INT,\n",
    "is_player_faction INT\n",
    ")\n",
    "\"\"\"\n",
    "\n",
    "cursor.execute(create_statement)"
   ]
  },
  {
   "cell_type": "code",
   "execution_count": null,
   "metadata": {},
   "outputs": [],
   "source": [
    "# MODULE TABLE\n",
    "create_statement = \"\"\"\n",
    "CREATE TABLE module (\n",
    "id INT PRIMARY KEY,\n",
    "group_id INT,\n",
    "class INT,\n",
    "rating VARCHAR(255),\n",
    "price INT,\n",
    "weapon_mode VARCHAR(255),\n",
    "missile_type VARCHAR(255),\n",
    "name VARCHAR(255),\n",
    "belongs_to INT,\n",
    "ed_id INT\n",
    "ed_symbol VARCHAR(255),\n",
    "game_context_id INT,\n",
    "ship VARCHAR(255)\n",
    ")\n",
    "\"\"\"\n",
    "\n",
    "cursor.execute(create_statement)"
   ]
  },
  {
   "cell_type": "code",
   "execution_count": null,
   "metadata": {},
   "outputs": [],
   "source": [
    "# MODULE GROUP TABLE\n",
    "create_statement = \"\"\"\n",
    "CREATE TABLE module_group (\n",
    "id INT PRIMARY KEY,\n",
    "category_id INT,\n",
    "name VARCHAR(255),\n",
    "category VARCHAR(255)\n",
    ")\n",
    "\"\"\"\n",
    "\n",
    "cursor.execute(create_statement)"
   ]
  },
  {
   "cell_type": "code",
   "execution_count": null,
   "metadata": {},
   "outputs": [],
   "source": [
    "# SYSTEMS TABLE\n",
    "create_statement = \"\"\"\n",
    "CREATE TABLE system (\n",
    "id INT PRIMARY KEY,\n",
    "edsm_id INT,\n",
    "name VARCAHR(255),\n",
    "x FLOAT,\n",
    "y FLOAT,\n",
    "z FLOAT,\n",
    "population INT,\n",
    "is_populated TIMYINT,\n",
    "government_id INT,\n",
    "government VARCHAR(255),\n",
    "allegiance_id INT,\n",
    "allegiance VARCHAR(255),\n",
    "security_id INT,\n",
    "security VARCHAR(255),\n",
    "primary_economy_id INT,\n",
    "primary_economy VARCHAR(255),\n",
    "power VARCHAR(255),\n",
    "power_state VARCHAR(255),\n",
    "power_state_id INT,\n",
    "needs_permit TINYINT,\n",
    "simbad_ref VARCHAR(255),\n",
    "controlling_minor_faction_id INT,\n",
    "controlling_minor_faction VARCHAR(255),\n",
    "reserve_type_id INT,\n",
    "reserve_type VARCHAR(255),\n",
    "ed_system_address INT\n",
    ")\n",
    "\"\"\"\n",
    "\n",
    "cursor.execute(create_statement)"
   ]
  },
  {
   "cell_type": "code",
   "execution_count": null,
   "metadata": {},
   "outputs": [],
   "source": [
    "# SYSTEMS/STATION STATES TABLE\n",
    "create_statement = \"\"\"\n",
    "CREATE TABLE system_state (\n",
    "id INT PRIMARY KEY,\n",
    "name VARCHAR(255)\n",
    ")\n",
    "\"\"\"\n",
    "\n",
    "cursor.execute(create_statement)"
   ]
  },
  {
   "cell_type": "code",
   "execution_count": null,
   "metadata": {},
   "outputs": [],
   "source": [
    "# SYSTEMS MINOR FACTION PRESENCES ** NEED to narrow down primary key\n",
    "create_statement = \"\"\"\n",
    "CREATE TABLE system_minor_faction_presence (\n",
    "happiness_id INT,\n",
    "minor_faction_id INT,\n",
    "influence FLOAT\n",
    ")\n",
    "\"\"\"\n",
    "\n",
    "cursor.execute(create_statement)"
   ]
  },
  {
   "cell_type": "code",
   "execution_count": null,
   "metadata": {},
   "outputs": [],
   "source": [
    "# STATION TABLE\n",
    "create_statement = \"\"\"\n",
    "CREATE TABLE station (\n",
    "id INT PRIMARY KEY,\n",
    "name VARCHAR(255),\n",
    "system_id INT,\n",
    "max_landing_pad_size VARCHAR(255),\n",
    "distance_to_star INT,\n",
    "government_id INT,\n",
    "government VARCHAR(255),\n",
    "allegiance_id INT,\n",
    "allegiance VARCHAR(255),\n",
    "type_id INT,\n",
    "type VARCHAR(255),\n",
    "has_blackmarket TINYINT,\n",
    "has_market TINYINT,\n",
    "has_refuel TINYINT,\n",
    "has_repair TINYINT,\n",
    "has_rearm TINYINT,\n",
    "has_outfitting TINYINT,\n",
    "has_shipyard TINYINT,\n",
    "has_docking TINYINT,\n",
    "has_commodities TINYINT,\n",
    "import_commodities\n",
    ":\n",
    "export_commodities\n",
    ":\n",
    "prohibited_commodities\n",
    ":\n",
    "economies\n",
    ":\n",
    "is_planetary TINYINT,\n",
    "selling_ships\n",
    ":\n",
    "selling_modules\n",
    ":\n",
    "settlement_size_id INT,\n",
    "settlement_size VARCHAR(255),\n",
    "settlement_security_id INT,\n",
    "settlement_security VARCHAR(255),\n",
    "body_id INT,\n",
    "controlling_minor_faction_id INT,\n",
    "ed_market_id INT,\n",
    ")\n",
    "\"\"\"\n",
    "\n",
    "cursor.execute(create_statement)"
   ]
  },
  {
   "cell_type": "code",
   "execution_count": null,
   "metadata": {},
   "outputs": [],
   "source": [
    "# STATION IMPORTS TABLE"
   ]
  },
  {
   "cell_type": "code",
   "execution_count": null,
   "metadata": {},
   "outputs": [],
   "source": [
    "# STATION EXPORTS TABLE"
   ]
  },
  {
   "cell_type": "code",
   "execution_count": null,
   "metadata": {},
   "outputs": [],
   "source": [
    "# STATION PROHIBITED TABLE"
   ]
  },
  {
   "cell_type": "code",
   "execution_count": null,
   "metadata": {},
   "outputs": [],
   "source": [
    "# STATION SELLING SHIPS TABLE"
   ]
  },
  {
   "cell_type": "code",
   "execution_count": null,
   "metadata": {},
   "outputs": [],
   "source": [
    "# STATION SELLING MODULES TABLE"
   ]
  },
  {
   "cell_type": "code",
   "execution_count": null,
   "metadata": {},
   "outputs": [],
   "source": []
  }
 ],
 "metadata": {
  "kernelspec": {
   "display_name": "Python 3",
   "language": "python",
   "name": "python3"
  },
  "language_info": {
   "codemirror_mode": {
    "name": "ipython",
    "version": 3
   },
   "file_extension": ".py",
   "mimetype": "text/x-python",
   "name": "python",
   "nbconvert_exporter": "python",
   "pygments_lexer": "ipython3",
   "version": "3.8.3"
  }
 },
 "nbformat": 4,
 "nbformat_minor": 4
}
