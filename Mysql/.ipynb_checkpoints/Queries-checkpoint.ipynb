{
 "cells": [
  {
   "cell_type": "code",
   "execution_count": 1,
   "metadata": {},
   "outputs": [
    {
     "name": "stdout",
     "output_type": "stream",
     "text": [
      "Requirement already satisfied: mysql-connector-python in d:\\anaconda\\lib\\site-packages (8.0.22)\n",
      "Requirement already satisfied: protobuf>=3.0.0 in d:\\anaconda\\lib\\site-packages (from mysql-connector-python) (3.14.0)\n",
      "Requirement already satisfied: six>=1.9 in d:\\anaconda\\lib\\site-packages (from protobuf>=3.0.0->mysql-connector-python) (1.15.0)\n"
     ]
    }
   ],
   "source": [
    "# Install package in the current Jupyter kernel\n",
    "import sys\n",
    "!{sys.executable} -m pip install mysql-connector-python\n",
    "import mysql.connector\n",
    "from tqdm import tqdm"
   ]
  },
  {
   "cell_type": "code",
   "execution_count": 2,
   "metadata": {},
   "outputs": [
    {
     "name": "stdout",
     "output_type": "stream",
     "text": [
      "<mysql.connector.connection.MySQLConnection object at 0x000001D937ABAE20>\n"
     ]
    }
   ],
   "source": [
    "db = mysql.connector.connect(\n",
    "  host=\"localhost\",\n",
    "  user=\"root\",\n",
    "  password=\"915997582\",\n",
    "  database=\"EDDB\"  \n",
    ")\n",
    "\n",
    "print(db)\n",
    "\n",
    "cursor = db.cursor()"
   ]
  },
  {
   "cell_type": "code",
   "execution_count": 3,
   "metadata": {},
   "outputs": [
    {
     "name": "stdout",
     "output_type": "stream",
     "text": [
      "(10507, 'Independent')\n",
      "(4556, 'Empire')\n",
      "(4386, 'Federation')\n",
      "(1092, 'Alliance')\n",
      "(19, '-1')\n",
      "(9, 'Pilots Federation')\n"
     ]
    }
   ],
   "source": [
    "# How many systems does each faction control\n",
    "query = \"\"\"\n",
    "SELECT COUNT(id), allegiance\n",
    "FROM system_populated\n",
    "GROUP BY allegiance\n",
    "ORDER BY COUNT(id) DESC\n",
    "\"\"\"\n",
    "\n",
    "cursor.execute(query)\n",
    "\n",
    "results = cursor.fetchall()\n",
    "\n",
    "for x in results:\n",
    "    print(x)"
   ]
  },
  {
   "cell_type": "code",
   "execution_count": 4,
   "metadata": {},
   "outputs": [
    {
     "name": "stdout",
     "output_type": "stream",
     "text": [
      "('Tritium', 52455, 4005)\n",
      "('Meta-Alloys', 236737, 190461)\n",
      "('Agronomic Treatment', 30998, 322)\n",
      "('Ceramic Composites', 27883, 77)\n",
      "('CMM Composite', 20176, 4807)\n"
     ]
    }
   ],
   "source": [
    "# Find the commodity with the largest profit margin.\n",
    "query = \"\"\"\n",
    "SELECT name, max_sell_price, min_buy_price\n",
    "FROM commodity\n",
    "ORDER BY (max_sell_price - min_buy_price) DESC\n",
    "LIMIT 5\n",
    "\"\"\"\n",
    "\n",
    "cursor.execute(query)\n",
    "\n",
    "results = cursor.fetchall()\n",
    "\n",
    "for x in results:\n",
    "    print(x)"
   ]
  },
  {
   "cell_type": "code",
   "execution_count": 5,
   "metadata": {},
   "outputs": [
    {
     "name": "stdout",
     "output_type": "stream",
     "text": [
      "('LFT 37',)\n"
     ]
    }
   ],
   "source": [
    "# Find the system that sells a given commodity for the lowest price.\n",
    "\n",
    "name = \"Beer\"\n",
    "\n",
    "# get price\n",
    "query = \"\"\"\n",
    "SELECT min_buy_price\n",
    "FROM commodity\n",
    "WHERE name = \"{name}\"\n",
    "\"\"\".format(name=name)\n",
    "\n",
    "cursor.execute(query)\n",
    "\n",
    "results = cursor.fetchall()\n",
    "\n",
    "price = 0\n",
    "\n",
    "for x in results:\n",
    "    price = x[0]\n",
    "\n",
    "# where is it\n",
    "query = \"\"\"\n",
    "SELECT system_populated.name\n",
    "FROM listing\n",
    "JOIN station ON station.id=listing.station_id\n",
    "JOIN system_populated ON station.system_id=system_populated.id\n",
    "JOIN commodity ON listing.commodity_id=commodity.id\n",
    "WHERE commodity.name = \"{name}\" AND listing.buy_price = {price}\n",
    "\"\"\".format(name=name, price=price)\n",
    "\n",
    "cursor.execute(query)\n",
    "\n",
    "results = cursor.fetchall()\n",
    "\n",
    "for x in results:\n",
    "    print(x)"
   ]
  },
  {
   "cell_type": "code",
   "execution_count": 6,
   "metadata": {},
   "outputs": [],
   "source": [
    "# Find the system that buys a given commodity for the highest price.\n",
    "# BROKEN\n",
    "name = \"Beer\"\n",
    "\n",
    "# get price\n",
    "query = \"\"\"\n",
    "SELECT max_sell_price\n",
    "FROM commodity\n",
    "WHERE name = \"{name}\"\n",
    "\"\"\".format(name=name)\n",
    "\n",
    "cursor.execute(query)\n",
    "\n",
    "results = cursor.fetchall()\n",
    "\n",
    "price = 0\n",
    "\n",
    "for x in results:\n",
    "    price = x[0]\n",
    "\n",
    "# where is it\n",
    "query = \"\"\"\n",
    "SELECT system_populated.name\n",
    "FROM listing\n",
    "JOIN station ON station.id=listing.station_id\n",
    "JOIN system_populated ON station.system_id=system_populated.id\n",
    "JOIN commodity ON listing.commodity_id=commodity.id\n",
    "WHERE commodity.name = \"{name}\" AND listing.buy_price = {price}\n",
    "\"\"\".format(name=name, price=price)\n",
    "\n",
    "cursor.execute(query)\n",
    "\n",
    "results = cursor.fetchall()\n",
    "\n",
    "for x in results:\n",
    "    print(x)"
   ]
  },
  {
   "cell_type": "code",
   "execution_count": 56,
   "metadata": {},
   "outputs": [
    {
     "name": "stdout",
     "output_type": "stream",
     "text": [
      "('Muller Station', 2759, 'Nerthus', 14324, 'CMM Composite', 283, 19785, 0, 0)\n",
      "('Muller Station', 2759, 'Nerthus', 14324, 'Ceramic Composites', 115, 3783, 0, 0)\n",
      "('Muller Station', 2759, 'Nerthus', 14324, 'Micro-weave Cooling Hoses', 284, 5950, 0, 0)\n",
      "('Muller Station', 2759, 'Nerthus', 14324, 'Insulating Membrane', 282, 20289, 0, 0)\n",
      "('Muller Station', 2759, 'Nerthus', 14324, 'Superconductors', 24, 10351, 0, 0)\n",
      "('Muller Station', 2759, 'Nerthus', 14324, 'Emergency Power Cells', 288, 6447, 0, 0)\n",
      "('Muller Station', 2759, 'Nerthus', 14324, 'H.E. Suits', 67, 2082, 0, 0)\n",
      "('Muller Station', 2759, 'Nerthus', 14324, 'Micro Controllers', 300, 6663, 0, 0)\n",
      "('Muller Station', 2759, 'Nerthus', 14324, 'Robotics', 70, 3648, 0, 0)\n",
      "('Muller Station', 2759, 'Nerthus', 14324, 'Tritium', 362, 44457, 0, 0)\n"
     ]
    },
    {
     "ename": "ValueError",
     "evalue": "max() arg is an empty sequence",
     "output_type": "error",
     "traceback": [
      "\u001b[1;31m---------------------------------------------------------------------------\u001b[0m",
      "\u001b[1;31mValueError\u001b[0m                                Traceback (most recent call last)",
      "\u001b[1;32m<ipython-input-56-ece767e76a92>\u001b[0m in \u001b[0;36m<module>\u001b[1;34m\u001b[0m\n\u001b[0;32m     61\u001b[0m     \u001b[0mprofit\u001b[0m\u001b[1;33m[\u001b[0m\u001b[0mx\u001b[0m\u001b[1;33m]\u001b[0m \u001b[1;33m=\u001b[0m \u001b[0mmax_sell\u001b[0m\u001b[1;33m[\u001b[0m\u001b[0mx\u001b[0m\u001b[1;33m]\u001b[0m \u001b[1;33m-\u001b[0m \u001b[0mmin_buy\u001b[0m\u001b[1;33m[\u001b[0m\u001b[0mx\u001b[0m\u001b[1;33m]\u001b[0m\u001b[1;33m\u001b[0m\u001b[1;33m\u001b[0m\u001b[0m\n\u001b[0;32m     62\u001b[0m \u001b[1;33m\u001b[0m\u001b[0m\n\u001b[1;32m---> 63\u001b[1;33m \u001b[0mprint\u001b[0m\u001b[1;33m(\u001b[0m\u001b[0mmax\u001b[0m\u001b[1;33m(\u001b[0m\u001b[0mprofit\u001b[0m\u001b[1;33m)\u001b[0m\u001b[1;33m)\u001b[0m\u001b[1;33m\u001b[0m\u001b[1;33m\u001b[0m\u001b[0m\n\u001b[0m\u001b[0;32m     64\u001b[0m \u001b[0mprint\u001b[0m\u001b[1;33m(\u001b[0m\u001b[0mprofit\u001b[0m\u001b[1;33m[\u001b[0m\u001b[0mmax\u001b[0m\u001b[1;33m(\u001b[0m\u001b[0mprofit\u001b[0m\u001b[1;33m)\u001b[0m\u001b[1;33m]\u001b[0m\u001b[1;33m)\u001b[0m\u001b[1;33m\u001b[0m\u001b[1;33m\u001b[0m\u001b[0m\n\u001b[0;32m     65\u001b[0m \u001b[1;33m\u001b[0m\u001b[0m\n",
      "\u001b[1;31mValueError\u001b[0m: max() arg is an empty sequence"
     ]
    }
   ],
   "source": [
    "# Given a system, station, and range - find the best commodity to buy and sell locally.\n",
    "\n",
    "trade_range = 12\n",
    "system_name = \"Nerthus\"\n",
    "\n",
    "# Get System Coords\n",
    "query = \"\"\"\n",
    "SELECT x, y, z\n",
    "FROM system_populated\n",
    "WHERE name = '{name}'\n",
    "\"\"\".format(name=system_name)\n",
    "\n",
    "cursor.execute(query)\n",
    "\n",
    "results = cursor.fetchall()\n",
    "\n",
    "coords = results[0]\n",
    "\n",
    "# Get all stations within range with listings\n",
    "query = \"\"\"\n",
    "SELECT station.name, station.id, sys.name, sys.id, commodity.name, commodity.id, listing.sell_price, listing.buy_price, listing.supply\n",
    "FROM system_populated as sys\n",
    "JOIN station ON station.system_id = sys.id\n",
    "JOIN listing ON station.id = listing.station_id\n",
    "JOIN commodity ON commodity.id=listing.commodity_id\n",
    "WHERE POWER({trade_range}, 2) >= (POWER(sys.x - {x}, 2) + POWER(sys.y - {y}, 2) + POWER(sys.z - {z}, 2))\n",
    "\"\"\".format(trade_range=trade_range, x=coords[0], y=coords[1], z=coords[2])\n",
    "\n",
    "cursor.execute(query)\n",
    "\n",
    "results = cursor.fetchall()\n",
    "\n",
    "stations = []\n",
    "\n",
    "for x in results:\n",
    "    if x[0] == station:\n",
    "        print(x)\n",
    "\n",
    "min_buy = dict()\n",
    "max_sell = dict()\n",
    "profit = dict()\n",
    "\n",
    "for x in results:\n",
    "    if x[8] > 0:\n",
    "        if x[4] in min_buy:\n",
    "            if min_buy[x[4]] > x[7]:\n",
    "                min_buy[x[4]] = x[7]\n",
    "        else:\n",
    "            min_buy[x[4]] = x[7]\n",
    "\n",
    "for x in results:\n",
    "    if x[4] in min_buy:\n",
    "        if x[4] in max_sell:\n",
    "            if max_sell[x[4]] < x[6]:\n",
    "                max_sell[x[4]] = x[6]\n",
    "        else:\n",
    "            max_sell[x[4]] = x[6]\n",
    "            \n",
    "for x in min_buy:\n",
    "    profit[x] = max_sell[x] - min_buy[x]\n",
    "\n",
    "print(max(profit))\n",
    "print(profit[max(profit)])\n",
    "            "
   ]
  },
  {
   "cell_type": "code",
   "execution_count": null,
   "metadata": {},
   "outputs": [],
   "source": []
  },
  {
   "cell_type": "code",
   "execution_count": null,
   "metadata": {},
   "outputs": [],
   "source": []
  },
  {
   "cell_type": "code",
   "execution_count": null,
   "metadata": {},
   "outputs": [],
   "source": []
  }
 ],
 "metadata": {
  "kernelspec": {
   "display_name": "Python 3",
   "language": "python",
   "name": "python3"
  },
  "language_info": {
   "codemirror_mode": {
    "name": "ipython",
    "version": 3
   },
   "file_extension": ".py",
   "mimetype": "text/x-python",
   "name": "python",
   "nbconvert_exporter": "python",
   "pygments_lexer": "ipython3",
   "version": "3.8.3"
  }
 },
 "nbformat": 4,
 "nbformat_minor": 4
}
