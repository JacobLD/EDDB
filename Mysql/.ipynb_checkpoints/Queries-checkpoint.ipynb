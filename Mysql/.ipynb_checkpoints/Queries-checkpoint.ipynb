{
 "cells": [
  {
   "cell_type": "code",
   "execution_count": 1,
   "metadata": {},
   "outputs": [
    {
     "name": "stdout",
     "output_type": "stream",
     "text": [
      "Requirement already satisfied: mysql-connector-python in d:\\anaconda\\lib\\site-packages (8.0.22)\n",
      "Requirement already satisfied: protobuf>=3.0.0 in d:\\anaconda\\lib\\site-packages (from mysql-connector-python) (3.14.0)\n",
      "Requirement already satisfied: six>=1.9 in d:\\anaconda\\lib\\site-packages (from protobuf>=3.0.0->mysql-connector-python) (1.15.0)\n"
     ]
    }
   ],
   "source": [
    "# Install package in the current Jupyter kernel\n",
    "import sys\n",
    "!{sys.executable} -m pip install mysql-connector-python\n",
    "import mysql.connector\n",
    "from tqdm import tqdm"
   ]
  },
  {
   "cell_type": "code",
   "execution_count": 2,
   "metadata": {},
   "outputs": [
    {
     "name": "stdout",
     "output_type": "stream",
     "text": [
      "<mysql.connector.connection.MySQLConnection object at 0x000002B3B65AAE20>\n"
     ]
    }
   ],
   "source": [
    "db = mysql.connector.connect(\n",
    "  host=\"localhost\",\n",
    "  user=\"root\",\n",
    "  password=\"915997582\",\n",
    "  database=\"EDDB\"  \n",
    ")\n",
    "\n",
    "print(db)\n",
    "\n",
    "cursor = db.cursor()"
   ]
  },
  {
   "cell_type": "code",
   "execution_count": 5,
   "metadata": {},
   "outputs": [
    {
     "name": "stdout",
     "output_type": "stream",
     "text": [
      "(10507, 'Independent')\n",
      "(4556, 'Empire')\n",
      "(4386, 'Federation')\n",
      "(1092, 'Alliance')\n",
      "(19, '-1')\n",
      "(9, 'Pilots Federation')\n"
     ]
    }
   ],
   "source": [
    "# How many systems does each faction control\n",
    "query = \"\"\"\n",
    "SELECT COUNT(id), allegiance\n",
    "FROM system_populated\n",
    "GROUP BY allegiance\n",
    "ORDER BY COUNT(id) DESC\n",
    "\"\"\"\n",
    "\n",
    "cursor.execute(query)\n",
    "\n",
    "results = cursor.fetchall()\n",
    "\n",
    "for x in results:\n",
    "    print(x)"
   ]
  },
  {
   "cell_type": "code",
   "execution_count": 6,
   "metadata": {},
   "outputs": [
    {
     "name": "stdout",
     "output_type": "stream",
     "text": [
      "('Tritium', 52455, 4005)\n",
      "('Meta-Alloys', 236737, 190461)\n",
      "('Agronomic Treatment', 30998, 322)\n",
      "('Ceramic Composites', 27883, 77)\n",
      "('CMM Composite', 20176, 4807)\n"
     ]
    }
   ],
   "source": [
    "# Find the commodity with the largest profit margin.\n",
    "query = \"\"\"\n",
    "SELECT name, max_sell_price, min_buy_price\n",
    "FROM commodity\n",
    "ORDER BY (max_sell_price - min_buy_price) DESC\n",
    "LIMIT 5\n",
    "\"\"\"\n",
    "\n",
    "cursor.execute(query)\n",
    "\n",
    "results = cursor.fetchall()\n",
    "\n",
    "for x in results:\n",
    "    print(x)"
   ]
  },
  {
   "cell_type": "code",
   "execution_count": 12,
   "metadata": {},
   "outputs": [
    {
     "name": "stdout",
     "output_type": "stream",
     "text": [
      "('LFT 37',)\n"
     ]
    }
   ],
   "source": [
    "# Find the system that sells a given commodity for the lowest price.\n",
    "\n",
    "name = \"Beer\"\n",
    "\n",
    "# get price\n",
    "query = \"\"\"\n",
    "SELECT min_buy_price\n",
    "FROM commodity\n",
    "WHERE name = \"{name}\"\n",
    "\"\"\".format(name=name)\n",
    "\n",
    "cursor.execute(query)\n",
    "\n",
    "results = cursor.fetchall()\n",
    "\n",
    "price = 0\n",
    "\n",
    "for x in results:\n",
    "    price = x[0]\n",
    "\n",
    "# where is it\n",
    "query = \"\"\"\n",
    "SELECT system_populated.name\n",
    "FROM listing\n",
    "JOIN station ON station.id=listing.station_id\n",
    "JOIN system_populated ON station.system_id=system_populated.id\n",
    "JOIN commodity ON listing.commodity_id=commodity.id\n",
    "WHERE commodity.name = \"{name}\" AND listing.buy_price = {price}\n",
    "\"\"\".format(name=name, price=price)\n",
    "\n",
    "cursor.execute(query)\n",
    "\n",
    "results = cursor.fetchall()\n",
    "\n",
    "for x in results:\n",
    "    print(x)"
   ]
  },
  {
   "cell_type": "code",
   "execution_count": 17,
   "metadata": {},
   "outputs": [
    {
     "name": "stdout",
     "output_type": "stream",
     "text": [
      "(4763,)\n",
      "[]\n"
     ]
    }
   ],
   "source": [
    "# Find the system that buys a given commodity for the highest price.\n",
    "# BROKEN\n",
    "name = \"Beer\"\n",
    "\n",
    "# get price\n",
    "query = \"\"\"\n",
    "SELECT max_sell_price\n",
    "FROM commodity\n",
    "WHERE name = \"{name}\"\n",
    "\"\"\".format(name=name)\n",
    "\n",
    "cursor.execute(query)\n",
    "\n",
    "results = cursor.fetchall()\n",
    "\n",
    "price = 0\n",
    "\n",
    "for x in results:\n",
    "    price = x[0]\n",
    "\n",
    "# where is it\n",
    "query = \"\"\"\n",
    "SELECT system_populated.name\n",
    "FROM listing\n",
    "JOIN station ON station.id=listing.station_id\n",
    "JOIN system_populated ON station.system_id=system_populated.id\n",
    "JOIN commodity ON listing.commodity_id=commodity.id\n",
    "WHERE commodity.name = \"{name}\" AND listing.buy_price = {price}\n",
    "\"\"\".format(name=name, price=price)\n",
    "\n",
    "cursor.execute(query)\n",
    "\n",
    "results = cursor.fetchall()\n",
    "\n",
    "for x in results:\n",
    "    print(x)"
   ]
  },
  {
   "cell_type": "code",
   "execution_count": null,
   "metadata": {},
   "outputs": [],
   "source": []
  },
  {
   "cell_type": "code",
   "execution_count": null,
   "metadata": {},
   "outputs": [],
   "source": []
  },
  {
   "cell_type": "code",
   "execution_count": null,
   "metadata": {},
   "outputs": [],
   "source": []
  },
  {
   "cell_type": "code",
   "execution_count": null,
   "metadata": {},
   "outputs": [],
   "source": []
  }
 ],
 "metadata": {
  "kernelspec": {
   "display_name": "Python 3",
   "language": "python",
   "name": "python3"
  },
  "language_info": {
   "codemirror_mode": {
    "name": "ipython",
    "version": 3
   },
   "file_extension": ".py",
   "mimetype": "text/x-python",
   "name": "python",
   "nbconvert_exporter": "python",
   "pygments_lexer": "ipython3",
   "version": "3.8.3"
  }
 },
 "nbformat": 4,
 "nbformat_minor": 4
}
