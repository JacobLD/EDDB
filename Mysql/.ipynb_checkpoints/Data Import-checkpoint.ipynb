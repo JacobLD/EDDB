{
 "cells": [
  {
   "cell_type": "code",
   "execution_count": 1,
   "metadata": {},
   "outputs": [
    {
     "name": "stdout",
     "output_type": "stream",
     "text": [
      "Requirement already satisfied: tqdm in d:\\anaconda\\lib\\site-packages (4.47.0)\n",
      "Requirement already satisfied: mysql-connector-python in d:\\anaconda\\lib\\site-packages (8.0.22)\n",
      "Requirement already satisfied: protobuf>=3.0.0 in d:\\anaconda\\lib\\site-packages (from mysql-connector-python) (3.14.0)\n",
      "Requirement already satisfied: six>=1.9 in d:\\anaconda\\lib\\site-packages (from protobuf>=3.0.0->mysql-connector-python) (1.15.0)\n"
     ]
    }
   ],
   "source": [
    "import sys\n",
    "!{sys.executable} -m pip install tqdm\n",
    "!{sys.executable} -m pip install mysql-connector-python\n",
    "from tqdm import tqdm\n",
    "import mysql.connector\n",
    "import json\n",
    "import csv"
   ]
  },
  {
   "cell_type": "code",
   "execution_count": 2,
   "metadata": {},
   "outputs": [
    {
     "name": "stdout",
     "output_type": "stream",
     "text": [
      "<mysql.connector.connection.MySQLConnection object at 0x00000176A4D885B0>\n"
     ]
    }
   ],
   "source": [
    "db = mysql.connector.connect(\n",
    "  host=\"localhost\",\n",
    "  user=\"jake\",\n",
    "  password=\"915997582\",\n",
    "  database=\"EDDB\"  \n",
    ")\n",
    "\n",
    "print(db)\n",
    "\n",
    "cursor = db.cursor()"
   ]
  },
  {
   "cell_type": "markdown",
   "metadata": {},
   "source": [
    "<h1>Commodities.json</h1>"
   ]
  },
  {
   "cell_type": "code",
   "execution_count": 3,
   "metadata": {},
   "outputs": [
    {
     "name": "stderr",
     "output_type": "stream",
     "text": [
      "Importing Category data: 100%|██████████| 373/373 [00:00<00:00, 4010.78it/s]\n",
      "Importing commodity data: 100%|██████████| 373/373 [00:02<00:00, 158.17it/s]\n"
     ]
    }
   ],
   "source": [
    "file = \"../data/commodities.json\"\n",
    "data = []\n",
    "with open(file) as openfile:\n",
    "    data = json.load(openfile)\n",
    "    \n",
    "category_ids = set()\n",
    "\n",
    "for x in tqdm(data, desc=\"Importing Category data\"):\n",
    "    if not x['category']['id'] in category_ids:\n",
    "        category_ids.add(x['category']['id'])\n",
    "        insert_statement = \"\"\"\n",
    "        INSERT INTO `category` (`id`, `name`) \n",
    "        VALUES ({},'{}')\n",
    "        \"\"\".format(x['category']['id'], x['category']['name'])\n",
    "        cursor.execute(insert_statement)\n",
    "        db.commit()\n",
    "\n",
    "for x in tqdm(data, desc=\"Importing commodity data\"):\n",
    "    for y in x:\n",
    "        if f\"{x[y]}\" == \"None\":\n",
    "            x[y] = 'NULL'\n",
    "\n",
    "    insert_statement = \"\"\"\n",
    "    INSERT INTO `commodity` (`id`, `name`, `category_id`, `average_price`, `is_rare`, `max_buy_price`, `max_sell_price`, `min_buy_price`, `min_sell_price`, `buy_price_lower_average`, `sell_price_upper_average`, `is_non_marketable`, `ed_id`) \n",
    "    VALUES ({},\"{}\",{},{},{},{},{},{},{},{},{},{},{})\n",
    "    \"\"\".format(x['id'],x['name'],x['category_id'],x['average_price'],x['is_rare'],x['max_buy_price'],x['max_sell_price'],x['min_buy_price'],x['min_sell_price'],x['buy_price_lower_average'],x['sell_price_upper_average'],x['is_non_marketable'],x['ed_id'])\n",
    "    cursor.execute(insert_statement)\n",
    "    db.commit()\n",
    "    \n"
   ]
  },
  {
   "cell_type": "code",
   "execution_count": null,
   "metadata": {},
   "outputs": [],
   "source": []
  },
  {
   "cell_type": "code",
   "execution_count": null,
   "metadata": {},
   "outputs": [],
   "source": []
  },
  {
   "cell_type": "code",
   "execution_count": null,
   "metadata": {},
   "outputs": [],
   "source": []
  },
  {
   "cell_type": "code",
   "execution_count": null,
   "metadata": {},
   "outputs": [],
   "source": []
  },
  {
   "cell_type": "code",
   "execution_count": null,
   "metadata": {},
   "outputs": [],
   "source": []
  },
  {
   "cell_type": "code",
   "execution_count": null,
   "metadata": {},
   "outputs": [],
   "source": []
  },
  {
   "cell_type": "code",
   "execution_count": null,
   "metadata": {},
   "outputs": [],
   "source": []
  },
  {
   "cell_type": "code",
   "execution_count": null,
   "metadata": {},
   "outputs": [],
   "source": []
  },
  {
   "cell_type": "code",
   "execution_count": null,
   "metadata": {},
   "outputs": [],
   "source": []
  },
  {
   "cell_type": "code",
   "execution_count": null,
   "metadata": {},
   "outputs": [],
   "source": []
  },
  {
   "cell_type": "code",
   "execution_count": null,
   "metadata": {},
   "outputs": [],
   "source": []
  },
  {
   "cell_type": "code",
   "execution_count": null,
   "metadata": {},
   "outputs": [],
   "source": []
  }
 ],
 "metadata": {
  "kernelspec": {
   "display_name": "Python 3",
   "language": "python",
   "name": "python3"
  },
  "language_info": {
   "codemirror_mode": {
    "name": "ipython",
    "version": 3
   },
   "file_extension": ".py",
   "mimetype": "text/x-python",
   "name": "python",
   "nbconvert_exporter": "python",
   "pygments_lexer": "ipython3",
   "version": "3.8.3"
  }
 },
 "nbformat": 4,
 "nbformat_minor": 4
}
